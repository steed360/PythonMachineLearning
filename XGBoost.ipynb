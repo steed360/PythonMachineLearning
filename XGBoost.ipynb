{
  "nbformat": 4,
  "nbformat_minor": 0,
  "metadata": {
    "kernelspec": {
      "display_name": "Python 3",
      "language": "python",
      "name": "python3"
    },
    "language_info": {
      "codemirror_mode": {
        "name": "ipython",
        "version": 3
      },
      "file_extension": ".py",
      "mimetype": "text/x-python",
      "name": "python",
      "nbconvert_exporter": "python",
      "pygments_lexer": "ipython3",
      "version": "3.7.6"
    },
    "colab": {
      "name": "XGBoost.ipynb",
      "provenance": [],
      "collapsed_sections": [
        "8r1zoDArDs65",
        "_ZGl7fdYDs7H"
      ]
    }
  },
  "cells": [
    {
      "cell_type": "code",
      "metadata": {
        "id": "yzMC97UqUOjv"
      },
      "source": [
        ""
      ],
      "execution_count": null,
      "outputs": []
    },
    {
      "cell_type": "markdown",
      "metadata": {
        "id": "8nrCzodMDs6K"
      },
      "source": [
        "# Tasks"
      ]
    },
    {
      "cell_type": "markdown",
      "metadata": {
        "id": "s-E3peVXDs6O"
      },
      "source": [
        "1) <a href='#DECISION_TREE'>  Data Prep</a> <BR>\n",
        "2) <a href='#CROSS_VALIDATION'>Simple xgboost Model Fit</a><br>\n",
        "3)  <a href='#CROSS_VALIDATION'>Grid Search Fit</a><br>\n",
        "4) <a href='#TWO_PARAMS'>Test Score</a>"
      ]
    },
    {
      "cell_type": "markdown",
      "metadata": {
        "id": "NltW_krsNEJH"
      },
      "source": [
        "<a id='CROSS_VALIDATION'>Data Prep</a>"
      ]
    },
    {
      "cell_type": "code",
      "metadata": {
        "id": "kumiLgahMSkG"
      },
      "source": [
        "import xgboost\n"
      ],
      "execution_count": 1,
      "outputs": []
    },
    {
      "cell_type": "code",
      "metadata": {
        "id": "3th54LTjDs6R"
      },
      "source": [
        "import numpy as np\n",
        "import pandas as pd\n",
        "import matplotlib.pyplot as plt\n",
        "%matplotlib inline\n",
        "import matplotlib as mpl\n",
        "mpl.rcParams['figure.dpi'] = 100\n",
        "import graphviz"
      ],
      "execution_count": 2,
      "outputs": []
    },
    {
      "cell_type": "code",
      "metadata": {
        "id": "1Bs5W6omDs6T"
      },
      "source": [
        "#df = pd.read_csv ('chapter_1_cleaned_data.csv')\n",
        "import requests\n",
        "url = 'https://raw.githubusercontent.com/steed360/PythonMachineLearning/main/chapter_1_cleaned_data.csv'\n",
        "#s = requests.get(url).content\n",
        "#c=pd.read_csv(io.StringIO(s.decode('utf-8')))\n",
        "df = pd.read_csv ( url)\n"
      ],
      "execution_count": 3,
      "outputs": []
    },
    {
      "cell_type": "markdown",
      "metadata": {
        "id": "Od6lK-1MDs6V"
      },
      "source": [
        "Get a list of the column names"
      ]
    },
    {
      "cell_type": "code",
      "metadata": {
        "colab": {
          "base_uri": "https://localhost:8080/"
        },
        "id": "jc8-aAazDs6W",
        "outputId": "10a28733-847f-4609-85a9-27d98c8fd23a"
      },
      "source": [
        "features_response = df.columns.tolist ()\n",
        "features_response"
      ],
      "execution_count": 4,
      "outputs": [
        {
          "output_type": "execute_result",
          "data": {
            "text/plain": [
              "['Unnamed: 0',\n",
              " 'ID',\n",
              " 'LIMIT_BAL',\n",
              " 'SEX',\n",
              " 'EDUCATION',\n",
              " 'MARRIAGE',\n",
              " 'AGE',\n",
              " 'PAY_1',\n",
              " 'PAY_2',\n",
              " 'PAY_3',\n",
              " 'PAY_4',\n",
              " 'PAY_5',\n",
              " 'PAY_6',\n",
              " 'BILL_AMT1',\n",
              " 'BILL_AMT2',\n",
              " 'BILL_AMT3',\n",
              " 'BILL_AMT4',\n",
              " 'BILL_AMT5',\n",
              " 'BILL_AMT6',\n",
              " 'PAY_AMT1',\n",
              " 'PAY_AMT2',\n",
              " 'PAY_AMT3',\n",
              " 'PAY_AMT4',\n",
              " 'PAY_AMT5',\n",
              " 'PAY_AMT6',\n",
              " 'default payment next month',\n",
              " 'EDUCATION_2',\n",
              " 'grad school',\n",
              " 'high school',\n",
              " 'other',\n",
              " 'uni']"
            ]
          },
          "metadata": {
            "tags": []
          },
          "execution_count": 4
        }
      ]
    },
    {
      "cell_type": "code",
      "metadata": {
        "colab": {
          "base_uri": "https://localhost:8080/"
        },
        "id": "CC0USOgMDs6Y",
        "outputId": "fc8ac4c2-5849-48b5-9642-7bfae4b88370"
      },
      "source": [
        "lst_items_to_remove = [features_response[0]] +['ID', 'SEX','PAY_2','PAY_3','PAY_4','PAY_5','PAY_6','EDUCATION_2', 'grad school', 'high school', 'other', 'uni']\n",
        "lst_items_to_remove"
      ],
      "execution_count": 5,
      "outputs": [
        {
          "output_type": "execute_result",
          "data": {
            "text/plain": [
              "['Unnamed: 0',\n",
              " 'ID',\n",
              " 'SEX',\n",
              " 'PAY_2',\n",
              " 'PAY_3',\n",
              " 'PAY_4',\n",
              " 'PAY_5',\n",
              " 'PAY_6',\n",
              " 'EDUCATION_2',\n",
              " 'grad school',\n",
              " 'high school',\n",
              " 'other',\n",
              " 'uni']"
            ]
          },
          "metadata": {
            "tags": []
          },
          "execution_count": 5
        }
      ]
    },
    {
      "cell_type": "code",
      "metadata": {
        "scrolled": true,
        "colab": {
          "base_uri": "https://localhost:8080/"
        },
        "id": "qSvi9QHRDs6a",
        "outputId": "1f383455-8afb-4149-9239-1cda29556393"
      },
      "source": [
        "features_response = [item for item in features_response if item not in lst_items_to_remove]\n",
        "features_response"
      ],
      "execution_count": 6,
      "outputs": [
        {
          "output_type": "execute_result",
          "data": {
            "text/plain": [
              "['LIMIT_BAL',\n",
              " 'EDUCATION',\n",
              " 'MARRIAGE',\n",
              " 'AGE',\n",
              " 'PAY_1',\n",
              " 'BILL_AMT1',\n",
              " 'BILL_AMT2',\n",
              " 'BILL_AMT3',\n",
              " 'BILL_AMT4',\n",
              " 'BILL_AMT5',\n",
              " 'BILL_AMT6',\n",
              " 'PAY_AMT1',\n",
              " 'PAY_AMT2',\n",
              " 'PAY_AMT3',\n",
              " 'PAY_AMT4',\n",
              " 'PAY_AMT5',\n",
              " 'PAY_AMT6',\n",
              " 'default payment next month']"
            ]
          },
          "metadata": {
            "tags": []
          },
          "execution_count": 6
        }
      ]
    },
    {
      "cell_type": "code",
      "metadata": {
        "id": "VERJOm_6Ds6e"
      },
      "source": [
        "from sklearn.model_selection import train_test_split\n",
        "from sklearn import tree"
      ],
      "execution_count": 7,
      "outputs": []
    },
    {
      "cell_type": "code",
      "metadata": {
        "id": "3BJXwzoiDs6g"
      },
      "source": [
        "X_train, X_test, y_train, y_test = train_test_split ( df[features_response[:-1]]  , df['default payment next month'] , test_size = 0.2, random_state = 24)"
      ],
      "execution_count": 8,
      "outputs": []
    },
    {
      "cell_type": "code",
      "metadata": {
        "colab": {
          "base_uri": "https://localhost:8080/"
        },
        "id": "uUxRKl9EDs6i",
        "outputId": "95aad29b-9f61-4343-fa52-068d3768bf07"
      },
      "source": [
        "print (X_train.shape, y_train.shape)"
      ],
      "execution_count": 9,
      "outputs": [
        {
          "output_type": "stream",
          "text": [
            "(21331, 17) (21331,)\n"
          ],
          "name": "stdout"
        }
      ]
    },
    {
      "cell_type": "markdown",
      "metadata": {
        "id": "gbZO2IG8NOKk"
      },
      "source": [
        "<a id='CROSS_VALIDATION'>Simple xgboost fit</a>"
      ]
    },
    {
      "cell_type": "code",
      "metadata": {
        "id": "ut6EEvOiDs6j"
      },
      "source": [
        "# First XGBoost model for Pima Indians dataset\n",
        "from numpy import loadtxt\n",
        "from xgboost import XGBClassifier\n",
        "from sklearn.model_selection import train_test_split\n",
        "from sklearn.metrics import accuracy_score\n",
        "from sklearn.metrics import roc_auc_score\n",
        "\n",
        "seed = 7\n",
        "# fit model no training data\n",
        "model = XGBClassifier()\n",
        "model.fit(X_train, y_train)\n",
        "\n",
        "# make predictions for test data\n",
        "predict_proba =  model.predict_proba (X_test ) \n",
        "#fpr, tpr, thresholds =  roc_curve (y_cv_test, predict_proba[:,1])\n",
        "\n",
        "roc_score = roc_auc_score (y_test, predict_proba[:,1])    "
      ],
      "execution_count": 10,
      "outputs": []
    },
    {
      "cell_type": "code",
      "metadata": {
        "colab": {
          "base_uri": "https://localhost:8080/",
          "height": 399
        },
        "id": "HCKTK2BRO8Z4",
        "outputId": "f2bfbbbb-1912-4c54-92e2-849d963afbcb"
      },
      "source": [
        "from sklearn.metrics import roc_curve\n",
        "fpr, tpr, thresholds = roc_obj = roc_curve (y_test, predict_proba[:,1])\n",
        "\n",
        "plt.plot (fpr, tpr, 'g*-')\n",
        "plt.plot ( [0,1], [0,1], 'r--')\n",
        "\n",
        "plt.xlabel ('FPR')\n",
        "plt.ylabel ('TPR')"
      ],
      "execution_count": 11,
      "outputs": [
        {
          "output_type": "execute_result",
          "data": {
            "text/plain": [
              "Text(0, 0.5, 'TPR')"
            ]
          },
          "metadata": {
            "tags": []
          },
          "execution_count": 11
        },
        {
          "output_type": "display_data",
          "data": {
            "image/png": "[encoded data removed]",
            "text/plain": [
              "<Figure size 600x400 with 1 Axes>"
            ]
          },
          "metadata": {
            "tags": [],
            "needs_background": "light"
          }
        }
      ]
    },
    {
      "cell_type": "code",
      "metadata": {
        "colab": {
          "base_uri": "https://localhost:8080/"
        },
        "id": "0X3UHcnBOjL1",
        "outputId": "936041c4-2028-4966-c36f-c9ba0629fd9a"
      },
      "source": [
        "print (roc_score)"
      ],
      "execution_count": 12,
      "outputs": [
        {
          "output_type": "stream",
          "text": [
            "0.7782671134514122\n"
          ],
          "name": "stdout"
        }
      ]
    },
    {
      "cell_type": "markdown",
      "metadata": {
        "id": "ENnGAq0zOqz_"
      },
      "source": [
        "<a id='CROSS_VALIDATION'>xgboost Cross Validation</a>"
      ]
    },
    {
      "cell_type": "markdown",
      "metadata": {
        "id": "_ZGl7fdYDs7H"
      },
      "source": [
        "#### Apply a random forest"
      ]
    },
    {
      "cell_type": "code",
      "metadata": {
        "id": "anXHnfohDs7I",
        "colab": {
          "base_uri": "https://localhost:8080/"
        },
        "outputId": "da171788-4fe3-4357-c377-aae8d9f3fbb7"
      },
      "source": [
        "#params = {\"learning_rate\"    : [0.05, 0.10, 0.15, 0.20, 0.25, 0.30 ] ,\n",
        "# \"max_depth\"        : [ 3, 4, 5, 6, 8, 10, 12, 15],\n",
        "# \"min_child_weight\" : [ 1, 3, 5, 7 ],\n",
        "# \"gamma\"            : [ 0.0, 0.1, 0.2 , 0.3, 0.4 ],\n",
        "# \"colsample_bytree\" : [ 0.3, 0.4, 0.5 , 0.7 ] }\n",
        "\n",
        "\n",
        "params ={\"learning_rate\"    : [0.05, 0.3 ] ,\n",
        " \"max_depth\"        : [ 3, 8, 15],\n",
        " \"min_child_weight\" : [ 1, 3, 7 ],\n",
        " \"gamma\"            : [ 0.0, 0.2, 0.4 ],\n",
        " \"colsample_bytree\" : [ 0.3, 0.7 ] }\n",
        "\n",
        "params"
      ],
      "execution_count": 13,
      "outputs": [
        {
          "output_type": "execute_result",
          "data": {
            "text/plain": [
              "{'colsample_bytree': [0.3, 0.7],\n",
              " 'gamma': [0.0, 0.2, 0.4],\n",
              " 'learning_rate': [0.05, 0.3],\n",
              " 'max_depth': [3, 8, 15],\n",
              " 'min_child_weight': [1, 3, 7]}"
            ]
          },
          "metadata": {
            "tags": []
          },
          "execution_count": 13
        }
      ]
    },
    {
      "cell_type": "code",
      "metadata": {
        "id": "D-kkBuuVDs7J"
      },
      "source": [
        "mod2 = XGBClassifier()"
      ],
      "execution_count": 14,
      "outputs": []
    },
    {
      "cell_type": "code",
      "metadata": {
        "id": "3sIEkVKLDs7N",
        "colab": {
          "base_uri": "https://localhost:8080/"
        },
        "outputId": "3b663048-5300-4263-cb87-c2049c90bdef"
      },
      "source": [
        "from sklearn.model_selection import GridSearchCV\n",
        "cv_rf_ex = GridSearchCV ( mod2, param_grid = params, scoring= 'roc_auc')\n",
        "cv_rf_ex.cv = 5\n",
        "cv_rf_ex.fit ( X_train, y_train)"
      ],
      "execution_count": 15,
      "outputs": [
        {
          "output_type": "execute_result",
          "data": {
            "text/plain": [
              "GridSearchCV(cv=5, error_score=nan,\n",
              "             estimator=XGBClassifier(base_score=0.5, booster='gbtree',\n",
              "                                     colsample_bylevel=1, colsample_bynode=1,\n",
              "                                     colsample_bytree=1, gamma=0,\n",
              "                                     learning_rate=0.1, max_delta_step=0,\n",
              "                                     max_depth=3, min_child_weight=1,\n",
              "                                     missing=None, n_estimators=100, n_jobs=1,\n",
              "                                     nthread=None, objective='binary:logistic',\n",
              "                                     random_state=0, reg_alpha=0, reg_lambda=1,\n",
              "                                     scale_pos_weight=1, seed=None, silent=None,\n",
              "                                     subsample=1, verbosity=1),\n",
              "             iid='deprecated', n_jobs=None,\n",
              "             param_grid={'colsample_bytree': [0.3, 0.7],\n",
              "                         'gamma': [0.0, 0.2, 0.4], 'learning_rate': [0.05, 0.3],\n",
              "                         'max_depth': [3, 8, 15],\n",
              "                         'min_child_weight': [1, 3, 7]},\n",
              "             pre_dispatch='2*n_jobs', refit=True, return_train_score=False,\n",
              "             scoring='roc_auc', verbose=0)"
            ]
          },
          "metadata": {
            "tags": []
          },
          "execution_count": 15
        }
      ]
    },
    {
      "cell_type": "code",
      "metadata": {
        "id": "uhK-PYqKDs7R"
      },
      "source": [
        "import pandas as pd\n",
        "cv_rf_ex_results_df = pd.DataFrame ( cv_rf_ex.cv_results_)"
      ],
      "execution_count": 16,
      "outputs": []
    },
    {
      "cell_type": "code",
      "metadata": {
        "id": "VNJOkr1MDs7S",
        "colab": {
          "base_uri": "https://localhost:8080/",
          "height": 722
        },
        "outputId": "a88e2d34-1bed-47bb-95eb-cce8d66061a5"
      },
      "source": [
        "cv_rf_ex_results_df.head(10)"
      ],
      "execution_count": 17,
      "outputs": [
        {
          "output_type": "execute_result",
          "data": {
            "text/html": [
              "<div>\n",
              "<style scoped>\n",
              "    .dataframe tbody tr th:only-of-type {\n",
              "        vertical-align: middle;\n",
              "    }\n",
              "\n",
              "    .dataframe tbody tr th {\n",
              "        vertical-align: top;\n",
              "    }\n",
              "\n",
              "    .dataframe thead th {\n",
              "        text-align: right;\n",
              "    }\n",
              "</style>\n",
              "<table border=\"1\" class=\"dataframe\">\n",
              "  <thead>\n",
              "    <tr style=\"text-align: right;\">\n",
              "      <th></th>\n",
              "      <th>mean_fit_time</th>\n",
              "      <th>std_fit_time</th>\n",
              "      <th>mean_score_time</th>\n",
              "      <th>std_score_time</th>\n",
              "      <th>param_colsample_bytree</th>\n",
              "      <th>param_gamma</th>\n",
              "      <th>param_learning_rate</th>\n",
              "      <th>param_max_depth</th>\n",
              "      <th>param_min_child_weight</th>\n",
              "      <th>params</th>\n",
              "      <th>split0_test_score</th>\n",
              "      <th>split1_test_score</th>\n",
              "      <th>split2_test_score</th>\n",
              "      <th>split3_test_score</th>\n",
              "      <th>split4_test_score</th>\n",
              "      <th>mean_test_score</th>\n",
              "      <th>std_test_score</th>\n",
              "      <th>rank_test_score</th>\n",
              "    </tr>\n",
              "  </thead>\n",
              "  <tbody>\n",
              "    <tr>\n",
              "      <th>0</th>\n",
              "      <td>0.880820</td>\n",
              "      <td>0.009030</td>\n",
              "      <td>0.018215</td>\n",
              "      <td>0.000524</td>\n",
              "      <td>0.3</td>\n",
              "      <td>0</td>\n",
              "      <td>0.05</td>\n",
              "      <td>3</td>\n",
              "      <td>1</td>\n",
              "      <td>{'colsample_bytree': 0.3, 'gamma': 0.0, 'learn...</td>\n",
              "      <td>0.764152</td>\n",
              "      <td>0.769204</td>\n",
              "      <td>0.770993</td>\n",
              "      <td>0.790138</td>\n",
              "      <td>0.773327</td>\n",
              "      <td>0.773563</td>\n",
              "      <td>0.008820</td>\n",
              "      <td>24</td>\n",
              "    </tr>\n",
              "    <tr>\n",
              "      <th>1</th>\n",
              "      <td>0.865142</td>\n",
              "      <td>0.007748</td>\n",
              "      <td>0.018236</td>\n",
              "      <td>0.000897</td>\n",
              "      <td>0.3</td>\n",
              "      <td>0</td>\n",
              "      <td>0.05</td>\n",
              "      <td>3</td>\n",
              "      <td>3</td>\n",
              "      <td>{'colsample_bytree': 0.3, 'gamma': 0.0, 'learn...</td>\n",
              "      <td>0.763731</td>\n",
              "      <td>0.769447</td>\n",
              "      <td>0.771055</td>\n",
              "      <td>0.789526</td>\n",
              "      <td>0.773231</td>\n",
              "      <td>0.773398</td>\n",
              "      <td>0.008657</td>\n",
              "      <td>26</td>\n",
              "    </tr>\n",
              "    <tr>\n",
              "      <th>2</th>\n",
              "      <td>0.862161</td>\n",
              "      <td>0.004947</td>\n",
              "      <td>0.017893</td>\n",
              "      <td>0.000121</td>\n",
              "      <td>0.3</td>\n",
              "      <td>0</td>\n",
              "      <td>0.05</td>\n",
              "      <td>3</td>\n",
              "      <td>7</td>\n",
              "      <td>{'colsample_bytree': 0.3, 'gamma': 0.0, 'learn...</td>\n",
              "      <td>0.763886</td>\n",
              "      <td>0.769384</td>\n",
              "      <td>0.771071</td>\n",
              "      <td>0.790167</td>\n",
              "      <td>0.773706</td>\n",
              "      <td>0.773643</td>\n",
              "      <td>0.008866</td>\n",
              "      <td>20</td>\n",
              "    </tr>\n",
              "    <tr>\n",
              "      <th>3</th>\n",
              "      <td>2.055457</td>\n",
              "      <td>0.014734</td>\n",
              "      <td>0.043202</td>\n",
              "      <td>0.000341</td>\n",
              "      <td>0.3</td>\n",
              "      <td>0</td>\n",
              "      <td>0.05</td>\n",
              "      <td>8</td>\n",
              "      <td>1</td>\n",
              "      <td>{'colsample_bytree': 0.3, 'gamma': 0.0, 'learn...</td>\n",
              "      <td>0.770272</td>\n",
              "      <td>0.775137</td>\n",
              "      <td>0.770995</td>\n",
              "      <td>0.788582</td>\n",
              "      <td>0.772290</td>\n",
              "      <td>0.775455</td>\n",
              "      <td>0.006770</td>\n",
              "      <td>16</td>\n",
              "    </tr>\n",
              "    <tr>\n",
              "      <th>4</th>\n",
              "      <td>2.043221</td>\n",
              "      <td>0.008880</td>\n",
              "      <td>0.043228</td>\n",
              "      <td>0.000362</td>\n",
              "      <td>0.3</td>\n",
              "      <td>0</td>\n",
              "      <td>0.05</td>\n",
              "      <td>8</td>\n",
              "      <td>3</td>\n",
              "      <td>{'colsample_bytree': 0.3, 'gamma': 0.0, 'learn...</td>\n",
              "      <td>0.773106</td>\n",
              "      <td>0.775318</td>\n",
              "      <td>0.772227</td>\n",
              "      <td>0.787008</td>\n",
              "      <td>0.772701</td>\n",
              "      <td>0.776072</td>\n",
              "      <td>0.005570</td>\n",
              "      <td>14</td>\n",
              "    </tr>\n",
              "    <tr>\n",
              "      <th>5</th>\n",
              "      <td>2.023436</td>\n",
              "      <td>0.015179</td>\n",
              "      <td>0.043571</td>\n",
              "      <td>0.000786</td>\n",
              "      <td>0.3</td>\n",
              "      <td>0</td>\n",
              "      <td>0.05</td>\n",
              "      <td>8</td>\n",
              "      <td>7</td>\n",
              "      <td>{'colsample_bytree': 0.3, 'gamma': 0.0, 'learn...</td>\n",
              "      <td>0.774776</td>\n",
              "      <td>0.776377</td>\n",
              "      <td>0.772031</td>\n",
              "      <td>0.787607</td>\n",
              "      <td>0.774604</td>\n",
              "      <td>0.777079</td>\n",
              "      <td>0.005445</td>\n",
              "      <td>9</td>\n",
              "    </tr>\n",
              "    <tr>\n",
              "      <th>6</th>\n",
              "      <td>3.978791</td>\n",
              "      <td>0.023287</td>\n",
              "      <td>0.094765</td>\n",
              "      <td>0.001128</td>\n",
              "      <td>0.3</td>\n",
              "      <td>0</td>\n",
              "      <td>0.05</td>\n",
              "      <td>15</td>\n",
              "      <td>1</td>\n",
              "      <td>{'colsample_bytree': 0.3, 'gamma': 0.0, 'learn...</td>\n",
              "      <td>0.761278</td>\n",
              "      <td>0.764230</td>\n",
              "      <td>0.758046</td>\n",
              "      <td>0.776610</td>\n",
              "      <td>0.761679</td>\n",
              "      <td>0.764369</td>\n",
              "      <td>0.006428</td>\n",
              "      <td>71</td>\n",
              "    </tr>\n",
              "    <tr>\n",
              "      <th>7</th>\n",
              "      <td>3.839819</td>\n",
              "      <td>0.012972</td>\n",
              "      <td>0.079594</td>\n",
              "      <td>0.000468</td>\n",
              "      <td>0.3</td>\n",
              "      <td>0</td>\n",
              "      <td>0.05</td>\n",
              "      <td>15</td>\n",
              "      <td>3</td>\n",
              "      <td>{'colsample_bytree': 0.3, 'gamma': 0.0, 'learn...</td>\n",
              "      <td>0.766231</td>\n",
              "      <td>0.767966</td>\n",
              "      <td>0.759841</td>\n",
              "      <td>0.775040</td>\n",
              "      <td>0.762756</td>\n",
              "      <td>0.766367</td>\n",
              "      <td>0.005166</td>\n",
              "      <td>67</td>\n",
              "    </tr>\n",
              "    <tr>\n",
              "      <th>8</th>\n",
              "      <td>3.647403</td>\n",
              "      <td>0.016968</td>\n",
              "      <td>0.069323</td>\n",
              "      <td>0.000864</td>\n",
              "      <td>0.3</td>\n",
              "      <td>0</td>\n",
              "      <td>0.05</td>\n",
              "      <td>15</td>\n",
              "      <td>7</td>\n",
              "      <td>{'colsample_bytree': 0.3, 'gamma': 0.0, 'learn...</td>\n",
              "      <td>0.770875</td>\n",
              "      <td>0.774058</td>\n",
              "      <td>0.765172</td>\n",
              "      <td>0.775292</td>\n",
              "      <td>0.766064</td>\n",
              "      <td>0.770292</td>\n",
              "      <td>0.004089</td>\n",
              "      <td>60</td>\n",
              "    </tr>\n",
              "    <tr>\n",
              "      <th>9</th>\n",
              "      <td>0.838695</td>\n",
              "      <td>0.003720</td>\n",
              "      <td>0.018216</td>\n",
              "      <td>0.000340</td>\n",
              "      <td>0.3</td>\n",
              "      <td>0</td>\n",
              "      <td>0.3</td>\n",
              "      <td>3</td>\n",
              "      <td>1</td>\n",
              "      <td>{'colsample_bytree': 0.3, 'gamma': 0.0, 'learn...</td>\n",
              "      <td>0.766338</td>\n",
              "      <td>0.772110</td>\n",
              "      <td>0.767874</td>\n",
              "      <td>0.779511</td>\n",
              "      <td>0.770395</td>\n",
              "      <td>0.771246</td>\n",
              "      <td>0.004588</td>\n",
              "      <td>49</td>\n",
              "    </tr>\n",
              "  </tbody>\n",
              "</table>\n",
              "</div>"
            ],
            "text/plain": [
              "   mean_fit_time  std_fit_time  ...  std_test_score  rank_test_score\n",
              "0       0.880820      0.009030  ...        0.008820               24\n",
              "1       0.865142      0.007748  ...        0.008657               26\n",
              "2       0.862161      0.004947  ...        0.008866               20\n",
              "3       2.055457      0.014734  ...        0.006770               16\n",
              "4       2.043221      0.008880  ...        0.005570               14\n",
              "5       2.023436      0.015179  ...        0.005445                9\n",
              "6       3.978791      0.023287  ...        0.006428               71\n",
              "7       3.839819      0.012972  ...        0.005166               67\n",
              "8       3.647403      0.016968  ...        0.004089               60\n",
              "9       0.838695      0.003720  ...        0.004588               49\n",
              "\n",
              "[10 rows x 18 columns]"
            ]
          },
          "metadata": {
            "tags": []
          },
          "execution_count": 17
        }
      ]
    },
    {
      "cell_type": "code",
      "metadata": {
        "id": "Mqze1dX_Ds7U",
        "colab": {
          "base_uri": "https://localhost:8080/"
        },
        "outputId": "c7e2b260-c6f8-4163-ffcf-0757dba673c3"
      },
      "source": [
        "cv_rf_ex.best_params_"
      ],
      "execution_count": 18,
      "outputs": [
        {
          "output_type": "execute_result",
          "data": {
            "text/plain": [
              "{'colsample_bytree': 0.7,\n",
              " 'gamma': 0.4,\n",
              " 'learning_rate': 0.05,\n",
              " 'max_depth': 8,\n",
              " 'min_child_weight': 3}"
            ]
          },
          "metadata": {
            "tags": []
          },
          "execution_count": 18
        }
      ]
    },
    {
      "cell_type": "code",
      "metadata": {
        "id": "SqzSLvuFDs7V",
        "colab": {
          "base_uri": "https://localhost:8080/",
          "height": 355
        },
        "outputId": "ffef80d3-813c-4bdb-826e-fbe515cea4fb"
      },
      "source": [
        "df_feature_importance = pd.DataFrame (  { 'Feature name': features_response[:-1],\n",
        "                                         'Importance'   : cv_rf_ex.best_estimator_.feature_importances_\n",
        "                                        })\n",
        "\n",
        "df_feature_importance.sort_values ('Importance', ascending= False)[0:10]"
      ],
      "execution_count": 19,
      "outputs": [
        {
          "output_type": "execute_result",
          "data": {
            "text/html": [
              "<div>\n",
              "<style scoped>\n",
              "    .dataframe tbody tr th:only-of-type {\n",
              "        vertical-align: middle;\n",
              "    }\n",
              "\n",
              "    .dataframe tbody tr th {\n",
              "        vertical-align: top;\n",
              "    }\n",
              "\n",
              "    .dataframe thead th {\n",
              "        text-align: right;\n",
              "    }\n",
              "</style>\n",
              "<table border=\"1\" class=\"dataframe\">\n",
              "  <thead>\n",
              "    <tr style=\"text-align: right;\">\n",
              "      <th></th>\n",
              "      <th>Feature name</th>\n",
              "      <th>Importance</th>\n",
              "    </tr>\n",
              "  </thead>\n",
              "  <tbody>\n",
              "    <tr>\n",
              "      <th>4</th>\n",
              "      <td>PAY_1</td>\n",
              "      <td>0.658891</td>\n",
              "    </tr>\n",
              "    <tr>\n",
              "      <th>0</th>\n",
              "      <td>LIMIT_BAL</td>\n",
              "      <td>0.034337</td>\n",
              "    </tr>\n",
              "    <tr>\n",
              "      <th>12</th>\n",
              "      <td>PAY_AMT2</td>\n",
              "      <td>0.026378</td>\n",
              "    </tr>\n",
              "    <tr>\n",
              "      <th>11</th>\n",
              "      <td>PAY_AMT1</td>\n",
              "      <td>0.024705</td>\n",
              "    </tr>\n",
              "    <tr>\n",
              "      <th>13</th>\n",
              "      <td>PAY_AMT3</td>\n",
              "      <td>0.024143</td>\n",
              "    </tr>\n",
              "    <tr>\n",
              "      <th>8</th>\n",
              "      <td>BILL_AMT4</td>\n",
              "      <td>0.021760</td>\n",
              "    </tr>\n",
              "    <tr>\n",
              "      <th>5</th>\n",
              "      <td>BILL_AMT1</td>\n",
              "      <td>0.021739</td>\n",
              "    </tr>\n",
              "    <tr>\n",
              "      <th>6</th>\n",
              "      <td>BILL_AMT2</td>\n",
              "      <td>0.021144</td>\n",
              "    </tr>\n",
              "    <tr>\n",
              "      <th>7</th>\n",
              "      <td>BILL_AMT3</td>\n",
              "      <td>0.021018</td>\n",
              "    </tr>\n",
              "    <tr>\n",
              "      <th>14</th>\n",
              "      <td>PAY_AMT4</td>\n",
              "      <td>0.020745</td>\n",
              "    </tr>\n",
              "  </tbody>\n",
              "</table>\n",
              "</div>"
            ],
            "text/plain": [
              "   Feature name  Importance\n",
              "4         PAY_1    0.658891\n",
              "0     LIMIT_BAL    0.034337\n",
              "12     PAY_AMT2    0.026378\n",
              "11     PAY_AMT1    0.024705\n",
              "13     PAY_AMT3    0.024143\n",
              "8     BILL_AMT4    0.021760\n",
              "5     BILL_AMT1    0.021739\n",
              "6     BILL_AMT2    0.021144\n",
              "7     BILL_AMT3    0.021018\n",
              "14     PAY_AMT4    0.020745"
            ]
          },
          "metadata": {
            "tags": []
          },
          "execution_count": 19
        }
      ]
    },
    {
      "cell_type": "markdown",
      "metadata": {
        "id": "GTtZvipADs7W"
      },
      "source": [
        "<a id='CROSS_VALIDATION'>Get the Test Score</a>"
      ]
    },
    {
      "cell_type": "code",
      "metadata": {
        "id": "zqNxcL9qDs7X"
      },
      "source": [
        "mod3 = XGBClassifier()\n",
        "\n",
        "mod3.colsample_bytree     = 0.7\n",
        "mod3.gamma                = 0.4\n",
        "mod3.learning_rate        = 0.05\n",
        "mod3.max_depth            = 8\n",
        "mod3.min_child_weight     = 3"
      ],
      "execution_count": 20,
      "outputs": []
    },
    {
      "cell_type": "code",
      "metadata": {
        "id": "aNKvtXGdDs7X",
        "colab": {
          "base_uri": "https://localhost:8080/"
        },
        "outputId": "cecc5055-b890-4b1e-9f30-bb21635969e0"
      },
      "source": [
        "mod3.fit ( X_test, y_test)"
      ],
      "execution_count": 21,
      "outputs": [
        {
          "output_type": "execute_result",
          "data": {
            "text/plain": [
              "XGBClassifier(base_score=0.5, booster='gbtree', colsample_bylevel=1,\n",
              "              colsample_bynode=1, colsample_bytree=0.7, gamma=0.4,\n",
              "              learning_rate=0.05, max_delta_step=0, max_depth=8,\n",
              "              min_child_weight=3, missing=None, n_estimators=100, n_jobs=1,\n",
              "              nthread=None, objective='binary:logistic', random_state=0,\n",
              "              reg_alpha=0, reg_lambda=1, scale_pos_weight=1, seed=None,\n",
              "              silent=None, subsample=1, verbosity=1)"
            ]
          },
          "metadata": {
            "tags": []
          },
          "execution_count": 21
        }
      ]
    },
    {
      "cell_type": "code",
      "metadata": {
        "id": "9uzqZeGvDs7Z",
        "colab": {
          "base_uri": "https://localhost:8080/"
        },
        "outputId": "364954b6-8d56-4cb3-8434-bd608b7b331b"
      },
      "source": [
        "predict_proba =  mod3.predict_proba ( X_test ) \n",
        "#fpr, tpr, thresholds =  roc_curve (y_cv_test, predict_proba[:,1])\n",
        "roc_score = roc_auc_score (y_test, predict_proba[:,1])    \n",
        "print (roc_score)"
      ],
      "execution_count": 22,
      "outputs": [
        {
          "output_type": "stream",
          "text": [
            "0.9603920971321641\n"
          ],
          "name": "stdout"
        }
      ]
    },
    {
      "cell_type": "code",
      "metadata": {
        "colab": {
          "base_uri": "https://localhost:8080/",
          "height": 399
        },
        "id": "jaLjU8Md1Zpa",
        "outputId": "dc811b8d-dde6-4fe3-e119-f83ff1e9ee67"
      },
      "source": [
        "from sklearn.metrics import roc_curve\n",
        "fpr, tpr, thresholds = roc_obj = roc_curve (y_test, predict_proba[:,1])\n",
        "plt.plot (fpr, tpr, 'g*-')\n",
        "plt.plot ( [0,1], [0,1], 'r--')\n",
        "plt.xlabel ('FPR')\n",
        "plt.ylabel ('TPR')"
      ],
      "execution_count": 24,
      "outputs": [
        {
          "output_type": "execute_result",
          "data": {
            "text/plain": [
              "Text(0, 0.5, 'TPR')"
            ]
          },
          "metadata": {
            "tags": []
          },
          "execution_count": 24
        },
        {
          "output_type": "display_data",
          "data": {
            "image/png": "[encoded data removed]",
            "text/plain": [
              "<Figure size 600x400 with 1 Axes>"
            ]
          },
          "metadata": {
            "tags": [],
            "needs_background": "light"
          }
        }
      ]
    },
    {
      "cell_type": "code",
      "metadata": {
        "id": "YnwYsF-Gu6DA"
      },
      "source": [
        ""
      ],
      "execution_count": null,
      "outputs": []
    }
  ]
}
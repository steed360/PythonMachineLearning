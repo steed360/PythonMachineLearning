{
  "nbformat": 4,
  "nbformat_minor": 0,
  "metadata": {
    "kernelspec": {
      "display_name": "Python 3",
      "language": "python",
      "name": "python3"
    },
    "language_info": {
      "codemirror_mode": {
        "name": "ipython",
        "version": 3
      },
      "file_extension": ".py",
      "mimetype": "text/x-python",
      "name": "python",
      "nbconvert_exporter": "python",
      "pygments_lexer": "ipython3",
      "version": "3.7.6"
    },
    "colab": {
      "name": "Copy of DecisionTrees.ipynb",
      "provenance": [],
      "collapsed_sections": [
        "8r1zoDArDs65",
        "_ZGl7fdYDs7H"
      ]
    }
  },
  "cells": [
    {
      "cell_type": "markdown",
      "metadata": {
        "id": "8nrCzodMDs6K"
      },
      "source": [
        "# Tasks"
      ]
    },
    {
      "cell_type": "markdown",
      "metadata": {
        "id": "s-E3peVXDs6O"
      },
      "source": [
        "1) <a href='#DECISION_TREE'>  Plot basic Decision Tree. Show the ROC Curve for different depths</a> <BR>\n",
        "2) <a href='#CROSS_VALIDATION'>Use out of sample cross validation and show the ROC curve for each</a><br>\n",
        "3) <a href='#RANDOM_FOREST'>Fit a Random Forest</a><br>\n",
        "4) <a href='#TWO_PARAMS'>Grid Search on Random Forest (varying depth and number of trees)</a>"
      ]
    },
    {
      "cell_type": "code",
      "metadata": {
        "id": "3th54LTjDs6R"
      },
      "source": [
        "import numpy as np\n",
        "import pandas as pd\n",
        "import matplotlib.pyplot as plt\n",
        "%matplotlib inline\n",
        "import matplotlib as mpl\n",
        "mpl.rcParams['figure.dpi'] = 100\n",
        "import graphviz"
      ],
      "execution_count": 1,
      "outputs": []
    },
    {
      "cell_type": "code",
      "metadata": {
        "id": "1Bs5W6omDs6T"
      },
      "source": [
        "#df = pd.read_csv ('chapter_1_cleaned_data.csv')\n",
        "import requests\n",
        "url = 'https://raw.githubusercontent.com/steed360/PythonMachineLearning/main/chapter_1_cleaned_data.csv'\n",
        "#s = requests.get(url).content\n",
        "#c=pd.read_csv(io.StringIO(s.decode('utf-8')))\n",
        "df = pd.read_csv ( url)\n"
      ],
      "execution_count": 2,
      "outputs": []
    },
    {
      "cell_type": "markdown",
      "metadata": {
        "id": "Od6lK-1MDs6V"
      },
      "source": [
        "Get a list of the column names"
      ]
    },
    {
      "cell_type": "code",
      "metadata": {
        "colab": {
          "base_uri": "https://localhost:8080/"
        },
        "id": "jc8-aAazDs6W",
        "outputId": "fea54839-0845-44c6-cf48-6cb7abd01b77"
      },
      "source": [
        "features_response = df.columns.tolist ()\n",
        "features_response"
      ],
      "execution_count": 3,
      "outputs": [
        {
          "output_type": "execute_result",
          "data": {
            "text/plain": [
              "['Unnamed: 0',\n",
              " 'ID',\n",
              " 'LIMIT_BAL',\n",
              " 'SEX',\n",
              " 'EDUCATION',\n",
              " 'MARRIAGE',\n",
              " 'AGE',\n",
              " 'PAY_1',\n",
              " 'PAY_2',\n",
              " 'PAY_3',\n",
              " 'PAY_4',\n",
              " 'PAY_5',\n",
              " 'PAY_6',\n",
              " 'BILL_AMT1',\n",
              " 'BILL_AMT2',\n",
              " 'BILL_AMT3',\n",
              " 'BILL_AMT4',\n",
              " 'BILL_AMT5',\n",
              " 'BILL_AMT6',\n",
              " 'PAY_AMT1',\n",
              " 'PAY_AMT2',\n",
              " 'PAY_AMT3',\n",
              " 'PAY_AMT4',\n",
              " 'PAY_AMT5',\n",
              " 'PAY_AMT6',\n",
              " 'default payment next month',\n",
              " 'EDUCATION_2',\n",
              " 'grad school',\n",
              " 'high school',\n",
              " 'other',\n",
              " 'uni']"
            ]
          },
          "metadata": {
            "tags": []
          },
          "execution_count": 3
        }
      ]
    },
    {
      "cell_type": "code",
      "metadata": {
        "colab": {
          "base_uri": "https://localhost:8080/"
        },
        "id": "CC0USOgMDs6Y",
        "outputId": "63ab8203-23d6-43c6-f57d-d8cf8e5cd4d7"
      },
      "source": [
        "lst_items_to_remove = [features_response[0]] +['ID', 'SEX','PAY_2','PAY_3','PAY_4','PAY_5','PAY_6','EDUCATION_2', 'grad school', 'high school', 'other', 'uni']\n",
        "lst_items_to_remove"
      ],
      "execution_count": 4,
      "outputs": [
        {
          "output_type": "execute_result",
          "data": {
            "text/plain": [
              "['Unnamed: 0',\n",
              " 'ID',\n",
              " 'SEX',\n",
              " 'PAY_2',\n",
              " 'PAY_3',\n",
              " 'PAY_4',\n",
              " 'PAY_5',\n",
              " 'PAY_6',\n",
              " 'EDUCATION_2',\n",
              " 'grad school',\n",
              " 'high school',\n",
              " 'other',\n",
              " 'uni']"
            ]
          },
          "metadata": {
            "tags": []
          },
          "execution_count": 4
        }
      ]
    },
    {
      "cell_type": "code",
      "metadata": {
        "scrolled": true,
        "colab": {
          "base_uri": "https://localhost:8080/"
        },
        "id": "qSvi9QHRDs6a",
        "outputId": "e3fabe8d-ed41-440f-f0f7-24dd9f72b1bc"
      },
      "source": [
        "features_response = [item for item in features_response if item not in lst_items_to_remove]\n",
        "features_response"
      ],
      "execution_count": 5,
      "outputs": [
        {
          "output_type": "execute_result",
          "data": {
            "text/plain": [
              "['LIMIT_BAL',\n",
              " 'EDUCATION',\n",
              " 'MARRIAGE',\n",
              " 'AGE',\n",
              " 'PAY_1',\n",
              " 'BILL_AMT1',\n",
              " 'BILL_AMT2',\n",
              " 'BILL_AMT3',\n",
              " 'BILL_AMT4',\n",
              " 'BILL_AMT5',\n",
              " 'BILL_AMT6',\n",
              " 'PAY_AMT1',\n",
              " 'PAY_AMT2',\n",
              " 'PAY_AMT3',\n",
              " 'PAY_AMT4',\n",
              " 'PAY_AMT5',\n",
              " 'PAY_AMT6',\n",
              " 'default payment next month']"
            ]
          },
          "metadata": {
            "tags": []
          },
          "execution_count": 5
        }
      ]
    },
    {
      "cell_type": "code",
      "metadata": {
        "id": "VERJOm_6Ds6e"
      },
      "source": [
        "from sklearn.model_selection import train_test_split\n",
        "from sklearn import tree"
      ],
      "execution_count": 6,
      "outputs": []
    },
    {
      "cell_type": "code",
      "metadata": {
        "id": "3BJXwzoiDs6g"
      },
      "source": [
        "X_train, X_test, y_train, y_test = train_test_split ( df[features_response[:-1]]  , df['default payment next month'] , test_size = 0.2, random_state = 24)"
      ],
      "execution_count": 7,
      "outputs": []
    },
    {
      "cell_type": "code",
      "metadata": {
        "colab": {
          "base_uri": "https://localhost:8080/"
        },
        "id": "uUxRKl9EDs6i",
        "outputId": "5c36d93d-a25f-4257-e8f8-183c6aa7ea50"
      },
      "source": [
        "print (X_train.shape, y_train.shape)"
      ],
      "execution_count": 8,
      "outputs": [
        {
          "output_type": "stream",
          "text": [
            "(21331, 17) (21331,)\n"
          ],
          "name": "stdout"
        }
      ]
    },
    {
      "cell_type": "code",
      "metadata": {
        "id": "ut6EEvOiDs6j"
      },
      "source": [
        "dt = tree.DecisionTreeClassifier ( max_depth = 2)"
      ],
      "execution_count": 9,
      "outputs": []
    },
    {
      "cell_type": "code",
      "metadata": {
        "colab": {
          "base_uri": "https://localhost:8080/"
        },
        "id": "pv82OJ32Ds6k",
        "outputId": "5a1be324-ade0-48af-c54b-d5b614a127a7"
      },
      "source": [
        "dt.fit ( X_train, y_train)"
      ],
      "execution_count": 10,
      "outputs": [
        {
          "output_type": "execute_result",
          "data": {
            "text/plain": [
              "DecisionTreeClassifier(ccp_alpha=0.0, class_weight=None, criterion='gini',\n",
              "                       max_depth=2, max_features=None, max_leaf_nodes=None,\n",
              "                       min_impurity_decrease=0.0, min_impurity_split=None,\n",
              "                       min_samples_leaf=1, min_samples_split=2,\n",
              "                       min_weight_fraction_leaf=0.0, presort='deprecated',\n",
              "                       random_state=None, splitter='best')"
            ]
          },
          "metadata": {
            "tags": []
          },
          "execution_count": 10
        }
      ]
    },
    {
      "cell_type": "code",
      "metadata": {
        "id": "Mu5rGqN6Ds6m"
      },
      "source": [
        "dot_data = tree.export_graphviz ( dt, proportion=True, \n",
        "                                 feature_names = features_response[:-1], \n",
        "                                 class_names=['Not Default','Default'],\n",
        "                                rounded=True)"
      ],
      "execution_count": 11,
      "outputs": []
    },
    {
      "cell_type": "code",
      "metadata": {
        "colab": {
          "base_uri": "https://localhost:8080/",
          "height": 440
        },
        "id": "pZrN0H9IDs6n",
        "outputId": "4f6ce9b8-08f5-420e-f043-d4faf65bd543"
      },
      "source": [
        "graph = graphviz.Source (dot_data)\n",
        "graph"
      ],
      "execution_count": 12,
      "outputs": [
        {
          "output_type": "execute_result",
          "data": {
            "text/plain": [
              "<graphviz.files.Source at 0x7f355e6b9510>"
            ],
            "image/svg+xml": "<?xml version=\"1.0\" encoding=\"UTF-8\" standalone=\"no\"?>\n<!DOCTYPE svg PUBLIC \"-//W3C//DTD SVG 1.1//EN\"\n \"http://www.w3.org/Graphics/SVG/1.1/DTD/svg11.dtd\">\n<!-- Generated by graphviz version 2.40.1 (20161225.0304)\n -->\n<!-- Title: Tree Pages: 1 -->\n<svg width=\"686pt\" height=\"314pt\"\n viewBox=\"0.00 0.00 686.00 314.00\" xmlns=\"http://www.w3.org/2000/svg\" xmlns:xlink=\"http://www.w3.org/1999/xlink\">\n<g id=\"graph0\" class=\"graph\" transform=\"scale(1 1) rotate(0) translate(4 310)\">\n<title>Tree</title>\n<polygon fill=\"#ffffff\" stroke=\"transparent\" points=\"-4,4 -4,-310 682,-310 682,4 -4,4\"/>\n<!-- 0 -->\n<g id=\"node1\" class=\"node\">\n<title>0</title>\n<path fill=\"none\" stroke=\"#000000\" d=\"M405,-306C405,-306 273,-306 273,-306 267,-306 261,-300 261,-294 261,-294 261,-235 261,-235 261,-229 267,-223 273,-223 273,-223 405,-223 405,-223 411,-223 417,-229 417,-235 417,-235 417,-294 417,-294 417,-300 411,-306 405,-306\"/>\n<text text-anchor=\"middle\" x=\"339\" y=\"-290.8\" font-family=\"Helvetica,sans-Serif\" font-size=\"14.00\" fill=\"#000000\">PAY_1 &lt;= 1.5</text>\n<text text-anchor=\"middle\" x=\"339\" y=\"-275.8\" font-family=\"Helvetica,sans-Serif\" font-size=\"14.00\" fill=\"#000000\">gini = 0.347</text>\n<text text-anchor=\"middle\" x=\"339\" y=\"-260.8\" font-family=\"Helvetica,sans-Serif\" font-size=\"14.00\" fill=\"#000000\">samples = 100.0%</text>\n<text text-anchor=\"middle\" x=\"339\" y=\"-245.8\" font-family=\"Helvetica,sans-Serif\" font-size=\"14.00\" fill=\"#000000\">value = [0.777, 0.223]</text>\n<text text-anchor=\"middle\" x=\"339\" y=\"-230.8\" font-family=\"Helvetica,sans-Serif\" font-size=\"14.00\" fill=\"#000000\">class = Not Default</text>\n</g>\n<!-- 1 -->\n<g id=\"node2\" class=\"node\">\n<title>1</title>\n<path fill=\"none\" stroke=\"#000000\" d=\"M318,-187C318,-187 186,-187 186,-187 180,-187 174,-181 174,-175 174,-175 174,-116 174,-116 174,-110 180,-104 186,-104 186,-104 318,-104 318,-104 324,-104 330,-110 330,-116 330,-116 330,-175 330,-175 330,-181 324,-187 318,-187\"/>\n<text text-anchor=\"middle\" x=\"252\" y=\"-171.8\" font-family=\"Helvetica,sans-Serif\" font-size=\"14.00\" fill=\"#000000\">PAY_1 &lt;= 0.5</text>\n<text text-anchor=\"middle\" x=\"252\" y=\"-156.8\" font-family=\"Helvetica,sans-Serif\" font-size=\"14.00\" fill=\"#000000\">gini = 0.277</text>\n<text text-anchor=\"middle\" x=\"252\" y=\"-141.8\" font-family=\"Helvetica,sans-Serif\" font-size=\"14.00\" fill=\"#000000\">samples = 89.5%</text>\n<text text-anchor=\"middle\" x=\"252\" y=\"-126.8\" font-family=\"Helvetica,sans-Serif\" font-size=\"14.00\" fill=\"#000000\">value = [0.834, 0.166]</text>\n<text text-anchor=\"middle\" x=\"252\" y=\"-111.8\" font-family=\"Helvetica,sans-Serif\" font-size=\"14.00\" fill=\"#000000\">class = Not Default</text>\n</g>\n<!-- 0&#45;&gt;1 -->\n<g id=\"edge1\" class=\"edge\">\n<title>0&#45;&gt;1</title>\n<path fill=\"none\" stroke=\"#000000\" d=\"M308.5716,-222.8796C302.1189,-214.0534 295.243,-204.6485 288.5887,-195.5466\"/>\n<polygon fill=\"#000000\" stroke=\"#000000\" points=\"291.2856,-193.3051 282.5583,-187.2981 285.6347,-197.4364 291.2856,-193.3051\"/>\n<text text-anchor=\"middle\" x=\"278.7208\" y=\"-208.3018\" font-family=\"Helvetica,sans-Serif\" font-size=\"14.00\" fill=\"#000000\">True</text>\n</g>\n<!-- 4 -->\n<g id=\"node5\" class=\"node\">\n<title>4</title>\n<path fill=\"none\" stroke=\"#000000\" d=\"M492,-187C492,-187 360,-187 360,-187 354,-187 348,-181 348,-175 348,-175 348,-116 348,-116 348,-110 354,-104 360,-104 360,-104 492,-104 492,-104 498,-104 504,-110 504,-116 504,-116 504,-175 504,-175 504,-181 498,-187 492,-187\"/>\n<text text-anchor=\"middle\" x=\"426\" y=\"-171.8\" font-family=\"Helvetica,sans-Serif\" font-size=\"14.00\" fill=\"#000000\">BILL_AMT1 &lt;= 568.0</text>\n<text text-anchor=\"middle\" x=\"426\" y=\"-156.8\" font-family=\"Helvetica,sans-Serif\" font-size=\"14.00\" fill=\"#000000\">gini = 0.416</text>\n<text text-anchor=\"middle\" x=\"426\" y=\"-141.8\" font-family=\"Helvetica,sans-Serif\" font-size=\"14.00\" fill=\"#000000\">samples = 10.5%</text>\n<text text-anchor=\"middle\" x=\"426\" y=\"-126.8\" font-family=\"Helvetica,sans-Serif\" font-size=\"14.00\" fill=\"#000000\">value = [0.295, 0.705]</text>\n<text text-anchor=\"middle\" x=\"426\" y=\"-111.8\" font-family=\"Helvetica,sans-Serif\" font-size=\"14.00\" fill=\"#000000\">class = Default</text>\n</g>\n<!-- 0&#45;&gt;4 -->\n<g id=\"edge4\" class=\"edge\">\n<title>0&#45;&gt;4</title>\n<path fill=\"none\" stroke=\"#000000\" d=\"M369.4284,-222.8796C375.8811,-214.0534 382.757,-204.6485 389.4113,-195.5466\"/>\n<polygon fill=\"#000000\" stroke=\"#000000\" points=\"392.3653,-197.4364 395.4417,-187.2981 386.7144,-193.3051 392.3653,-197.4364\"/>\n<text text-anchor=\"middle\" x=\"399.2792\" y=\"-208.3018\" font-family=\"Helvetica,sans-Serif\" font-size=\"14.00\" fill=\"#000000\">False</text>\n</g>\n<!-- 2 -->\n<g id=\"node3\" class=\"node\">\n<title>2</title>\n<path fill=\"none\" stroke=\"#000000\" d=\"M144,-68C144,-68 12,-68 12,-68 6,-68 0,-62 0,-56 0,-56 0,-12 0,-12 0,-6 6,0 12,0 12,0 144,0 144,0 150,0 156,-6 156,-12 156,-12 156,-56 156,-56 156,-62 150,-68 144,-68\"/>\n<text text-anchor=\"middle\" x=\"78\" y=\"-52.8\" font-family=\"Helvetica,sans-Serif\" font-size=\"14.00\" fill=\"#000000\">gini = 0.239</text>\n<text text-anchor=\"middle\" x=\"78\" y=\"-37.8\" font-family=\"Helvetica,sans-Serif\" font-size=\"14.00\" fill=\"#000000\">samples = 77.1%</text>\n<text text-anchor=\"middle\" x=\"78\" y=\"-22.8\" font-family=\"Helvetica,sans-Serif\" font-size=\"14.00\" fill=\"#000000\">value = [0.861, 0.139]</text>\n<text text-anchor=\"middle\" x=\"78\" y=\"-7.8\" font-family=\"Helvetica,sans-Serif\" font-size=\"14.00\" fill=\"#000000\">class = Not Default</text>\n</g>\n<!-- 1&#45;&gt;2 -->\n<g id=\"edge2\" class=\"edge\">\n<title>1&#45;&gt;2</title>\n<path fill=\"none\" stroke=\"#000000\" d=\"M187.2088,-103.9815C171.6375,-94.0034 155.049,-83.3733 139.6263,-73.4904\"/>\n<polygon fill=\"#000000\" stroke=\"#000000\" points=\"141.5,-70.5341 131.1919,-68.0856 137.7232,-76.4279 141.5,-70.5341\"/>\n</g>\n<!-- 3 -->\n<g id=\"node4\" class=\"node\">\n<title>3</title>\n<path fill=\"none\" stroke=\"#000000\" d=\"M318,-68C318,-68 186,-68 186,-68 180,-68 174,-62 174,-56 174,-56 174,-12 174,-12 174,-6 180,0 186,0 186,0 318,0 318,0 324,0 330,-6 330,-12 330,-12 330,-56 330,-56 330,-62 324,-68 318,-68\"/>\n<text text-anchor=\"middle\" x=\"252\" y=\"-52.8\" font-family=\"Helvetica,sans-Serif\" font-size=\"14.00\" fill=\"#000000\">gini = 0.448</text>\n<text text-anchor=\"middle\" x=\"252\" y=\"-37.8\" font-family=\"Helvetica,sans-Serif\" font-size=\"14.00\" fill=\"#000000\">samples = 12.4%</text>\n<text text-anchor=\"middle\" x=\"252\" y=\"-22.8\" font-family=\"Helvetica,sans-Serif\" font-size=\"14.00\" fill=\"#000000\">value = [0.661, 0.339]</text>\n<text text-anchor=\"middle\" x=\"252\" y=\"-7.8\" font-family=\"Helvetica,sans-Serif\" font-size=\"14.00\" fill=\"#000000\">class = Not Default</text>\n</g>\n<!-- 1&#45;&gt;3 -->\n<g id=\"edge3\" class=\"edge\">\n<title>1&#45;&gt;3</title>\n<path fill=\"none\" stroke=\"#000000\" d=\"M252,-103.9815C252,-95.618 252,-86.7965 252,-78.3409\"/>\n<polygon fill=\"#000000\" stroke=\"#000000\" points=\"255.5001,-78.2636 252,-68.2637 248.5001,-78.2637 255.5001,-78.2636\"/>\n</g>\n<!-- 5 -->\n<g id=\"node6\" class=\"node\">\n<title>5</title>\n<path fill=\"none\" stroke=\"#000000\" d=\"M492,-68C492,-68 360,-68 360,-68 354,-68 348,-62 348,-56 348,-56 348,-12 348,-12 348,-6 354,0 360,0 360,0 492,0 492,0 498,0 504,-6 504,-12 504,-12 504,-56 504,-56 504,-62 498,-68 492,-68\"/>\n<text text-anchor=\"middle\" x=\"426\" y=\"-52.8\" font-family=\"Helvetica,sans-Serif\" font-size=\"14.00\" fill=\"#000000\">gini = 0.473</text>\n<text text-anchor=\"middle\" x=\"426\" y=\"-37.8\" font-family=\"Helvetica,sans-Serif\" font-size=\"14.00\" fill=\"#000000\">samples = 0.3%</text>\n<text text-anchor=\"middle\" x=\"426\" y=\"-22.8\" font-family=\"Helvetica,sans-Serif\" font-size=\"14.00\" fill=\"#000000\">value = [0.615, 0.385]</text>\n<text text-anchor=\"middle\" x=\"426\" y=\"-7.8\" font-family=\"Helvetica,sans-Serif\" font-size=\"14.00\" fill=\"#000000\">class = Not Default</text>\n</g>\n<!-- 4&#45;&gt;5 -->\n<g id=\"edge5\" class=\"edge\">\n<title>4&#45;&gt;5</title>\n<path fill=\"none\" stroke=\"#000000\" d=\"M426,-103.9815C426,-95.618 426,-86.7965 426,-78.3409\"/>\n<polygon fill=\"#000000\" stroke=\"#000000\" points=\"429.5001,-78.2636 426,-68.2637 422.5001,-78.2637 429.5001,-78.2636\"/>\n</g>\n<!-- 6 -->\n<g id=\"node7\" class=\"node\">\n<title>6</title>\n<path fill=\"none\" stroke=\"#000000\" d=\"M666,-68C666,-68 534,-68 534,-68 528,-68 522,-62 522,-56 522,-56 522,-12 522,-12 522,-6 528,0 534,0 534,0 666,0 666,0 672,0 678,-6 678,-12 678,-12 678,-56 678,-56 678,-62 672,-68 666,-68\"/>\n<text text-anchor=\"middle\" x=\"600\" y=\"-52.8\" font-family=\"Helvetica,sans-Serif\" font-size=\"14.00\" fill=\"#000000\">gini = 0.408</text>\n<text text-anchor=\"middle\" x=\"600\" y=\"-37.8\" font-family=\"Helvetica,sans-Serif\" font-size=\"14.00\" fill=\"#000000\">samples = 10.2%</text>\n<text text-anchor=\"middle\" x=\"600\" y=\"-22.8\" font-family=\"Helvetica,sans-Serif\" font-size=\"14.00\" fill=\"#000000\">value = [0.286, 0.714]</text>\n<text text-anchor=\"middle\" x=\"600\" y=\"-7.8\" font-family=\"Helvetica,sans-Serif\" font-size=\"14.00\" fill=\"#000000\">class = Default</text>\n</g>\n<!-- 4&#45;&gt;6 -->\n<g id=\"edge6\" class=\"edge\">\n<title>4&#45;&gt;6</title>\n<path fill=\"none\" stroke=\"#000000\" d=\"M490.7912,-103.9815C506.3625,-94.0034 522.951,-83.3733 538.3737,-73.4904\"/>\n<polygon fill=\"#000000\" stroke=\"#000000\" points=\"540.2768,-76.4279 546.8081,-68.0856 536.5,-70.5341 540.2768,-76.4279\"/>\n</g>\n</g>\n</svg>\n"
          },
          "metadata": {
            "tags": []
          },
          "execution_count": 12
        }
      ]
    },
    {
      "cell_type": "code",
      "metadata": {
        "colab": {
          "base_uri": "https://localhost:8080/",
          "height": 297
        },
        "id": "8cMP2OwIDs6q",
        "outputId": "10f24cc9-5ab3-4c74-bd87-c332acf714a2"
      },
      "source": [
        "\n",
        "from sklearn.metrics import roc_curve\n",
        "\n",
        "predict_proba =  dt.predict_proba (X_test ) \n",
        "fpr, tpr, thresholds = roc_obj = roc_curve (y_test, predict_proba[:,1])\n",
        "\n",
        "plt.plot (fpr, tpr, 'g*-')\n",
        "plt.plot ( [0,1], [0,1], 'r--')\n",
        "\n",
        "#plt.hist ( predict_proba[:,1])\n",
        "\n",
        "\n",
        "plt.xlabel ('FPR')\n",
        "plt.ylabel ('TPR')\n"
      ],
      "execution_count": 13,
      "outputs": [
        {
          "output_type": "execute_result",
          "data": {
            "text/plain": [
              "Text(0, 0.5, 'TPR')"
            ]
          },
          "metadata": {
            "tags": []
          },
          "execution_count": 13
        },
        {
          "output_type": "display_data",
          "data": {
            "image/png": "[encoded data removed]",
            "text/plain": [
              "<Figure size 432x288 with 1 Axes>"
            ]
          },
          "metadata": {
            "tags": [],
            "needs_background": "light"
          }
        }
      ]
    },
    {
      "cell_type": "markdown",
      "metadata": {
        "id": "AyqztTGMDs6v"
      },
      "source": [
        "#### Plot the ROC curve with different tree depths "
      ]
    },
    {
      "cell_type": "code",
      "metadata": {
        "colab": {
          "base_uri": "https://localhost:8080/",
          "height": 313
        },
        "id": "Dyu2IKGdDs6w",
        "outputId": "6e8258d0-8591-4522-e9b6-59b06a145f65"
      },
      "source": [
        "cmap = { 1:'k',2:'b',3:'y',4:'g',5:'pink' }\n",
        "\n",
        "#axes = plt.axes()\n",
        "\n",
        "for this_depth in [i+1 for i in range (4)]:\n",
        "    dt = tree.DecisionTreeClassifier ( max_depth = this_depth)\n",
        "    dt.fit ( X_train, y_train)\n",
        "    predict_proba =  dt.predict_proba (X_test ) \n",
        "    fpr, tpr, thresholds = roc_obj = roc_curve (y_test, predict_proba[:,1])\n",
        "    #aStr = 'depth {0}'.format ( cmap[this_depth] )  \n",
        "    plt.plot (fpr, tpr,  cmap[this_depth], label = this_depth )\n",
        "    #axes.legend ( cmap.keys() )\n",
        "\n",
        "plt.plot ( [0,1], [0,1], 'r--')\n",
        "\n",
        "plt.xlabel ('False Positive Rate')\n",
        "plt.ylabel ('True Positive Rate')\n",
        "plt.title ( 'ROC Curve at different Tree depths')    \n",
        "plt.legend(title=\"Depth\")\n"
      ],
      "execution_count": 14,
      "outputs": [
        {
          "output_type": "execute_result",
          "data": {
            "text/plain": [
              "<matplotlib.legend.Legend at 0x7f354bcbca10>"
            ]
          },
          "metadata": {
            "tags": []
          },
          "execution_count": 14
        },
        {
          "output_type": "display_data",
          "data": {
            "image/png": "[encoded data removed]",
            "text/plain": [
              "<Figure size 432x288 with 1 Axes>"
            ]
          },
          "metadata": {
            "tags": [],
            "needs_background": "light"
          }
        }
      ]
    },
    {
      "cell_type": "markdown",
      "metadata": {
        "id": "VmUPm6r1Ds6z"
      },
      "source": [
        "<a id='CROSS_VALIDATION'>Build ROC Curves for several cross validation folds</a>\n"
      ]
    },
    {
      "cell_type": "markdown",
      "metadata": {
        "id": "YOVsOA1hDs60"
      },
      "source": [
        "This is just an idea that I had - it is not best practice"
      ]
    },
    {
      "cell_type": "code",
      "metadata": {
        "colab": {
          "base_uri": "https://localhost:8080/",
          "height": 313
        },
        "id": "KkZEF0SGDs61",
        "outputId": "1f3bd774-f058-4449-c7f7-fd4dea879fef"
      },
      "source": [
        "from sklearn.model_selection import KFold\n",
        "from sklearn.metrics import roc_curve\n",
        "from sklearn.model_selection import train_test_split\n",
        "from sklearn.metrics         import roc_auc_score\n",
        "\n",
        "#C_vals = [0.00005, 0.0005,0.005,0.05,0.5,1,1.5,2]\n",
        "#C_vals = [0.05,0.5,1,1.5,2]\n",
        "\n",
        "k_folds = KFold ( n_splits = 10, shuffle=False, random_state = None)\n",
        "\n",
        "X_train, X_test, y_train, y_test = train_test_split ( df[features_response[:-1]]  , df['default payment next month'] , test_size = 0.2, random_state = 24)\n",
        "\n",
        "X =  df[features_response[:-1]].values \n",
        "y =  df['default payment next month'].values\n",
        "\n",
        "this_fold = 0\n",
        "\n",
        "#for train_index, test_index in k_folds.split (X, y): \n",
        "for train_index, test_index in k_folds.split (X_train,y_train): \n",
        "    \n",
        "    this_fold = this_fold + 1\n",
        "    \n",
        "    X_cv_train = X[train_index]\n",
        "    y_cv_train = y[train_index]\n",
        "     \n",
        "    dt = tree.DecisionTreeClassifier ( max_depth = 5)\n",
        "    dt.fit ( X_cv_train, y_cv_train)        \n",
        "\n",
        "    X_cv_test  = X[test_index]\n",
        "    y_cv_test  = y[test_index]\n",
        "\n",
        "    predict_proba =  dt.predict_proba (X_cv_test ) \n",
        "    fpr, tpr, thresholds =  roc_curve (y_cv_test, predict_proba[:,1])\n",
        "    \n",
        "    roc_score = roc_auc_score (y_cv_test, predict_proba[:,1])    \n",
        "\n",
        "    #predict_proba =  dt.predict_proba (X_test ) \n",
        "    #fpr, tpr, thresholds =  roc_curve (y_test, predict_proba[:,1])\n",
        "\n",
        "    lab = 'ROC_AUC:{1}'.format ( this_fold, round (roc_score, 2))\n",
        "    plt.plot (fpr, tpr,  label = lab )\n",
        "    \n",
        "plt.plot ( [0,1], [0,1], 'r--')\n",
        "\n",
        "plt.xlabel ('False Positive Rate')\n",
        "plt.ylabel ('True Positive Rate')\n",
        "plt.title ( 'ROC Curve modelled on {0} different data folds of {1} rows (tree depth=5) '.format ( k_folds.n_splits,  int(X.shape [0]) / k_folds.n_splits))    \n",
        "plt.legend(title=\"Fold\")\n"
      ],
      "execution_count": 15,
      "outputs": [
        {
          "output_type": "execute_result",
          "data": {
            "text/plain": [
              "<matplotlib.legend.Legend at 0x7f354bc8d490>"
            ]
          },
          "metadata": {
            "tags": []
          },
          "execution_count": 15
        },
        {
          "output_type": "display_data",
          "data": {
            "image/png": "[encoded data removed]",
            "text/plain": [
              "<Figure size 432x288 with 1 Axes>"
            ]
          },
          "metadata": {
            "tags": [],
            "needs_background": "light"
          }
        }
      ]
    },
    {
      "cell_type": "markdown",
      "metadata": {
        "id": "8r1zoDArDs65"
      },
      "source": [
        "##### Apply a Grid Search"
      ]
    },
    {
      "cell_type": "markdown",
      "metadata": {
        "id": "tpv3QyqTDs66"
      },
      "source": [
        "The idea is to find the optimal hyperparameters for a Decision Tree given the dataset we have"
      ]
    },
    {
      "cell_type": "code",
      "metadata": {
        "id": "8vgg9atwDs67"
      },
      "source": [
        "from sklearn.model_selection import GridSearchCV"
      ],
      "execution_count": 16,
      "outputs": []
    },
    {
      "cell_type": "code",
      "metadata": {
        "id": "agXepmxuDs6_"
      },
      "source": [
        "params = { 'max_depth':[1,2,4,6,8,10,12,14,16,18]}"
      ],
      "execution_count": 17,
      "outputs": []
    },
    {
      "cell_type": "code",
      "metadata": {
        "colab": {
          "base_uri": "https://localhost:8080/"
        },
        "id": "yvWBR_2zDs7A",
        "outputId": "2359c0ec-8442-456c-cfb9-8e6438eb4f0e"
      },
      "source": [
        "cv = GridSearchCV ( dt, param_grid=params, scoring='roc_auc',refit=True,cv=4,verbose=1,return_train_score=True)\n",
        "cv"
      ],
      "execution_count": 18,
      "outputs": [
        {
          "output_type": "execute_result",
          "data": {
            "text/plain": [
              "GridSearchCV(cv=4, error_score=nan,\n",
              "             estimator=DecisionTreeClassifier(ccp_alpha=0.0, class_weight=None,\n",
              "                                              criterion='gini', max_depth=5,\n",
              "                                              max_features=None,\n",
              "                                              max_leaf_nodes=None,\n",
              "                                              min_impurity_decrease=0.0,\n",
              "                                              min_impurity_split=None,\n",
              "                                              min_samples_leaf=1,\n",
              "                                              min_samples_split=2,\n",
              "                                              min_weight_fraction_leaf=0.0,\n",
              "                                              presort='deprecated',\n",
              "                                              random_state=None,\n",
              "                                              splitter='best'),\n",
              "             iid='deprecated', n_jobs=None,\n",
              "             param_grid={'max_depth': [1, 2, 4, 6, 8, 10, 12, 14, 16, 18]},\n",
              "             pre_dispatch='2*n_jobs', refit=True, return_train_score=True,\n",
              "             scoring='roc_auc', verbose=1)"
            ]
          },
          "metadata": {
            "tags": []
          },
          "execution_count": 18
        }
      ]
    },
    {
      "cell_type": "code",
      "metadata": {
        "colab": {
          "base_uri": "https://localhost:8080/"
        },
        "id": "pW93vSZUDs7B",
        "outputId": "0d7be8a8-6cd1-40eb-9cda-8b8e2f86542c"
      },
      "source": [
        "cv.fit ( X_train, y_train)"
      ],
      "execution_count": 19,
      "outputs": [
        {
          "output_type": "stream",
          "text": [
            "Fitting 4 folds for each of 10 candidates, totalling 40 fits\n"
          ],
          "name": "stdout"
        },
        {
          "output_type": "stream",
          "text": [
            "[Parallel(n_jobs=1)]: Using backend SequentialBackend with 1 concurrent workers.\n",
            "[Parallel(n_jobs=1)]: Done  40 out of  40 | elapsed:    7.8s finished\n"
          ],
          "name": "stderr"
        },
        {
          "output_type": "execute_result",
          "data": {
            "text/plain": [
              "GridSearchCV(cv=4, error_score=nan,\n",
              "             estimator=DecisionTreeClassifier(ccp_alpha=0.0, class_weight=None,\n",
              "                                              criterion='gini', max_depth=5,\n",
              "                                              max_features=None,\n",
              "                                              max_leaf_nodes=None,\n",
              "                                              min_impurity_decrease=0.0,\n",
              "                                              min_impurity_split=None,\n",
              "                                              min_samples_leaf=1,\n",
              "                                              min_samples_split=2,\n",
              "                                              min_weight_fraction_leaf=0.0,\n",
              "                                              presort='deprecated',\n",
              "                                              random_state=None,\n",
              "                                              splitter='best'),\n",
              "             iid='deprecated', n_jobs=None,\n",
              "             param_grid={'max_depth': [1, 2, 4, 6, 8, 10, 12, 14, 16, 18]},\n",
              "             pre_dispatch='2*n_jobs', refit=True, return_train_score=True,\n",
              "             scoring='roc_auc', verbose=1)"
            ]
          },
          "metadata": {
            "tags": []
          },
          "execution_count": 19
        }
      ]
    },
    {
      "cell_type": "code",
      "metadata": {
        "colab": {
          "base_uri": "https://localhost:8080/",
          "height": 549
        },
        "id": "MbmmQ6kdDs7D",
        "outputId": "449ecba8-80c6-4b22-e5e1-399009920c7c"
      },
      "source": [
        "cv_results_df = pd.DataFrame ( cv.cv_results_)\n",
        "cv_results_df"
      ],
      "execution_count": 20,
      "outputs": [
        {
          "output_type": "execute_result",
          "data": {
            "text/html": [
              "<div>\n",
              "<style scoped>\n",
              "    .dataframe tbody tr th:only-of-type {\n",
              "        vertical-align: middle;\n",
              "    }\n",
              "\n",
              "    .dataframe tbody tr th {\n",
              "        vertical-align: top;\n",
              "    }\n",
              "\n",
              "    .dataframe thead th {\n",
              "        text-align: right;\n",
              "    }\n",
              "</style>\n",
              "<table border=\"1\" class=\"dataframe\">\n",
              "  <thead>\n",
              "    <tr style=\"text-align: right;\">\n",
              "      <th></th>\n",
              "      <th>mean_fit_time</th>\n",
              "      <th>std_fit_time</th>\n",
              "      <th>mean_score_time</th>\n",
              "      <th>std_score_time</th>\n",
              "      <th>param_max_depth</th>\n",
              "      <th>params</th>\n",
              "      <th>split0_test_score</th>\n",
              "      <th>split1_test_score</th>\n",
              "      <th>split2_test_score</th>\n",
              "      <th>split3_test_score</th>\n",
              "      <th>mean_test_score</th>\n",
              "      <th>std_test_score</th>\n",
              "      <th>rank_test_score</th>\n",
              "      <th>split0_train_score</th>\n",
              "      <th>split1_train_score</th>\n",
              "      <th>split2_train_score</th>\n",
              "      <th>split3_train_score</th>\n",
              "      <th>mean_train_score</th>\n",
              "      <th>std_train_score</th>\n",
              "    </tr>\n",
              "  </thead>\n",
              "  <tbody>\n",
              "    <tr>\n",
              "      <th>0</th>\n",
              "      <td>0.029880</td>\n",
              "      <td>0.003416</td>\n",
              "      <td>0.004273</td>\n",
              "      <td>0.000817</td>\n",
              "      <td>1</td>\n",
              "      <td>{'max_depth': 1}</td>\n",
              "      <td>0.639514</td>\n",
              "      <td>0.643398</td>\n",
              "      <td>0.651891</td>\n",
              "      <td>0.650753</td>\n",
              "      <td>0.646389</td>\n",
              "      <td>0.005136</td>\n",
              "      <td>7</td>\n",
              "      <td>0.648680</td>\n",
              "      <td>0.647384</td>\n",
              "      <td>0.644553</td>\n",
              "      <td>0.644934</td>\n",
              "      <td>0.646388</td>\n",
              "      <td>0.001712</td>\n",
              "    </tr>\n",
              "    <tr>\n",
              "      <th>1</th>\n",
              "      <td>0.051616</td>\n",
              "      <td>0.002004</td>\n",
              "      <td>0.004686</td>\n",
              "      <td>0.001188</td>\n",
              "      <td>2</td>\n",
              "      <td>{'max_depth': 2}</td>\n",
              "      <td>0.695134</td>\n",
              "      <td>0.699022</td>\n",
              "      <td>0.713376</td>\n",
              "      <td>0.699510</td>\n",
              "      <td>0.701761</td>\n",
              "      <td>0.006917</td>\n",
              "      <td>5</td>\n",
              "      <td>0.704034</td>\n",
              "      <td>0.702700</td>\n",
              "      <td>0.698113</td>\n",
              "      <td>0.702535</td>\n",
              "      <td>0.701845</td>\n",
              "      <td>0.002232</td>\n",
              "    </tr>\n",
              "    <tr>\n",
              "      <th>2</th>\n",
              "      <td>0.095382</td>\n",
              "      <td>0.003048</td>\n",
              "      <td>0.004350</td>\n",
              "      <td>0.000119</td>\n",
              "      <td>4</td>\n",
              "      <td>{'max_depth': 4}</td>\n",
              "      <td>0.732720</td>\n",
              "      <td>0.740116</td>\n",
              "      <td>0.746946</td>\n",
              "      <td>0.743731</td>\n",
              "      <td>0.740878</td>\n",
              "      <td>0.005294</td>\n",
              "      <td>2</td>\n",
              "      <td>0.756882</td>\n",
              "      <td>0.752256</td>\n",
              "      <td>0.749368</td>\n",
              "      <td>0.753055</td>\n",
              "      <td>0.752890</td>\n",
              "      <td>0.002682</td>\n",
              "    </tr>\n",
              "    <tr>\n",
              "      <th>3</th>\n",
              "      <td>0.132619</td>\n",
              "      <td>0.002880</td>\n",
              "      <td>0.004269</td>\n",
              "      <td>0.000026</td>\n",
              "      <td>6</td>\n",
              "      <td>{'max_depth': 6}</td>\n",
              "      <td>0.745252</td>\n",
              "      <td>0.746825</td>\n",
              "      <td>0.751932</td>\n",
              "      <td>0.741614</td>\n",
              "      <td>0.746406</td>\n",
              "      <td>0.003708</td>\n",
              "      <td>1</td>\n",
              "      <td>0.782202</td>\n",
              "      <td>0.780044</td>\n",
              "      <td>0.775228</td>\n",
              "      <td>0.774750</td>\n",
              "      <td>0.778056</td>\n",
              "      <td>0.003165</td>\n",
              "    </tr>\n",
              "    <tr>\n",
              "      <th>4</th>\n",
              "      <td>0.170309</td>\n",
              "      <td>0.002333</td>\n",
              "      <td>0.004549</td>\n",
              "      <td>0.000357</td>\n",
              "      <td>8</td>\n",
              "      <td>{'max_depth': 8}</td>\n",
              "      <td>0.728253</td>\n",
              "      <td>0.731400</td>\n",
              "      <td>0.751450</td>\n",
              "      <td>0.731612</td>\n",
              "      <td>0.735679</td>\n",
              "      <td>0.009202</td>\n",
              "      <td>3</td>\n",
              "      <td>0.812138</td>\n",
              "      <td>0.808245</td>\n",
              "      <td>0.803345</td>\n",
              "      <td>0.802003</td>\n",
              "      <td>0.806432</td>\n",
              "      <td>0.004031</td>\n",
              "    </tr>\n",
              "    <tr>\n",
              "      <th>5</th>\n",
              "      <td>0.211774</td>\n",
              "      <td>0.002632</td>\n",
              "      <td>0.004632</td>\n",
              "      <td>0.000136</td>\n",
              "      <td>10</td>\n",
              "      <td>{'max_depth': 10}</td>\n",
              "      <td>0.713443</td>\n",
              "      <td>0.705058</td>\n",
              "      <td>0.716562</td>\n",
              "      <td>0.711670</td>\n",
              "      <td>0.711683</td>\n",
              "      <td>0.004207</td>\n",
              "      <td>4</td>\n",
              "      <td>0.848838</td>\n",
              "      <td>0.853976</td>\n",
              "      <td>0.841285</td>\n",
              "      <td>0.836575</td>\n",
              "      <td>0.845169</td>\n",
              "      <td>0.006707</td>\n",
              "    </tr>\n",
              "    <tr>\n",
              "      <th>6</th>\n",
              "      <td>0.239570</td>\n",
              "      <td>0.003479</td>\n",
              "      <td>0.004861</td>\n",
              "      <td>0.000460</td>\n",
              "      <td>12</td>\n",
              "      <td>{'max_depth': 12}</td>\n",
              "      <td>0.670609</td>\n",
              "      <td>0.654729</td>\n",
              "      <td>0.671976</td>\n",
              "      <td>0.682263</td>\n",
              "      <td>0.669894</td>\n",
              "      <td>0.009846</td>\n",
              "      <td>6</td>\n",
              "      <td>0.888092</td>\n",
              "      <td>0.903190</td>\n",
              "      <td>0.885771</td>\n",
              "      <td>0.875850</td>\n",
              "      <td>0.888226</td>\n",
              "      <td>0.009787</td>\n",
              "    </tr>\n",
              "    <tr>\n",
              "      <th>7</th>\n",
              "      <td>0.273020</td>\n",
              "      <td>0.005773</td>\n",
              "      <td>0.005117</td>\n",
              "      <td>0.000726</td>\n",
              "      <td>14</td>\n",
              "      <td>{'max_depth': 14}</td>\n",
              "      <td>0.641627</td>\n",
              "      <td>0.627735</td>\n",
              "      <td>0.649655</td>\n",
              "      <td>0.656015</td>\n",
              "      <td>0.643758</td>\n",
              "      <td>0.010563</td>\n",
              "      <td>8</td>\n",
              "      <td>0.929927</td>\n",
              "      <td>0.943440</td>\n",
              "      <td>0.926380</td>\n",
              "      <td>0.915082</td>\n",
              "      <td>0.928707</td>\n",
              "      <td>0.010120</td>\n",
              "    </tr>\n",
              "    <tr>\n",
              "      <th>8</th>\n",
              "      <td>0.294023</td>\n",
              "      <td>0.003531</td>\n",
              "      <td>0.004826</td>\n",
              "      <td>0.000064</td>\n",
              "      <td>16</td>\n",
              "      <td>{'max_depth': 16}</td>\n",
              "      <td>0.616589</td>\n",
              "      <td>0.598866</td>\n",
              "      <td>0.631888</td>\n",
              "      <td>0.632526</td>\n",
              "      <td>0.619967</td>\n",
              "      <td>0.013752</td>\n",
              "      <td>9</td>\n",
              "      <td>0.960131</td>\n",
              "      <td>0.970413</td>\n",
              "      <td>0.958299</td>\n",
              "      <td>0.947391</td>\n",
              "      <td>0.959058</td>\n",
              "      <td>0.008167</td>\n",
              "    </tr>\n",
              "    <tr>\n",
              "      <th>9</th>\n",
              "      <td>0.310023</td>\n",
              "      <td>0.005764</td>\n",
              "      <td>0.006710</td>\n",
              "      <td>0.002470</td>\n",
              "      <td>18</td>\n",
              "      <td>{'max_depth': 18}</td>\n",
              "      <td>0.597388</td>\n",
              "      <td>0.589801</td>\n",
              "      <td>0.609944</td>\n",
              "      <td>0.626145</td>\n",
              "      <td>0.605820</td>\n",
              "      <td>0.013764</td>\n",
              "      <td>10</td>\n",
              "      <td>0.981613</td>\n",
              "      <td>0.985759</td>\n",
              "      <td>0.978869</td>\n",
              "      <td>0.966786</td>\n",
              "      <td>0.978257</td>\n",
              "      <td>0.007063</td>\n",
              "    </tr>\n",
              "  </tbody>\n",
              "</table>\n",
              "</div>"
            ],
            "text/plain": [
              "   mean_fit_time  std_fit_time  ...  mean_train_score  std_train_score\n",
              "0       0.029880      0.003416  ...          0.646388         0.001712\n",
              "1       0.051616      0.002004  ...          0.701845         0.002232\n",
              "2       0.095382      0.003048  ...          0.752890         0.002682\n",
              "3       0.132619      0.002880  ...          0.778056         0.003165\n",
              "4       0.170309      0.002333  ...          0.806432         0.004031\n",
              "5       0.211774      0.002632  ...          0.845169         0.006707\n",
              "6       0.239570      0.003479  ...          0.888226         0.009787\n",
              "7       0.273020      0.005773  ...          0.928707         0.010120\n",
              "8       0.294023      0.003531  ...          0.959058         0.008167\n",
              "9       0.310023      0.005764  ...          0.978257         0.007063\n",
              "\n",
              "[10 rows x 19 columns]"
            ]
          },
          "metadata": {
            "tags": []
          },
          "execution_count": 20
        }
      ]
    },
    {
      "cell_type": "code",
      "metadata": {
        "colab": {
          "base_uri": "https://localhost:8080/"
        },
        "id": "fTNYMsBGDs7E",
        "outputId": "85790859-f067-4af1-c33c-8dd8075c1071"
      },
      "source": [
        "cv_results_df.columns"
      ],
      "execution_count": 21,
      "outputs": [
        {
          "output_type": "execute_result",
          "data": {
            "text/plain": [
              "Index(['mean_fit_time', 'std_fit_time', 'mean_score_time', 'std_score_time',\n",
              "       'param_max_depth', 'params', 'split0_test_score', 'split1_test_score',\n",
              "       'split2_test_score', 'split3_test_score', 'mean_test_score',\n",
              "       'std_test_score', 'rank_test_score', 'split0_train_score',\n",
              "       'split1_train_score', 'split2_train_score', 'split3_train_score',\n",
              "       'mean_train_score', 'std_train_score'],\n",
              "      dtype='object')"
            ]
          },
          "metadata": {
            "tags": []
          },
          "execution_count": 21
        }
      ]
    },
    {
      "cell_type": "markdown",
      "metadata": {
        "id": "TsHQm89aDs7F"
      },
      "source": [
        "Create an error bar plot of testing and training scores for each value of max_depth"
      ]
    },
    {
      "cell_type": "code",
      "metadata": {
        "colab": {
          "base_uri": "https://localhost:8080/",
          "height": 299
        },
        "id": "nGknkK8WDs7G",
        "outputId": "662099b2-9996-452b-a5d6-3d0f43b459bf"
      },
      "source": [
        "ax = plt.axes ()\n",
        "ax.errorbar ( cv_results_df['param_max_depth'],\n",
        "             cv_results_df['mean_train_score'],\n",
        "             yerr=cv_results_df['std_train_score'] ,\n",
        "             label=\"Mean  $\\pm$1 SD training scores\")\n",
        "             \n",
        "\n",
        "ax.errorbar ( cv_results_df['param_max_depth'],\n",
        "             cv_results_df['mean_test_score'],\n",
        "             yerr=cv_results_df['std_test_score'],\n",
        "             label=\"Mean  $\\pm$1 SD testing scores\")\n",
        "\n",
        "ax.legend()\n",
        "plt.xlabel ('max_depth')\n",
        "plt.ylabel ('ROC UC')"
      ],
      "execution_count": 22,
      "outputs": [
        {
          "output_type": "execute_result",
          "data": {
            "text/plain": [
              "Text(0, 0.5, 'ROC UC')"
            ]
          },
          "metadata": {
            "tags": []
          },
          "execution_count": 22
        },
        {
          "output_type": "display_data",
          "data": {
            "image/png": "[encoded data removed]",
            "text/plain": [
              "<Figure size 432x288 with 1 Axes>"
            ]
          },
          "metadata": {
            "tags": [],
            "needs_background": "light"
          }
        }
      ]
    },
    {
      "cell_type": "markdown",
      "metadata": {
        "id": "_ZGl7fdYDs7H"
      },
      "source": [
        "#### Apply a random forest"
      ]
    },
    {
      "cell_type": "code",
      "metadata": {
        "id": "anXHnfohDs7I"
      },
      "source": [
        "from sklearn.ensemble import RandomForestClassifier\n"
      ],
      "execution_count": 23,
      "outputs": []
    },
    {
      "cell_type": "code",
      "metadata": {
        "id": "D-kkBuuVDs7J"
      },
      "source": [
        "rf = RandomForestClassifier ( \n",
        "    n_estimators = 10, \n",
        "    criterion = 'gini', \n",
        "    max_depth = 3, \n",
        "    min_samples_split = 2,\n",
        "    min_samples_leaf = 1 , min_weight_fraction_leaf = 0.0,\n",
        "    max_features = 'auto', \n",
        "    max_leaf_nodes = None, \n",
        "    min_impurity_decrease = 0.0, \n",
        "    min_impurity_split = None, \n",
        "    bootstrap = True, \n",
        "    oob_score= False, \n",
        "    n_jobs= None,\n",
        "    random_state = 4, \n",
        "    verbose = 0, \n",
        "    warm_start = False, \n",
        "    class_weight = None\n",
        ")"
      ],
      "execution_count": 24,
      "outputs": []
    },
    {
      "cell_type": "markdown",
      "metadata": {
        "id": "kd7t2QwCDs7L"
      },
      "source": [
        "Create a parameter grid."
      ]
    },
    {
      "cell_type": "code",
      "metadata": {
        "colab": {
          "base_uri": "https://localhost:8080/"
        },
        "id": "q6SbGkpfDs7M",
        "outputId": "3898b294-9f78-4da3-e7d9-381753e7f973"
      },
      "source": [
        "# Number of trees\n",
        "rf_params_ex = { 'n_estimators': list ( range ( 10, 110, 10)) }\n",
        "\n",
        "#rf_params_ex = { 'n_estimators': [60, 70] ,'max_depth' : [1,2] }\n",
        "\n",
        "rf_params_ex"
      ],
      "execution_count": 27,
      "outputs": [
        {
          "output_type": "execute_result",
          "data": {
            "text/plain": [
              "{'n_estimators': [10, 20, 30, 40, 50, 60, 70, 80, 90, 100]}"
            ]
          },
          "metadata": {
            "tags": []
          },
          "execution_count": 27
        }
      ]
    },
    {
      "cell_type": "code",
      "metadata": {
        "id": "3sIEkVKLDs7N",
        "colab": {
          "base_uri": "https://localhost:8080/"
        },
        "outputId": "90d7192a-04d7-4a3b-c931-46312da1e978"
      },
      "source": [
        "from sklearn.model_selection import GridSearchCV\n",
        "cv_rf_ex = GridSearchCV ( rf, param_grid = rf_params_ex, scoring= 'roc_auc')\n",
        "cv_rf_ex.cv = 5\n",
        "cv_rf_ex.fit ( X_train, y_train)"
      ],
      "execution_count": 28,
      "outputs": [
        {
          "output_type": "execute_result",
          "data": {
            "text/plain": [
              "GridSearchCV(cv=5, error_score=nan,\n",
              "             estimator=RandomForestClassifier(bootstrap=True, ccp_alpha=0.0,\n",
              "                                              class_weight=None,\n",
              "                                              criterion='gini', max_depth=3,\n",
              "                                              max_features='auto',\n",
              "                                              max_leaf_nodes=None,\n",
              "                                              max_samples=None,\n",
              "                                              min_impurity_decrease=0.0,\n",
              "                                              min_impurity_split=None,\n",
              "                                              min_samples_leaf=1,\n",
              "                                              min_samples_split=2,\n",
              "                                              min_weight_fraction_leaf=0.0,\n",
              "                                              n_estimators=10, n_jobs=None,\n",
              "                                              oob_score=False, random_state=4,\n",
              "                                              verbose=0, warm_start=False),\n",
              "             iid='deprecated', n_jobs=None,\n",
              "             param_grid={'n_estimators': [10, 20, 30, 40, 50, 60, 70, 80, 90,\n",
              "                                          100]},\n",
              "             pre_dispatch='2*n_jobs', refit=True, return_train_score=False,\n",
              "             scoring='roc_auc', verbose=0)"
            ]
          },
          "metadata": {
            "tags": []
          },
          "execution_count": 28
        }
      ]
    },
    {
      "cell_type": "code",
      "metadata": {
        "id": "uhK-PYqKDs7R"
      },
      "source": [
        "cv_rf_ex_results_df = pd.DataFrame ( cv_rf_ex.cv_results_)"
      ],
      "execution_count": 29,
      "outputs": []
    },
    {
      "cell_type": "code",
      "metadata": {
        "id": "VNJOkr1MDs7S",
        "colab": {
          "base_uri": "https://localhost:8080/",
          "height": 549
        },
        "outputId": "df0a5bf6-7b13-40d8-a6a1-fb719b87bce8"
      },
      "source": [
        "cv_rf_ex_results_df.head(10)"
      ],
      "execution_count": 30,
      "outputs": [
        {
          "output_type": "execute_result",
          "data": {
            "text/html": [
              "<div>\n",
              "<style scoped>\n",
              "    .dataframe tbody tr th:only-of-type {\n",
              "        vertical-align: middle;\n",
              "    }\n",
              "\n",
              "    .dataframe tbody tr th {\n",
              "        vertical-align: top;\n",
              "    }\n",
              "\n",
              "    .dataframe thead th {\n",
              "        text-align: right;\n",
              "    }\n",
              "</style>\n",
              "<table border=\"1\" class=\"dataframe\">\n",
              "  <thead>\n",
              "    <tr style=\"text-align: right;\">\n",
              "      <th></th>\n",
              "      <th>mean_fit_time</th>\n",
              "      <th>std_fit_time</th>\n",
              "      <th>mean_score_time</th>\n",
              "      <th>std_score_time</th>\n",
              "      <th>param_n_estimators</th>\n",
              "      <th>params</th>\n",
              "      <th>split0_test_score</th>\n",
              "      <th>split1_test_score</th>\n",
              "      <th>split2_test_score</th>\n",
              "      <th>split3_test_score</th>\n",
              "      <th>split4_test_score</th>\n",
              "      <th>mean_test_score</th>\n",
              "      <th>std_test_score</th>\n",
              "      <th>rank_test_score</th>\n",
              "    </tr>\n",
              "  </thead>\n",
              "  <tbody>\n",
              "    <tr>\n",
              "      <th>0</th>\n",
              "      <td>0.154871</td>\n",
              "      <td>0.003667</td>\n",
              "      <td>0.007668</td>\n",
              "      <td>0.000504</td>\n",
              "      <td>10</td>\n",
              "      <td>{'n_estimators': 10}</td>\n",
              "      <td>0.746594</td>\n",
              "      <td>0.745945</td>\n",
              "      <td>0.751689</td>\n",
              "      <td>0.771846</td>\n",
              "      <td>0.766402</td>\n",
              "      <td>0.756495</td>\n",
              "      <td>0.010642</td>\n",
              "      <td>10</td>\n",
              "    </tr>\n",
              "    <tr>\n",
              "      <th>1</th>\n",
              "      <td>0.299660</td>\n",
              "      <td>0.004873</td>\n",
              "      <td>0.010905</td>\n",
              "      <td>0.000338</td>\n",
              "      <td>20</td>\n",
              "      <td>{'n_estimators': 20}</td>\n",
              "      <td>0.750097</td>\n",
              "      <td>0.753844</td>\n",
              "      <td>0.757607</td>\n",
              "      <td>0.778537</td>\n",
              "      <td>0.765789</td>\n",
              "      <td>0.761175</td>\n",
              "      <td>0.010118</td>\n",
              "      <td>9</td>\n",
              "    </tr>\n",
              "    <tr>\n",
              "      <th>2</th>\n",
              "      <td>0.432600</td>\n",
              "      <td>0.009178</td>\n",
              "      <td>0.013887</td>\n",
              "      <td>0.000364</td>\n",
              "      <td>30</td>\n",
              "      <td>{'n_estimators': 30}</td>\n",
              "      <td>0.750020</td>\n",
              "      <td>0.756322</td>\n",
              "      <td>0.757938</td>\n",
              "      <td>0.778856</td>\n",
              "      <td>0.767580</td>\n",
              "      <td>0.762143</td>\n",
              "      <td>0.010074</td>\n",
              "      <td>7</td>\n",
              "    </tr>\n",
              "    <tr>\n",
              "      <th>3</th>\n",
              "      <td>0.567033</td>\n",
              "      <td>0.004884</td>\n",
              "      <td>0.017296</td>\n",
              "      <td>0.000684</td>\n",
              "      <td>40</td>\n",
              "      <td>{'n_estimators': 40}</td>\n",
              "      <td>0.751988</td>\n",
              "      <td>0.753061</td>\n",
              "      <td>0.756997</td>\n",
              "      <td>0.780233</td>\n",
              "      <td>0.767922</td>\n",
              "      <td>0.762040</td>\n",
              "      <td>0.010702</td>\n",
              "      <td>8</td>\n",
              "    </tr>\n",
              "    <tr>\n",
              "      <th>4</th>\n",
              "      <td>0.711624</td>\n",
              "      <td>0.007673</td>\n",
              "      <td>0.020365</td>\n",
              "      <td>0.000500</td>\n",
              "      <td>50</td>\n",
              "      <td>{'n_estimators': 50}</td>\n",
              "      <td>0.753248</td>\n",
              "      <td>0.755398</td>\n",
              "      <td>0.758032</td>\n",
              "      <td>0.782004</td>\n",
              "      <td>0.767485</td>\n",
              "      <td>0.763233</td>\n",
              "      <td>0.010569</td>\n",
              "      <td>1</td>\n",
              "    </tr>\n",
              "    <tr>\n",
              "      <th>5</th>\n",
              "      <td>0.853551</td>\n",
              "      <td>0.004481</td>\n",
              "      <td>0.024558</td>\n",
              "      <td>0.002457</td>\n",
              "      <td>60</td>\n",
              "      <td>{'n_estimators': 60}</td>\n",
              "      <td>0.753124</td>\n",
              "      <td>0.755150</td>\n",
              "      <td>0.757815</td>\n",
              "      <td>0.781853</td>\n",
              "      <td>0.767627</td>\n",
              "      <td>0.763114</td>\n",
              "      <td>0.010610</td>\n",
              "      <td>2</td>\n",
              "    </tr>\n",
              "    <tr>\n",
              "      <th>6</th>\n",
              "      <td>0.995664</td>\n",
              "      <td>0.009287</td>\n",
              "      <td>0.026969</td>\n",
              "      <td>0.000979</td>\n",
              "      <td>70</td>\n",
              "      <td>{'n_estimators': 70}</td>\n",
              "      <td>0.751764</td>\n",
              "      <td>0.754817</td>\n",
              "      <td>0.757305</td>\n",
              "      <td>0.781786</td>\n",
              "      <td>0.767301</td>\n",
              "      <td>0.762595</td>\n",
              "      <td>0.010920</td>\n",
              "      <td>5</td>\n",
              "    </tr>\n",
              "    <tr>\n",
              "      <th>7</th>\n",
              "      <td>1.130275</td>\n",
              "      <td>0.003225</td>\n",
              "      <td>0.029754</td>\n",
              "      <td>0.000332</td>\n",
              "      <td>80</td>\n",
              "      <td>{'n_estimators': 80}</td>\n",
              "      <td>0.751515</td>\n",
              "      <td>0.754944</td>\n",
              "      <td>0.757293</td>\n",
              "      <td>0.782051</td>\n",
              "      <td>0.767650</td>\n",
              "      <td>0.762691</td>\n",
              "      <td>0.011076</td>\n",
              "      <td>3</td>\n",
              "    </tr>\n",
              "    <tr>\n",
              "      <th>8</th>\n",
              "      <td>1.271500</td>\n",
              "      <td>0.004283</td>\n",
              "      <td>0.034423</td>\n",
              "      <td>0.001631</td>\n",
              "      <td>90</td>\n",
              "      <td>{'n_estimators': 90}</td>\n",
              "      <td>0.750878</td>\n",
              "      <td>0.754986</td>\n",
              "      <td>0.757039</td>\n",
              "      <td>0.781704</td>\n",
              "      <td>0.766812</td>\n",
              "      <td>0.762284</td>\n",
              "      <td>0.011032</td>\n",
              "      <td>6</td>\n",
              "    </tr>\n",
              "    <tr>\n",
              "      <th>9</th>\n",
              "      <td>1.418267</td>\n",
              "      <td>0.016506</td>\n",
              "      <td>0.036457</td>\n",
              "      <td>0.000904</td>\n",
              "      <td>100</td>\n",
              "      <td>{'n_estimators': 100}</td>\n",
              "      <td>0.751308</td>\n",
              "      <td>0.755503</td>\n",
              "      <td>0.757298</td>\n",
              "      <td>0.782047</td>\n",
              "      <td>0.767213</td>\n",
              "      <td>0.762674</td>\n",
              "      <td>0.011004</td>\n",
              "      <td>4</td>\n",
              "    </tr>\n",
              "  </tbody>\n",
              "</table>\n",
              "</div>"
            ],
            "text/plain": [
              "   mean_fit_time  std_fit_time  ...  std_test_score  rank_test_score\n",
              "0       0.154871      0.003667  ...        0.010642               10\n",
              "1       0.299660      0.004873  ...        0.010118                9\n",
              "2       0.432600      0.009178  ...        0.010074                7\n",
              "3       0.567033      0.004884  ...        0.010702                8\n",
              "4       0.711624      0.007673  ...        0.010569                1\n",
              "5       0.853551      0.004481  ...        0.010610                2\n",
              "6       0.995664      0.009287  ...        0.010920                5\n",
              "7       1.130275      0.003225  ...        0.011076                3\n",
              "8       1.271500      0.004283  ...        0.011032                6\n",
              "9       1.418267      0.016506  ...        0.011004                4\n",
              "\n",
              "[10 rows x 14 columns]"
            ]
          },
          "metadata": {
            "tags": []
          },
          "execution_count": 30
        }
      ]
    },
    {
      "cell_type": "code",
      "metadata": {
        "id": "bdiWGoBADs7T",
        "colab": {
          "base_uri": "https://localhost:8080/",
          "height": 225
        },
        "outputId": "170477d9-ce10-49a4-d5fa-4c13c5012f22"
      },
      "source": [
        "fig, axs = plt.subplots ( nrows=1, ncols=2, figsize= (6,3) ) \n",
        "\n",
        "axs[0].plot (\n",
        "    cv_rf_ex_results_df['param_n_estimators'],\n",
        "    cv_rf_ex_results_df['mean_fit_time'],\n",
        "    '-0'\n",
        ")\n",
        "\n",
        "axs[0].set_xlabel  ( 'Number of Trees')\n",
        "axs[0].set_ylabel  ( 'Mean fit time (seconds)')\n",
        "\n",
        "axs[1].errorbar (\n",
        "    cv_rf_ex_results_df['param_n_estimators'],\n",
        "    cv_rf_ex_results_df['mean_test_score'],\n",
        "    yerr=cv_rf_ex_results_df['std_test_score']\n",
        ")\n",
        "\n",
        "axs[1].set_xlabel  ( 'Number of Trees')\n",
        "axs[1].set_ylabel  ( 'Mean Testing ROC AUC $\\pm$1 s.d.')\n",
        "\n",
        "\n",
        "plt.tight_layout()"
      ],
      "execution_count": 31,
      "outputs": [
        {
          "output_type": "display_data",
          "data": {
            "image/png": "[encoded data removed]",
            "text/plain": [
              "<Figure size 432x216 with 2 Axes>"
            ]
          },
          "metadata": {
            "tags": [],
            "needs_background": "light"
          }
        }
      ]
    },
    {
      "cell_type": "code",
      "metadata": {
        "id": "Mqze1dX_Ds7U",
        "colab": {
          "base_uri": "https://localhost:8080/"
        },
        "outputId": "762d8324-f40e-4790-ffc8-cb0a291d4442"
      },
      "source": [
        "cv_rf_ex.best_params_"
      ],
      "execution_count": 32,
      "outputs": [
        {
          "output_type": "execute_result",
          "data": {
            "text/plain": [
              "{'n_estimators': 50}"
            ]
          },
          "metadata": {
            "tags": []
          },
          "execution_count": 32
        }
      ]
    },
    {
      "cell_type": "code",
      "metadata": {
        "id": "SqzSLvuFDs7V",
        "colab": {
          "base_uri": "https://localhost:8080/",
          "height": 355
        },
        "outputId": "eda0e676-59fa-4633-ee82-3aa2f1dd4c5f"
      },
      "source": [
        "df_feature_importance = pd.DataFrame (  { 'Feature name': features_response[:-1],\n",
        "                                         'Importance'   : cv_rf_ex.best_estimator_.feature_importances_\n",
        "                                        })\n",
        "\n",
        "df_feature_importance.sort_values ('Importance', ascending= False)[0:10]"
      ],
      "execution_count": 33,
      "outputs": [
        {
          "output_type": "execute_result",
          "data": {
            "text/html": [
              "<div>\n",
              "<style scoped>\n",
              "    .dataframe tbody tr th:only-of-type {\n",
              "        vertical-align: middle;\n",
              "    }\n",
              "\n",
              "    .dataframe tbody tr th {\n",
              "        vertical-align: top;\n",
              "    }\n",
              "\n",
              "    .dataframe thead th {\n",
              "        text-align: right;\n",
              "    }\n",
              "</style>\n",
              "<table border=\"1\" class=\"dataframe\">\n",
              "  <thead>\n",
              "    <tr style=\"text-align: right;\">\n",
              "      <th></th>\n",
              "      <th>Feature name</th>\n",
              "      <th>Importance</th>\n",
              "    </tr>\n",
              "  </thead>\n",
              "  <tbody>\n",
              "    <tr>\n",
              "      <th>4</th>\n",
              "      <td>PAY_1</td>\n",
              "      <td>0.609609</td>\n",
              "    </tr>\n",
              "    <tr>\n",
              "      <th>11</th>\n",
              "      <td>PAY_AMT1</td>\n",
              "      <td>0.094123</td>\n",
              "    </tr>\n",
              "    <tr>\n",
              "      <th>0</th>\n",
              "      <td>LIMIT_BAL</td>\n",
              "      <td>0.079265</td>\n",
              "    </tr>\n",
              "    <tr>\n",
              "      <th>13</th>\n",
              "      <td>PAY_AMT3</td>\n",
              "      <td>0.047067</td>\n",
              "    </tr>\n",
              "    <tr>\n",
              "      <th>12</th>\n",
              "      <td>PAY_AMT2</td>\n",
              "      <td>0.035393</td>\n",
              "    </tr>\n",
              "    <tr>\n",
              "      <th>6</th>\n",
              "      <td>BILL_AMT2</td>\n",
              "      <td>0.022422</td>\n",
              "    </tr>\n",
              "    <tr>\n",
              "      <th>14</th>\n",
              "      <td>PAY_AMT4</td>\n",
              "      <td>0.021164</td>\n",
              "    </tr>\n",
              "    <tr>\n",
              "      <th>15</th>\n",
              "      <td>PAY_AMT5</td>\n",
              "      <td>0.015962</td>\n",
              "    </tr>\n",
              "    <tr>\n",
              "      <th>10</th>\n",
              "      <td>BILL_AMT6</td>\n",
              "      <td>0.014293</td>\n",
              "    </tr>\n",
              "    <tr>\n",
              "      <th>8</th>\n",
              "      <td>BILL_AMT4</td>\n",
              "      <td>0.013454</td>\n",
              "    </tr>\n",
              "  </tbody>\n",
              "</table>\n",
              "</div>"
            ],
            "text/plain": [
              "   Feature name  Importance\n",
              "4         PAY_1    0.609609\n",
              "11     PAY_AMT1    0.094123\n",
              "0     LIMIT_BAL    0.079265\n",
              "13     PAY_AMT3    0.047067\n",
              "12     PAY_AMT2    0.035393\n",
              "6     BILL_AMT2    0.022422\n",
              "14     PAY_AMT4    0.021164\n",
              "15     PAY_AMT5    0.015962\n",
              "10    BILL_AMT6    0.014293\n",
              "8     BILL_AMT4    0.013454"
            ]
          },
          "metadata": {
            "tags": []
          },
          "execution_count": 33
        }
      ]
    },
    {
      "cell_type": "markdown",
      "metadata": {
        "id": "GTtZvipADs7W"
      },
      "source": [
        "The best hyperparameter is 50 trees, what ROC AUC can be obtained on the holdout data?"
      ]
    },
    {
      "cell_type": "code",
      "metadata": {
        "id": "zqNxcL9qDs7X"
      },
      "source": [
        "rf.n_estimators = 50"
      ],
      "execution_count": 34,
      "outputs": []
    },
    {
      "cell_type": "code",
      "metadata": {
        "id": "aNKvtXGdDs7X",
        "colab": {
          "base_uri": "https://localhost:8080/"
        },
        "outputId": "bd7a536b-7a76-4a3b-9c6a-e9ff169f453c"
      },
      "source": [
        "rf.fit ( X_train, y_train)"
      ],
      "execution_count": 35,
      "outputs": [
        {
          "output_type": "execute_result",
          "data": {
            "text/plain": [
              "RandomForestClassifier(bootstrap=True, ccp_alpha=0.0, class_weight=None,\n",
              "                       criterion='gini', max_depth=3, max_features='auto',\n",
              "                       max_leaf_nodes=None, max_samples=None,\n",
              "                       min_impurity_decrease=0.0, min_impurity_split=None,\n",
              "                       min_samples_leaf=1, min_samples_split=2,\n",
              "                       min_weight_fraction_leaf=0.0, n_estimators=50,\n",
              "                       n_jobs=None, oob_score=False, random_state=4, verbose=0,\n",
              "                       warm_start=False)"
            ]
          },
          "metadata": {
            "tags": []
          },
          "execution_count": 35
        }
      ]
    },
    {
      "cell_type": "code",
      "metadata": {
        "id": "9uzqZeGvDs7Z",
        "colab": {
          "base_uri": "https://localhost:8080/"
        },
        "outputId": "b8327d66-f5ad-4cb0-96e4-8e7fd6fd5d92"
      },
      "source": [
        "predict_proba =  rf.predict_proba ( X_test ) \n",
        "#fpr, tpr, thresholds =  roc_curve (y_cv_test, predict_proba[:,1])\n",
        "roc_score = roc_auc_score (y_test, predict_proba[:,1])    \n",
        "print (roc_score)\n"
      ],
      "execution_count": 36,
      "outputs": [
        {
          "output_type": "stream",
          "text": [
            "0.7627206206909415\n"
          ],
          "name": "stdout"
        }
      ]
    },
    {
      "cell_type": "markdown",
      "metadata": {
        "id": "EJ9Z4vCUDs7a"
      },
      "source": [
        "### <a id= TWO_PARAMS>Try and fit a better random forest model by varying two parameters</a>"
      ]
    },
    {
      "cell_type": "code",
      "metadata": {
        "id": "_N7HcA8FDs7a",
        "colab": {
          "base_uri": "https://localhost:8080/"
        },
        "outputId": "49a76256-4202-4c93-8509-531247a8c5be"
      },
      "source": [
        "# Number of trees\n",
        "rf_params_ex = { 'n_estimators': [10,50,150,200],\n",
        "                 'max_depth'   : [3,6,9,12] \n",
        "               }\n",
        "rf_params_ex"
      ],
      "execution_count": 52,
      "outputs": [
        {
          "output_type": "execute_result",
          "data": {
            "text/plain": [
              "{'max_depth': [3, 6, 9, 12], 'n_estimators': [10, 50, 150, 200]}"
            ]
          },
          "metadata": {
            "tags": []
          },
          "execution_count": 52
        }
      ]
    },
    {
      "cell_type": "code",
      "metadata": {
        "id": "Nb5EWUfZDs7b",
        "colab": {
          "base_uri": "https://localhost:8080/"
        },
        "outputId": "f44fdba1-39a6-4a4f-9ded-c9c0a8e80cac"
      },
      "source": [
        "cv_rf_ex = GridSearchCV ( rf, param_grid = rf_params_ex, \n",
        "                         scoring= 'roc_auc'\n",
        "                        )\n",
        "cv_rf_ex.cv = 5\n",
        "cv_rf_ex.verbose = True\n",
        "cv_rf_ex.fit ( X_train, y_train)\n"
      ],
      "execution_count": 53,
      "outputs": [
        {
          "output_type": "stream",
          "text": [
            "Fitting 5 folds for each of 16 candidates, totalling 80 fits\n"
          ],
          "name": "stdout"
        },
        {
          "output_type": "stream",
          "text": [
            "[Parallel(n_jobs=1)]: Using backend SequentialBackend with 1 concurrent workers.\n",
            "[Parallel(n_jobs=1)]: Done  80 out of  80 | elapsed:  4.0min finished\n"
          ],
          "name": "stderr"
        },
        {
          "output_type": "execute_result",
          "data": {
            "text/plain": [
              "GridSearchCV(cv=5, error_score=nan,\n",
              "             estimator=RandomForestClassifier(bootstrap=True, ccp_alpha=0.0,\n",
              "                                              class_weight=None,\n",
              "                                              criterion='gini', max_depth=3,\n",
              "                                              max_features='auto',\n",
              "                                              max_leaf_nodes=None,\n",
              "                                              max_samples=None,\n",
              "                                              min_impurity_decrease=0.0,\n",
              "                                              min_impurity_split=None,\n",
              "                                              min_samples_leaf=1,\n",
              "                                              min_samples_split=2,\n",
              "                                              min_weight_fraction_leaf=0.0,\n",
              "                                              n_estimators=50, n_jobs=None,\n",
              "                                              oob_score=False, random_state=4,\n",
              "                                              verbose=0, warm_start=False),\n",
              "             iid='deprecated', n_jobs=None,\n",
              "             param_grid={'max_depth': [3, 6, 9, 12],\n",
              "                         'n_estimators': [10, 50, 150, 200]},\n",
              "             pre_dispatch='2*n_jobs', refit=True, return_train_score=False,\n",
              "             scoring='roc_auc', verbose=True)"
            ]
          },
          "metadata": {
            "tags": []
          },
          "execution_count": 53
        }
      ]
    },
    {
      "cell_type": "code",
      "metadata": {
        "id": "_7ZDSfO9Ds7d"
      },
      "source": [
        "cv_rf_ex_results_df_2 = pd.DataFrame ( cv_rf_ex.cv_results_)"
      ],
      "execution_count": 58,
      "outputs": []
    },
    {
      "cell_type": "code",
      "metadata": {
        "id": "intar7kyDs7d",
        "colab": {
          "base_uri": "https://localhost:8080/",
          "height": 482
        },
        "outputId": "91221727-57a2-40dc-acbb-ce8af6ab2c49"
      },
      "source": [
        "cv_rf_ex_results_df_2.head()"
      ],
      "execution_count": 40,
      "outputs": [
        {
          "output_type": "execute_result",
          "data": {
            "text/html": [
              "<div>\n",
              "<style scoped>\n",
              "    .dataframe tbody tr th:only-of-type {\n",
              "        vertical-align: middle;\n",
              "    }\n",
              "\n",
              "    .dataframe tbody tr th {\n",
              "        vertical-align: top;\n",
              "    }\n",
              "\n",
              "    .dataframe thead th {\n",
              "        text-align: right;\n",
              "    }\n",
              "</style>\n",
              "<table border=\"1\" class=\"dataframe\">\n",
              "  <thead>\n",
              "    <tr style=\"text-align: right;\">\n",
              "      <th></th>\n",
              "      <th>mean_fit_time</th>\n",
              "      <th>std_fit_time</th>\n",
              "      <th>mean_score_time</th>\n",
              "      <th>std_score_time</th>\n",
              "      <th>param_max_depth</th>\n",
              "      <th>param_n_estimators</th>\n",
              "      <th>params</th>\n",
              "      <th>split0_test_score</th>\n",
              "      <th>split1_test_score</th>\n",
              "      <th>split2_test_score</th>\n",
              "      <th>split3_test_score</th>\n",
              "      <th>split4_test_score</th>\n",
              "      <th>mean_test_score</th>\n",
              "      <th>std_test_score</th>\n",
              "      <th>rank_test_score</th>\n",
              "    </tr>\n",
              "  </thead>\n",
              "  <tbody>\n",
              "    <tr>\n",
              "      <th>0</th>\n",
              "      <td>0.156687</td>\n",
              "      <td>0.006157</td>\n",
              "      <td>0.008112</td>\n",
              "      <td>0.000857</td>\n",
              "      <td>3</td>\n",
              "      <td>10</td>\n",
              "      <td>{'max_depth': 3, 'n_estimators': 10}</td>\n",
              "      <td>0.746594</td>\n",
              "      <td>0.745945</td>\n",
              "      <td>0.751689</td>\n",
              "      <td>0.771846</td>\n",
              "      <td>0.766402</td>\n",
              "      <td>0.756495</td>\n",
              "      <td>0.010642</td>\n",
              "      <td>12</td>\n",
              "    </tr>\n",
              "    <tr>\n",
              "      <th>1</th>\n",
              "      <td>0.722831</td>\n",
              "      <td>0.008645</td>\n",
              "      <td>0.020088</td>\n",
              "      <td>0.000340</td>\n",
              "      <td>3</td>\n",
              "      <td>50</td>\n",
              "      <td>{'max_depth': 3, 'n_estimators': 50}</td>\n",
              "      <td>0.753248</td>\n",
              "      <td>0.755398</td>\n",
              "      <td>0.758032</td>\n",
              "      <td>0.782004</td>\n",
              "      <td>0.767485</td>\n",
              "      <td>0.763233</td>\n",
              "      <td>0.010569</td>\n",
              "      <td>9</td>\n",
              "    </tr>\n",
              "    <tr>\n",
              "      <th>2</th>\n",
              "      <td>2.844932</td>\n",
              "      <td>0.017640</td>\n",
              "      <td>0.070696</td>\n",
              "      <td>0.003426</td>\n",
              "      <td>3</td>\n",
              "      <td>200</td>\n",
              "      <td>{'max_depth': 3, 'n_estimators': 200}</td>\n",
              "      <td>0.751069</td>\n",
              "      <td>0.756028</td>\n",
              "      <td>0.756214</td>\n",
              "      <td>0.782581</td>\n",
              "      <td>0.768464</td>\n",
              "      <td>0.762871</td>\n",
              "      <td>0.011403</td>\n",
              "      <td>10</td>\n",
              "    </tr>\n",
              "    <tr>\n",
              "      <th>3</th>\n",
              "      <td>0.250723</td>\n",
              "      <td>0.002392</td>\n",
              "      <td>0.009012</td>\n",
              "      <td>0.000747</td>\n",
              "      <td>6</td>\n",
              "      <td>10</td>\n",
              "      <td>{'max_depth': 6, 'n_estimators': 10}</td>\n",
              "      <td>0.759909</td>\n",
              "      <td>0.759460</td>\n",
              "      <td>0.764322</td>\n",
              "      <td>0.782160</td>\n",
              "      <td>0.769147</td>\n",
              "      <td>0.767000</td>\n",
              "      <td>0.008351</td>\n",
              "      <td>8</td>\n",
              "    </tr>\n",
              "    <tr>\n",
              "      <th>4</th>\n",
              "      <td>1.207037</td>\n",
              "      <td>0.009968</td>\n",
              "      <td>0.025203</td>\n",
              "      <td>0.000294</td>\n",
              "      <td>6</td>\n",
              "      <td>50</td>\n",
              "      <td>{'max_depth': 6, 'n_estimators': 50}</td>\n",
              "      <td>0.763926</td>\n",
              "      <td>0.768048</td>\n",
              "      <td>0.768751</td>\n",
              "      <td>0.789816</td>\n",
              "      <td>0.775362</td>\n",
              "      <td>0.773181</td>\n",
              "      <td>0.009090</td>\n",
              "      <td>6</td>\n",
              "    </tr>\n",
              "  </tbody>\n",
              "</table>\n",
              "</div>"
            ],
            "text/plain": [
              "   mean_fit_time  std_fit_time  ...  std_test_score  rank_test_score\n",
              "0       0.156687      0.006157  ...        0.010642               12\n",
              "1       0.722831      0.008645  ...        0.010569                9\n",
              "2       2.844932      0.017640  ...        0.011403               10\n",
              "3       0.250723      0.002392  ...        0.008351                8\n",
              "4       1.207037      0.009968  ...        0.009090                6\n",
              "\n",
              "[5 rows x 15 columns]"
            ]
          },
          "metadata": {
            "tags": []
          },
          "execution_count": 40
        }
      ]
    },
    {
      "cell_type": "code",
      "metadata": {
        "id": "nCvuxW2uJ6Ug"
      },
      "source": [
        ""
      ],
      "execution_count": null,
      "outputs": []
    },
    {
      "cell_type": "markdown",
      "metadata": {
        "id": "ruwH-y1LJ96J"
      },
      "source": [
        "Show the grid results"
      ]
    },
    {
      "cell_type": "code",
      "metadata": {
        "colab": {
          "base_uri": "https://localhost:8080/",
          "height": 299
        },
        "id": "FW-Qo3OrKDUg",
        "outputId": "0cf5a9a8-99c4-44b8-de9f-a02118b2b308"
      },
      "source": [
        "xx_rf , yy_rf = np.meshgrid ( range (5), range(5)   )\n",
        "cm_rf = plt.cm.jet\n",
        "ax_rf = plt.axes ()\n",
        "pcolor_graph = ax_rf.pcolormesh (xx_rf , yy_rf , cv_rf_ex_results_df_2['mean_test_score'].values.reshape ((4,4)), cmap=cm_rf )\n",
        "plt.colorbar (pcolor_graph, label= 'Average testing ROC AUC')\n",
        "ax_rf.set_aspect ('equal')\n",
        "ax_rf.set_xticks ( [0.5, 1.5, 2.5, 3.5])\n",
        "ax_rf.set_yticks ( [0.5, 1.5, 2.5, 3.5])\n",
        "lst_labels_x = [str(tick_label) for tick_label in rf_params_ex['n_estimators'] ]\n",
        "lst_labels_y = [str(tick_label) for tick_label in rf_params_ex['max_depth'] ] \n",
        "ax_rf.set_xticklabels ( lst_labels_x)\n",
        "ax_rf.set_yticklabels ( lst_labels_y)\n",
        "ax_rf.set_xlabel ( 'Number of Trees')\n",
        "ax_rf.set_ylabel ( 'Maximum Depth')\n"
      ],
      "execution_count": 72,
      "outputs": [
        {
          "output_type": "execute_result",
          "data": {
            "text/plain": [
              "Text(0, 0.5, 'Maximum Depth')"
            ]
          },
          "metadata": {
            "tags": []
          },
          "execution_count": 72
        },
        {
          "output_type": "display_data",
          "data": {
            "image/png": "[encoded data removed]",
            "text/plain": [
              "<Figure size 432x288 with 2 Axes>"
            ]
          },
          "metadata": {
            "tags": [],
            "needs_background": "light"
          }
        }
      ]
    },
    {
      "cell_type": "code",
      "metadata": {
        "id": "kQcXeWTlDs7e",
        "colab": {
          "base_uri": "https://localhost:8080/"
        },
        "outputId": "2e7dc32e-f819-4f81-a177-4dc409c7effe"
      },
      "source": [
        "cv_rf_ex.best_params_"
      ],
      "execution_count": 70,
      "outputs": [
        {
          "output_type": "execute_result",
          "data": {
            "text/plain": [
              "{'max_depth': 9, 'n_estimators': 200}"
            ]
          },
          "metadata": {
            "tags": []
          },
          "execution_count": 70
        }
      ]
    },
    {
      "cell_type": "code",
      "metadata": {
        "id": "VDkb4S2nDs7g",
        "colab": {
          "base_uri": "https://localhost:8080/"
        },
        "outputId": "f0ccebd6-90f8-4017-d8a2-79c3a038051b"
      },
      "source": [
        "cv_rf_ex.max_depth = 9\n",
        "cv_rf_ex.n_estimators = 200\n",
        "rf.fit ( X_train, y_train)"
      ],
      "execution_count": 71,
      "outputs": [
        {
          "output_type": "execute_result",
          "data": {
            "text/plain": [
              "RandomForestClassifier(bootstrap=True, ccp_alpha=0.0, class_weight=None,\n",
              "                       criterion='gini', max_depth=3, max_features='auto',\n",
              "                       max_leaf_nodes=None, max_samples=None,\n",
              "                       min_impurity_decrease=0.0, min_impurity_split=None,\n",
              "                       min_samples_leaf=1, min_samples_split=2,\n",
              "                       min_weight_fraction_leaf=0.0, n_estimators=50,\n",
              "                       n_jobs=None, oob_score=False, random_state=4, verbose=0,\n",
              "                       warm_start=False)"
            ]
          },
          "metadata": {
            "tags": []
          },
          "execution_count": 71
        }
      ]
    },
    {
      "cell_type": "code",
      "metadata": {
        "id": "O3tEY1mzDs7j",
        "colab": {
          "base_uri": "https://localhost:8080/"
        },
        "outputId": "3f1d4fff-e91a-46ec-a649-47a4476b3808"
      },
      "source": [
        "predict_proba =  rf.predict_proba ( X_test ) \n",
        "#fpr, tpr, thresholds =  roc_curve (y_cv_test, predict_proba[:,1])\n",
        "roc_score = roc_auc_score (y_test, predict_proba[:,1])    \n",
        "print (roc_score)"
      ],
      "execution_count": 73,
      "outputs": [
        {
          "output_type": "stream",
          "text": [
            "0.7627206206909415\n"
          ],
          "name": "stdout"
        }
      ]
    },
    {
      "cell_type": "markdown",
      "metadata": {
        "id": "EEJphkXmap1c"
      },
      "source": [
        "Plot the ROC Curve"
      ]
    },
    {
      "cell_type": "code",
      "metadata": {
        "colab": {
          "base_uri": "https://localhost:8080/",
          "height": 297
        },
        "id": "tUh6lZH7KBeH",
        "outputId": "7f00ac43-f9f6-4f03-cafc-59cf671279b0"
      },
      "source": [
        "from sklearn.metrics import roc_curve\n",
        "predict_proba =  dt.predict_proba (X_test ) \n",
        "fpr, tpr, thresholds = roc_obj = roc_curve (y_test, predict_proba[:,1])\n",
        "plt.plot (fpr, tpr, 'g*-')\n",
        "plt.plot ( [0,1], [0,1], 'r--')\n",
        "\n",
        "plt.xlabel ('FPR')\n",
        "plt.ylabel ('TPR')\n"
      ],
      "execution_count": 74,
      "outputs": [
        {
          "output_type": "execute_result",
          "data": {
            "text/plain": [
              "Text(0, 0.5, 'TPR')"
            ]
          },
          "metadata": {
            "tags": []
          },
          "execution_count": 74
        },
        {
          "output_type": "display_data",
          "data": {
            "image/png": "[encoded data removed]",
            "text/plain": [
              "<Figure size 432x288 with 1 Axes>"
            ]
          },
          "metadata": {
            "tags": [],
            "needs_background": "light"
          }
        }
      ]
    },
    {
      "cell_type": "code",
      "metadata": {
        "id": "aIv2Ki2TKCh_"
      },
      "source": [
        ""
      ],
      "execution_count": null,
      "outputs": []
    }
  ]
}
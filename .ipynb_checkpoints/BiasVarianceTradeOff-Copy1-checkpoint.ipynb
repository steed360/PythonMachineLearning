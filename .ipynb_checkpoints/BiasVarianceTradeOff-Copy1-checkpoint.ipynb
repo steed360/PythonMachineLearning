{
 "cells": [
  {
   "cell_type": "code",
   "execution_count": 1,
   "metadata": {},
   "outputs": [
    {
     "data": {
      "text/plain": [
       "72.0"
      ]
     },
     "execution_count": 1,
     "metadata": {},
     "output_type": "execute_result"
    }
   ],
   "source": [
    "import numpy as np\n",
    "import matplotlib.pyplot as plt\n",
    "import pandas as pd\n",
    "%matplotlib inline\n",
    "import matplotlib as mpl\n",
    "import seaborn as sns\n",
    "mpl.rcParams['figure.dpi']\n"
   ]
  },
  {
   "cell_type": "code",
   "execution_count": 2,
   "metadata": {},
   "outputs": [],
   "source": [
    "df = pd.read_csv ('chapter_1_cleaned_data.csv')"
   ]
  },
  {
   "cell_type": "code",
   "execution_count": 3,
   "metadata": {},
   "outputs": [],
   "source": [
    "features_response = df.columns.tolist () "
   ]
  },
  {
   "cell_type": "code",
   "execution_count": 74,
   "metadata": {},
   "outputs": [
    {
     "data": {
      "text/plain": [
       "['EDUCATION', 'MARRIAGE', 'AGE', 'PAY_1', 'BILL_AMT1']"
      ]
     },
     "execution_count": 74,
     "metadata": {},
     "output_type": "execute_result"
    }
   ],
   "source": [
    "features_response[0:5]"
   ]
  },
  {
   "cell_type": "code",
   "execution_count": 9,
   "metadata": {},
   "outputs": [
    {
     "data": {
      "text/plain": [
       "['PAY_AMT1',\n",
       " 'PAY_AMT2',\n",
       " 'PAY_AMT3',\n",
       " 'PAY_AMT4',\n",
       " 'PAY_AMT5',\n",
       " 'PAY_AMT6',\n",
       " 'default payment next month']"
      ]
     },
     "execution_count": 9,
     "metadata": {},
     "output_type": "execute_result"
    }
   ],
   "source": [
    "features_response[-7:]"
   ]
  },
  {
   "cell_type": "code",
   "execution_count": 10,
   "metadata": {},
   "outputs": [
    {
     "data": {
      "text/plain": [
       "['LIMIT_BAL',\n",
       " 'ID',\n",
       " 'SEX',\n",
       " 'PAY_2',\n",
       " 'PAY_3',\n",
       " 'PAY_4',\n",
       " 'PAY_5',\n",
       " 'PAY_6',\n",
       " 'EDUCATION_2',\n",
       " 'grad school',\n",
       " 'high school',\n",
       " 'other',\n",
       " 'uni']"
      ]
     },
     "execution_count": 10,
     "metadata": {},
     "output_type": "execute_result"
    }
   ],
   "source": [
    "lst_items_to_remove = [features_response[0]] +['ID', 'SEX','PAY_2','PAY_3','PAY_4','PAY_5','PAY_6','EDUCATION_2', 'grad school', 'high school', 'other', 'uni']\n",
    "lst_items_to_remove"
   ]
  },
  {
   "cell_type": "code",
   "execution_count": 11,
   "metadata": {},
   "outputs": [
    {
     "data": {
      "text/plain": [
       "['EDUCATION',\n",
       " 'MARRIAGE',\n",
       " 'AGE',\n",
       " 'PAY_1',\n",
       " 'BILL_AMT1',\n",
       " 'BILL_AMT2',\n",
       " 'BILL_AMT3',\n",
       " 'BILL_AMT4',\n",
       " 'BILL_AMT5',\n",
       " 'BILL_AMT6',\n",
       " 'PAY_AMT1',\n",
       " 'PAY_AMT2',\n",
       " 'PAY_AMT3',\n",
       " 'PAY_AMT4',\n",
       " 'PAY_AMT5',\n",
       " 'PAY_AMT6',\n",
       " 'default payment next month']"
      ]
     },
     "execution_count": 11,
     "metadata": {},
     "output_type": "execute_result"
    }
   ],
   "source": [
    "features_response = [item for item in features_response if item not in lst_items_to_remove]\n",
    "features_response"
   ]
  },
  {
   "cell_type": "code",
   "execution_count": 12,
   "metadata": {},
   "outputs": [
    {
     "data": {
      "text/html": [
       "<div>\n",
       "<style scoped>\n",
       "    .dataframe tbody tr th:only-of-type {\n",
       "        vertical-align: middle;\n",
       "    }\n",
       "\n",
       "    .dataframe tbody tr th {\n",
       "        vertical-align: top;\n",
       "    }\n",
       "\n",
       "    .dataframe thead th {\n",
       "        text-align: right;\n",
       "    }\n",
       "</style>\n",
       "<table border=\"1\" class=\"dataframe\">\n",
       "  <thead>\n",
       "    <tr style=\"text-align: right;\">\n",
       "      <th></th>\n",
       "      <th>EDUCATION</th>\n",
       "      <th>MARRIAGE</th>\n",
       "      <th>AGE</th>\n",
       "      <th>PAY_1</th>\n",
       "      <th>BILL_AMT1</th>\n",
       "    </tr>\n",
       "  </thead>\n",
       "  <tbody>\n",
       "    <tr>\n",
       "      <th>EDUCATION</th>\n",
       "      <td>1.000000</td>\n",
       "      <td>-0.137097</td>\n",
       "      <td>0.179035</td>\n",
       "      <td>0.112653</td>\n",
       "      <td>0.016156</td>\n",
       "    </tr>\n",
       "    <tr>\n",
       "      <th>MARRIAGE</th>\n",
       "      <td>-0.137097</td>\n",
       "      <td>1.000000</td>\n",
       "      <td>-0.412828</td>\n",
       "      <td>0.019759</td>\n",
       "      <td>-0.028610</td>\n",
       "    </tr>\n",
       "    <tr>\n",
       "      <th>AGE</th>\n",
       "      <td>0.179035</td>\n",
       "      <td>-0.412828</td>\n",
       "      <td>1.000000</td>\n",
       "      <td>-0.044277</td>\n",
       "      <td>0.056245</td>\n",
       "    </tr>\n",
       "    <tr>\n",
       "      <th>PAY_1</th>\n",
       "      <td>0.112653</td>\n",
       "      <td>0.019759</td>\n",
       "      <td>-0.044277</td>\n",
       "      <td>1.000000</td>\n",
       "      <td>0.185826</td>\n",
       "    </tr>\n",
       "    <tr>\n",
       "      <th>BILL_AMT1</th>\n",
       "      <td>0.016156</td>\n",
       "      <td>-0.028610</td>\n",
       "      <td>0.056245</td>\n",
       "      <td>0.185826</td>\n",
       "      <td>1.000000</td>\n",
       "    </tr>\n",
       "  </tbody>\n",
       "</table>\n",
       "</div>"
      ],
      "text/plain": [
       "           EDUCATION  MARRIAGE       AGE     PAY_1  BILL_AMT1\n",
       "EDUCATION   1.000000 -0.137097  0.179035  0.112653   0.016156\n",
       "MARRIAGE   -0.137097  1.000000 -0.412828  0.019759  -0.028610\n",
       "AGE         0.179035 -0.412828  1.000000 -0.044277   0.056245\n",
       "PAY_1       0.112653  0.019759 -0.044277  1.000000   0.185826\n",
       "BILL_AMT1   0.016156 -0.028610  0.056245  0.185826   1.000000"
      ]
     },
     "execution_count": 12,
     "metadata": {},
     "output_type": "execute_result"
    }
   ],
   "source": [
    "corr = df[features_response].corr()\n",
    "corr.iloc[0:5,0:5]"
   ]
  },
  {
   "cell_type": "code",
   "execution_count": 13,
   "metadata": {},
   "outputs": [
    {
     "data": {
      "text/plain": [
       "<matplotlib.axes._subplots.AxesSubplot at 0x1c45257efc8>"
      ]
     },
     "execution_count": 13,
     "metadata": {},
     "output_type": "execute_result"
    },
    {
     "data": {
      "image/png": "[encoded data removed]",
      "text/plain": [
       "<Figure size 432x288 with 2 Axes>"
      ]
     },
     "metadata": {
      "needs_background": "light"
     },
     "output_type": "display_data"
    }
   ],
   "source": [
    "sns.heatmap ( corr, \n",
    "            xticklabels=corr.columns.values,\n",
    "            yticklabels=corr.columns.values,\n",
    "            center = 0\n",
    "            )"
   ]
  },
  {
   "cell_type": "markdown",
   "metadata": {},
   "source": [
    "# Feature Selection"
   ]
  },
  {
   "cell_type": "code",
   "execution_count": 71,
   "metadata": {},
   "outputs": [
    {
     "name": "stdout",
     "output_type": "stream",
     "text": [
      "(26664, 15) (26664,)\n"
     ]
    }
   ],
   "source": [
    "X = df[features_response].iloc[:,:-2].values\n",
    "y = df[features_response].iloc[:,-1].values\n",
    "print (X.shape, y.shape)"
   ]
  },
  {
   "cell_type": "code",
   "execution_count": 15,
   "metadata": {},
   "outputs": [],
   "source": [
    "from sklearn.feature_selection import f_classif\n",
    "[f_stat, f_p_value] = f_classif (X, y)"
   ]
  },
  {
   "cell_type": "code",
   "execution_count": 16,
   "metadata": {},
   "outputs": [
    {
     "data": {
      "text/html": [
       "<div>\n",
       "<style scoped>\n",
       "    .dataframe tbody tr th:only-of-type {\n",
       "        vertical-align: middle;\n",
       "    }\n",
       "\n",
       "    .dataframe tbody tr th {\n",
       "        vertical-align: top;\n",
       "    }\n",
       "\n",
       "    .dataframe thead th {\n",
       "        text-align: right;\n",
       "    }\n",
       "</style>\n",
       "<table border=\"1\" class=\"dataframe\">\n",
       "  <thead>\n",
       "    <tr style=\"text-align: right;\">\n",
       "      <th></th>\n",
       "      <th>Feature</th>\n",
       "      <th>F-Statistic</th>\n",
       "      <th>p_value</th>\n",
       "    </tr>\n",
       "  </thead>\n",
       "  <tbody>\n",
       "    <tr>\n",
       "      <th>3</th>\n",
       "      <td>PAY_1</td>\n",
       "      <td>3156.672300</td>\n",
       "      <td>0.000000e+00</td>\n",
       "    </tr>\n",
       "    <tr>\n",
       "      <th>10</th>\n",
       "      <td>PAY_AMT1</td>\n",
       "      <td>140.612679</td>\n",
       "      <td>2.358354e-32</td>\n",
       "    </tr>\n",
       "    <tr>\n",
       "      <th>11</th>\n",
       "      <td>PAY_AMT2</td>\n",
       "      <td>101.408321</td>\n",
       "      <td>8.256124e-24</td>\n",
       "    </tr>\n",
       "    <tr>\n",
       "      <th>12</th>\n",
       "      <td>PAY_AMT3</td>\n",
       "      <td>90.023873</td>\n",
       "      <td>2.542641e-21</td>\n",
       "    </tr>\n",
       "    <tr>\n",
       "      <th>14</th>\n",
       "      <td>PAY_AMT5</td>\n",
       "      <td>85.843295</td>\n",
       "      <td>2.090120e-20</td>\n",
       "    </tr>\n",
       "    <tr>\n",
       "      <th>13</th>\n",
       "      <td>PAY_AMT4</td>\n",
       "      <td>79.640021</td>\n",
       "      <td>4.774112e-19</td>\n",
       "    </tr>\n",
       "    <tr>\n",
       "      <th>0</th>\n",
       "      <td>EDUCATION</td>\n",
       "      <td>32.637768</td>\n",
       "      <td>1.122175e-08</td>\n",
       "    </tr>\n",
       "    <tr>\n",
       "      <th>1</th>\n",
       "      <td>MARRIAGE</td>\n",
       "      <td>18.078027</td>\n",
       "      <td>2.127555e-05</td>\n",
       "    </tr>\n",
       "    <tr>\n",
       "      <th>4</th>\n",
       "      <td>BILL_AMT1</td>\n",
       "      <td>11.218406</td>\n",
       "      <td>8.110226e-04</td>\n",
       "    </tr>\n",
       "    <tr>\n",
       "      <th>6</th>\n",
       "      <td>BILL_AMT3</td>\n",
       "      <td>5.722938</td>\n",
       "      <td>1.675157e-02</td>\n",
       "    </tr>\n",
       "    <tr>\n",
       "      <th>5</th>\n",
       "      <td>BILL_AMT2</td>\n",
       "      <td>5.668454</td>\n",
       "      <td>1.727965e-02</td>\n",
       "    </tr>\n",
       "    <tr>\n",
       "      <th>2</th>\n",
       "      <td>AGE</td>\n",
       "      <td>5.479140</td>\n",
       "      <td>1.925206e-02</td>\n",
       "    </tr>\n",
       "    <tr>\n",
       "      <th>7</th>\n",
       "      <td>BILL_AMT4</td>\n",
       "      <td>3.434740</td>\n",
       "      <td>6.384965e-02</td>\n",
       "    </tr>\n",
       "    <tr>\n",
       "      <th>8</th>\n",
       "      <td>BILL_AMT5</td>\n",
       "      <td>1.216082</td>\n",
       "      <td>2.701409e-01</td>\n",
       "    </tr>\n",
       "    <tr>\n",
       "      <th>9</th>\n",
       "      <td>BILL_AMT6</td>\n",
       "      <td>1.049561</td>\n",
       "      <td>3.056176e-01</td>\n",
       "    </tr>\n",
       "  </tbody>\n",
       "</table>\n",
       "</div>"
      ],
      "text/plain": [
       "      Feature  F-Statistic       p_value\n",
       "3       PAY_1  3156.672300  0.000000e+00\n",
       "10   PAY_AMT1   140.612679  2.358354e-32\n",
       "11   PAY_AMT2   101.408321  8.256124e-24\n",
       "12   PAY_AMT3    90.023873  2.542641e-21\n",
       "14   PAY_AMT5    85.843295  2.090120e-20\n",
       "13   PAY_AMT4    79.640021  4.774112e-19\n",
       "0   EDUCATION    32.637768  1.122175e-08\n",
       "1    MARRIAGE    18.078027  2.127555e-05\n",
       "4   BILL_AMT1    11.218406  8.110226e-04\n",
       "6   BILL_AMT3     5.722938  1.675157e-02\n",
       "5   BILL_AMT2     5.668454  1.727965e-02\n",
       "2         AGE     5.479140  1.925206e-02\n",
       "7   BILL_AMT4     3.434740  6.384965e-02\n",
       "8   BILL_AMT5     1.216082  2.701409e-01\n",
       "9   BILL_AMT6     1.049561  3.056176e-01"
      ]
     },
     "execution_count": 16,
     "metadata": {},
     "output_type": "execute_result"
    }
   ],
   "source": [
    "f_test_df = pd.DataFrame ({'Feature':features_response[0:-2]\n",
    "                          ,'F-Statistic':f_stat\n",
    "                          ,'p_value':f_p_value\n",
    "                          })\n",
    "\n",
    "f_test_df.sort_values ('p_value')"
   ]
  },
  {
   "cell_type": "markdown",
   "metadata": {},
   "source": [
    "#### Select the top 20% of feature\n"
   ]
  },
  {
   "cell_type": "code",
   "execution_count": 18,
   "metadata": {},
   "outputs": [],
   "source": [
    "from sklearn.feature_selection import SelectPercentile"
   ]
  },
  {
   "cell_type": "code",
   "execution_count": 19,
   "metadata": {},
   "outputs": [],
   "source": [
    "selector = SelectPercentile ( f_classif, percentile=20)"
   ]
  },
  {
   "cell_type": "code",
   "execution_count": 20,
   "metadata": {},
   "outputs": [
    {
     "data": {
      "text/plain": [
       "SelectPercentile(percentile=20,\n",
       "                 score_func=<function f_classif at 0x000001C4533A6EE8>)"
      ]
     },
     "execution_count": 20,
     "metadata": {},
     "output_type": "execute_result"
    }
   ],
   "source": [
    "selector.fit ( X, y)\n"
   ]
  },
  {
   "cell_type": "code",
   "execution_count": 21,
   "metadata": {},
   "outputs": [
    {
     "data": {
      "text/plain": [
       "array([False, False, False,  True, False, False, False, False, False,\n",
       "       False,  True,  True, False, False, False])"
      ]
     },
     "execution_count": 21,
     "metadata": {},
     "output_type": "execute_result"
    }
   ],
   "source": [
    "best_features_ix = selector.get_support ()\n",
    "best_features_ix"
   ]
  },
  {
   "cell_type": "code",
   "execution_count": 22,
   "metadata": {},
   "outputs": [
    {
     "data": {
      "text/plain": [
       "['PAY_1', 'PAY_AMT1', 'PAY_AMT2']"
      ]
     },
     "execution_count": 22,
     "metadata": {},
     "output_type": "execute_result"
    }
   ],
   "source": [
    "features = features_response[0:-1]\n",
    "best_features = [features[counter] for counter in range ( len(features)-1) if best_features_ix[counter] ]\n",
    "best_features"
   ]
  },
  {
   "cell_type": "markdown",
   "metadata": {},
   "source": [
    "##### Investigate relationship between PAY_1 and dep. variable"
   ]
  },
  {
   "cell_type": "markdown",
   "metadata": {},
   "source": [
    "##### Find overall default rate"
   ]
  },
  {
   "cell_type": "code",
   "execution_count": 23,
   "metadata": {},
   "outputs": [
    {
     "data": {
      "text/plain": [
       "0.2217971797179718"
      ]
     },
     "execution_count": 23,
     "metadata": {},
     "output_type": "execute_result"
    }
   ],
   "source": [
    "overall_default_rate = df ['default payment next month' ].mean ()\n",
    "overall_default_rate"
   ]
  },
  {
   "cell_type": "markdown",
   "metadata": {},
   "source": [
    "#### Show the response average for each PAY_1 class value"
   ]
  },
  {
   "cell_type": "code",
   "execution_count": 24,
   "metadata": {},
   "outputs": [
    {
     "data": {
      "text/html": [
       "<div>\n",
       "<style scoped>\n",
       "    .dataframe tbody tr th:only-of-type {\n",
       "        vertical-align: middle;\n",
       "    }\n",
       "\n",
       "    .dataframe tbody tr th {\n",
       "        vertical-align: top;\n",
       "    }\n",
       "\n",
       "    .dataframe thead th {\n",
       "        text-align: right;\n",
       "    }\n",
       "</style>\n",
       "<table border=\"1\" class=\"dataframe\">\n",
       "  <thead>\n",
       "    <tr style=\"text-align: right;\">\n",
       "      <th></th>\n",
       "      <th>default payment next month</th>\n",
       "    </tr>\n",
       "    <tr>\n",
       "      <th>PAY_1</th>\n",
       "      <th></th>\n",
       "    </tr>\n",
       "  </thead>\n",
       "  <tbody>\n",
       "    <tr>\n",
       "      <th>-2</th>\n",
       "      <td>0.131664</td>\n",
       "    </tr>\n",
       "    <tr>\n",
       "      <th>-1</th>\n",
       "      <td>0.170002</td>\n",
       "    </tr>\n",
       "    <tr>\n",
       "      <th>0</th>\n",
       "      <td>0.128295</td>\n",
       "    </tr>\n",
       "    <tr>\n",
       "      <th>1</th>\n",
       "      <td>0.336400</td>\n",
       "    </tr>\n",
       "    <tr>\n",
       "      <th>2</th>\n",
       "      <td>0.694701</td>\n",
       "    </tr>\n",
       "    <tr>\n",
       "      <th>3</th>\n",
       "      <td>0.773973</td>\n",
       "    </tr>\n",
       "    <tr>\n",
       "      <th>4</th>\n",
       "      <td>0.682540</td>\n",
       "    </tr>\n",
       "    <tr>\n",
       "      <th>5</th>\n",
       "      <td>0.434783</td>\n",
       "    </tr>\n",
       "    <tr>\n",
       "      <th>6</th>\n",
       "      <td>0.545455</td>\n",
       "    </tr>\n",
       "    <tr>\n",
       "      <th>7</th>\n",
       "      <td>0.777778</td>\n",
       "    </tr>\n",
       "    <tr>\n",
       "      <th>8</th>\n",
       "      <td>0.588235</td>\n",
       "    </tr>\n",
       "  </tbody>\n",
       "</table>\n",
       "</div>"
      ],
      "text/plain": [
       "       default payment next month\n",
       "PAY_1                            \n",
       "-2                       0.131664\n",
       "-1                       0.170002\n",
       " 0                       0.128295\n",
       " 1                       0.336400\n",
       " 2                       0.694701\n",
       " 3                       0.773973\n",
       " 4                       0.682540\n",
       " 5                       0.434783\n",
       " 6                       0.545455\n",
       " 7                       0.777778\n",
       " 8                       0.588235"
      ]
     },
     "execution_count": 24,
     "metadata": {},
     "output_type": "execute_result"
    }
   ],
   "source": [
    "group_by_pay_mean_y = df.groupby('PAY_1').agg ({'default payment next month':np.mean })\n",
    "group_by_pay_mean_y"
   ]
  },
  {
   "cell_type": "markdown",
   "metadata": {},
   "source": [
    "#### Plot the trend"
   ]
  },
  {
   "cell_type": "code",
   "execution_count": 25,
   "metadata": {},
   "outputs": [
    {
     "data": {
      "text/plain": [
       "<matplotlib.legend.Legend at 0x1c4540fb148>"
      ]
     },
     "execution_count": 25,
     "metadata": {},
     "output_type": "execute_result"
    },
    {
     "data": {
      "image/png": "[encoded data removed]",
      "text/plain": [
       "<Figure size 432x288 with 1 Axes>"
      ]
     },
     "metadata": {
      "needs_background": "light"
     },
     "output_type": "display_data"
    }
   ],
   "source": [
    "axes = plt.axes()\n",
    "axes.axhline ( overall_default_rate, color='red')\n",
    "group_by_pay_mean_y.plot (marker = 'x', legend=False, ax=axes)\n",
    "axes.set_ylabel ('Prop of Credit defaults')\n",
    "axes.legend (['Entire dataset','Groups of PAY_1'])"
   ]
  },
  {
   "cell_type": "markdown",
   "metadata": {},
   "source": [
    "##### So 30% of people who defaulted last month will default next month..."
   ]
  },
  {
   "cell_type": "markdown",
   "metadata": {},
   "source": [
    "##### Look at the relationship between defulting and LIMIT_BAL"
   ]
  },
  {
   "cell_type": "code",
   "execution_count": 26,
   "metadata": {},
   "outputs": [],
   "source": [
    "pos_mask = y == 1\n",
    "neg_mask  = y == 0"
   ]
  },
  {
   "cell_type": "code",
   "execution_count": 27,
   "metadata": {},
   "outputs": [
    {
     "data": {
      "text/plain": [
       "<matplotlib.legend.Legend at 0x1c4541e6048>"
      ]
     },
     "execution_count": 27,
     "metadata": {},
     "output_type": "execute_result"
    },
    {
     "data": {
      "image/png": "[encoded data removed]",
      "text/plain": [
       "<Figure size 432x288 with 1 Axes>"
      ]
     },
     "metadata": {
      "needs_background": "light"
     },
     "output_type": "display_data"
    }
   ],
   "source": [
    "axes = plt.axes()\n",
    "axes.hist ( df.loc[neg_mask , 'LIMIT_BAL'], alpha=0.5, color='blue')\n",
    "axes.hist ( df.loc[pos_mask , 'LIMIT_BAL'], alpha=0.5, color='red')\n",
    "axes.tick_params ( axis='x', labelrotation=45)\n",
    "axes.set_xlabel ( 'Credit Limit (NTS$)')\n",
    "axes.set_ylabel ('Number of accounts')\n",
    "axes.legend ( ['Not defaulted', 'Defaulted'])"
   ]
  },
  {
   "cell_type": "markdown",
   "metadata": {},
   "source": [
    "#### Not very useful chart, needs to be a density historgram"
   ]
  },
  {
   "cell_type": "code",
   "execution_count": 28,
   "metadata": {},
   "outputs": [
    {
     "data": {
      "text/plain": [
       "17"
      ]
     },
     "execution_count": 28,
     "metadata": {},
     "output_type": "execute_result"
    }
   ],
   "source": [
    "bin_edges= list (range (0, 850000, 50000))\n",
    "len (bin_edges)"
   ]
  },
  {
   "cell_type": "code",
   "execution_count": 29,
   "metadata": {},
   "outputs": [
    {
     "data": {
      "text/plain": [
       "<matplotlib.legend.Legend at 0x1c45424dd48>"
      ]
     },
     "execution_count": 29,
     "metadata": {},
     "output_type": "execute_result"
    },
    {
     "data": {
      "image/png": "[encoded data removed]",
      "text/plain": [
       "<Figure size 432x288 with 1 Axes>"
      ]
     },
     "metadata": {
      "needs_background": "light"
     },
     "output_type": "display_data"
    }
   ],
   "source": [
    "axes = plt.axes()\n",
    "axes.hist ( df.loc[neg_mask , 'LIMIT_BAL'], alpha=0.5, color='blue', bins=bin_edges, density=True)\n",
    "axes.hist ( df.loc[pos_mask , 'LIMIT_BAL'], alpha=0.5, color='red', bins=bin_edges, density=True)\n",
    "axes.tick_params ( axis='x', labelrotation=45)\n",
    "axes.set_xlabel ( 'Credit Limit (NTS$)')\n",
    "axes.set_ylabel ('Number of accounts')\n",
    "axes.legend ( ['Not defaulted', 'Defaulted'])"
   ]
  },
  {
   "cell_type": "markdown",
   "metadata": {},
   "source": [
    "# Use of Out of Sample Cross Validation "
   ]
  },
  {
   "cell_type": "markdown",
   "metadata": {},
   "source": [
    "### Model and Generate Synthetic Data"
   ]
  },
  {
   "cell_type": "code",
   "execution_count": 30,
   "metadata": {},
   "outputs": [],
   "source": [
    "from sklearn.datasets        import make_classification\n",
    "from sklearn.model_selection import train_test_split\n",
    "from sklearn.linear_model    import LogisticRegression\n",
    "from sklearn.metrics         import roc_auc_score"
   ]
  },
  {
   "cell_type": "code",
   "execution_count": 31,
   "metadata": {},
   "outputs": [],
   "source": [
    "x_synthetic, y_synthetic = make_classification ( n_samples = 1000, n_features = 200, n_informative= 3, \n",
    "                                                n_repeated= 0, n_classes= 2, n_clusters_per_class=2,    \n",
    "                                                weights=None, flip_y=0.01, class_sep = 0.8, hypercube=True, \n",
    "                                                shift=0.0, scale=1.0, shuffle=True, random_state=24 )"
   ]
  },
  {
   "cell_type": "code",
   "execution_count": 32,
   "metadata": {},
   "outputs": [
    {
     "name": "stdout",
     "output_type": "stream",
     "text": [
      "(1000, 200) (1000,)\n"
     ]
    }
   ],
   "source": [
    "print ( x_synthetic.shape, y_synthetic.shape) "
   ]
  },
  {
   "cell_type": "code",
   "execution_count": 33,
   "metadata": {},
   "outputs": [
    {
     "data": {
      "text/plain": [
       "numpy.ndarray"
      ]
     },
     "execution_count": 33,
     "metadata": {},
     "output_type": "execute_result"
    }
   ],
   "source": [
    "type (x_synthetic)"
   ]
  },
  {
   "cell_type": "markdown",
   "metadata": {},
   "source": [
    "#### Plot the first few features as histograms\\          "
   ]
  },
  {
   "cell_type": "code",
   "execution_count": 34,
   "metadata": {},
   "outputs": [
    {
     "data": {
      "image/png": "[encoded data removed]",
      "text/plain": [
       "<Figure size 432x288 with 4 Axes>"
      ]
     },
     "metadata": {
      "needs_background": "light"
     },
     "output_type": "display_data"
    }
   ],
   "source": [
    "import matplotlib.pyplot as plt\n",
    "for plot_index in range (4):\n",
    "    plt.subplot ( 2,2,plot_index+1)\n",
    "    plt.hist ( x_synthetic[:,plot_index])\n",
    "    plt.title ( 'Histogram for feature {}' .format(plot_index+1))"
   ]
  },
  {
   "cell_type": "code",
   "execution_count": 35,
   "metadata": {},
   "outputs": [
    {
     "data": {
      "text/plain": [
       "LogisticRegression(C=1000, class_weight=None, dual=False, fit_intercept=True,\n",
       "                   intercept_scaling=1, l1_ratio=None, max_iter=100,\n",
       "                   multi_class='auto', n_jobs=None, penalty='l1',\n",
       "                   random_state=1, solver='liblinear', tol=0.0001, verbose=0,\n",
       "                   warm_start=False)"
      ]
     },
     "execution_count": 35,
     "metadata": {},
     "output_type": "execute_result"
    }
   ],
   "source": [
    "X_syn_train, X_syn_test, y_syn_train, y_syn_test = train_test_split ( x_synthetic, y_synthetic, test_size = 0.2, random_state = 24)\n",
    "lr_syn = LogisticRegression (solver='liblinear', penalty='l1', C=1000, random_state=1)\n",
    "lr_syn.fit ( X_syn_train, y_syn_train)\n"
   ]
  },
  {
   "cell_type": "markdown",
   "metadata": {},
   "source": [
    "#### Calculate the training score - get the predicted probabilities and then obtain the ROC AUC"
   ]
  },
  {
   "cell_type": "code",
   "execution_count": 36,
   "metadata": {},
   "outputs": [
    {
     "data": {
      "text/plain": [
       "0.96108125"
      ]
     },
     "execution_count": 36,
     "metadata": {},
     "output_type": "execute_result"
    }
   ],
   "source": [
    "y_syn_train_predict_proba = lr_syn.predict_proba ( X_syn_train)\n",
    "roc_auc_score (y_syn_train, y_syn_train_predict_proba[:,1])"
   ]
  },
  {
   "cell_type": "markdown",
   "metadata": {},
   "source": [
    "#### Calculate a testing score similar to how the training score was obtained "
   ]
  },
  {
   "cell_type": "code",
   "execution_count": 37,
   "metadata": {},
   "outputs": [
    {
     "data": {
      "text/plain": [
       "0.7699079631852742"
      ]
     },
     "execution_count": 37,
     "metadata": {},
     "output_type": "execute_result"
    }
   ],
   "source": [
    "y_syn_test_predict_proba = lr_syn.predict_proba ( X_syn_test)\n",
    "roc_auc_score  (y_syn_test, y_syn_test_predict_proba[:,1] )"
   ]
  },
  {
   "cell_type": "markdown",
   "metadata": {},
   "source": [
    "#### Therefore the model would appear to have overfit the training data."
   ]
  },
  {
   "cell_type": "markdown",
   "metadata": {},
   "source": [
    "#### Reduce Overfitting on the Synthetic Data Classification Problem\n"
   ]
  },
  {
   "cell_type": "markdown",
   "metadata": {},
   "source": [
    "###### Define exponents whhich will be powers of 10"
   ]
  },
  {
   "cell_type": "code",
   "execution_count": 38,
   "metadata": {},
   "outputs": [
    {
     "data": {
      "text/plain": [
       "array([ 3. ,  2.5,  2. ,  1.5,  1. ,  0.5,  0. , -0.5, -1. , -1.5, -2. ,\n",
       "       -2.5, -3. ])"
      ]
     },
     "execution_count": 38,
     "metadata": {},
     "output_type": "execute_result"
    }
   ],
   "source": [
    "C_val_exponents = np.linspace (3, -3, 13)\n",
    "C_val_exponents"
   ]
  },
  {
   "cell_type": "markdown",
   "metadata": {},
   "source": [
    "#### Vary C by the powers of 10 defined above"
   ]
  },
  {
   "cell_type": "code",
   "execution_count": 39,
   "metadata": {},
   "outputs": [
    {
     "data": {
      "text/plain": [
       "array([1.00000000e+03, 3.16227766e+02, 1.00000000e+02, 3.16227766e+01,\n",
       "       1.00000000e+01, 3.16227766e+00, 1.00000000e+00, 3.16227766e-01,\n",
       "       1.00000000e-01, 3.16227766e-02, 1.00000000e-02, 3.16227766e-03,\n",
       "       1.00000000e-03])"
      ]
     },
     "execution_count": 39,
     "metadata": {},
     "output_type": "execute_result"
    }
   ],
   "source": [
    "C_vals = np.float (10) ** C_val_exponents\n",
    "C_vals"
   ]
  },
  {
   "cell_type": "code",
   "execution_count": 40,
   "metadata": {},
   "outputs": [],
   "source": [
    "from sklearn.metrics import roc_curve"
   ]
  },
  {
   "cell_type": "markdown",
   "metadata": {},
   "source": [
    "####  Create a function to  split the data into folds, calibrate and test a model with a variety of C param values\n",
    "###  and return ..."
   ]
  },
  {
   "cell_type": "code",
   "execution_count": 41,
   "metadata": {},
   "outputs": [],
   "source": [
    "\n",
    "def cross_val_C_search (k_folds, C_vals, model, X, Y):\n",
    "    \n",
    "    # K_folds: cross validation splitter, preset with a split parameter \n",
    "    # C_vals array of C values, i.e. 0.001, 0.01, 0.1, 1, ....\n",
    "    # model object, configured to LogisticRegression\n",
    "    # X  Complete set of X columns\n",
    "    # y  Reponse variable \n",
    "\n",
    "    \n",
    "    # Returns:\n",
    "    # cv_train_roc_auc, : array (n_folds, len(C_Vals)), contains the train ROC_ AUC stats\n",
    "    # cv_test_roc_auc,  : array (n_folds, len(C_Vals)), contains the test ROC_ AUC stats\n",
    "    # cv_test_roc       : list indexed by C values and then each fold within that :(\n",
    "    #                     Each element is a tuple of lists containing fpr, tpr and thresholds\n",
    "\n",
    "    \n",
    "    n_folds = k_folds.n_splits\n",
    "    \n",
    "    # Create arrays to hold the ROC AUC measurement scores\n",
    "    cv_train_roc_auc = np.empty (( n_folds,  len (C_vals)) ) # zeros\n",
    "    cv_test_roc_auc  = np.empty (( n_folds,  len (C_vals)) ) # zeros\n",
    "    \n",
    "    # Store objects for plotting returned by metrics.roc_curve\n",
    "    # each list element will hold (tpr, fpr, thresholds)\n",
    "    cv_test_roc = [[ ]] * len ( C_vals)\n",
    "    \n",
    "    # Outer loop: train and test each of the k-folds for each value of C\n",
    "    for c_val_counter in range ( len (C_vals)):\n",
    "\n",
    "        # Count folds for each value of C\n",
    "        fold_counter = 0\n",
    "\n",
    "        \n",
    "        # Set the C value for the model object \n",
    "        model.C = C_vals[c_val_counter]\n",
    "        \n",
    "        # Inner loop, obtain the training and testing indices for each fold\n",
    "        for train_index, test_index in k_folds.split (X, Y): # iterator\n",
    "            \n",
    "            X_cv_train, X_cv_test = X[train_index], X[test_index]\n",
    "            y_cv_train, y_cv_test = Y[train_index], Y[test_index]\n",
    "\n",
    "            model.fit ( X_cv_train, y_cv_train)\n",
    "            \n",
    "            # Obtain the training ROC AUC score, remember this has shape N, 2 (pos and false probas)\n",
    "            y_cv_train_predict_proba = model.predict_proba ( X_cv_train)\n",
    "            cv_train_roc_auc [ fold_counter , c_val_counter] = roc_auc_score ( y_cv_train, y_cv_train_predict_proba[:,1] )\n",
    "            \n",
    "            # Obtain the TEST ROC AUC score\n",
    "            y_cv_test_predict_proba = model.predict_proba ( X_cv_test)\n",
    "            cv_test_roc_auc[ fold_counter, c_val_counter]   = roc_auc_score ( y_cv_test, y_cv_test_predict_proba[:,1] )\n",
    "            \n",
    "            # Obtain the testing ROC Curves for each fold\n",
    "            # roc_curve returns fpr, tpr, threshold\n",
    "            \n",
    "            this_fold_roc_obj = roc_curve (y_cv_test, y_cv_test_predict_proba[:,1])\n",
    "            \n",
    "            cv_test_roc[c_val_counter].append (this_fold_roc_obj) \n",
    "            \n",
    "            fold_counter = fold_counter + 1\n",
    "            \n",
    "        print ('Done with C = {}'.format  ( model.C ) )\n",
    "    return cv_train_roc_auc, cv_test_roc_auc, cv_test_roc\n"
   ]
  },
  {
   "cell_type": "markdown",
   "metadata": {},
   "source": [
    "#### Test the function"
   ]
  },
  {
   "cell_type": "code",
   "execution_count": 42,
   "metadata": {},
   "outputs": [
    {
     "name": "stdout",
     "output_type": "stream",
     "text": [
      "Done with C = 1000.0\n",
      "Done with C = 316.22776601683796\n",
      "Done with C = 100.0\n",
      "Done with C = 31.622776601683793\n",
      "Done with C = 10.0\n",
      "Done with C = 3.1622776601683795\n",
      "Done with C = 1.0\n",
      "Done with C = 0.31622776601683794\n",
      "Done with C = 0.1\n",
      "Done with C = 0.03162277660168379\n",
      "Done with C = 0.01\n",
      "Done with C = 0.0031622776601683794\n",
      "Done with C = 0.001\n"
     ]
    }
   ],
   "source": [
    "from sklearn.model_selection import KFold\n",
    "from sklearn.metrics import roc_curve\n",
    "\n",
    "#C_vals = [0.00005, 0.0005,0.005,0.05,0.5,1,1.5,2]\n",
    "#C_vals = [0.05,0.5,1,1.5,2]\n",
    "k_folds = KFold ( n_splits = 2, shuffle=False, random_state = None)\n",
    "cv_train_roc_auc, cv_test_roc_auc, cv_test_roc =  cross_val_C_search ( k_folds, C_vals, lr_syn, X_syn_train, y_syn_train )"
   ]
  },
  {
   "cell_type": "markdown",
   "metadata": {},
   "source": [
    "#### Plot the ROC AUC scores for train and test at each fold"
   ]
  },
  {
   "cell_type": "code",
   "execution_count": 43,
   "metadata": {},
   "outputs": [
    {
     "data": {
      "text/plain": [
       "Text(0.5, 1.0, 'Cross validation scores for each fold')"
      ]
     },
     "execution_count": 43,
     "metadata": {},
     "output_type": "execute_result"
    },
    {
     "data": {
      "image/png": "[encoded data removed]",
      "text/plain": [
       "<Figure size 432x288 with 1 Axes>"
      ]
     },
     "metadata": {
      "needs_background": "light"
     },
     "output_type": "display_data"
    }
   ],
   "source": [
    "n_folds = k_folds.n_splits\n",
    "cmap = plt.get_cmap()\n",
    "\n",
    "for this_fold in range (n_folds):\n",
    "\n",
    "    plt.plot (C_val_exponents, cv_train_roc_auc [ this_fold], '-o', \n",
    "              color=cmap(this_fold), \n",
    "              label='Training Fold{}'.format (this_fold+1) )\n",
    "\n",
    "    plt.plot (C_val_exponents, cv_test_roc_auc [ this_fold], '-x', \n",
    "              color=cmap(this_fold), \n",
    "              label='Training Fold{}'.format (this_fold+1) )\n",
    "\n",
    "plt.ylabel ('ROC AUC')\n",
    "plt.xlabel ('C Vals')\n",
    "plt.legend ( loc = [1.1, 0.2])    \n",
    "plt.title ('Cross validation scores for each fold')"
   ]
  },
  {
   "cell_type": "markdown",
   "metadata": {},
   "source": [
    "#### Therefore the model starts overfitting over C = 0.05 i.e. 10^-1.5"
   ]
  },
  {
   "cell_type": "markdown",
   "metadata": {},
   "source": [
    "##### Time to choose a threshold that gives the best true positive rate relative to false positives"
   ]
  },
  {
   "cell_type": "markdown",
   "metadata": {},
   "source": [
    "###### Find the index of the chosen C value that corresponds to the TPR and FPR and threshold arrays that were returned for all C values (we returned an 3 arrays for EACH C value and now need to just obtain the correct set of arrays."
   ]
  },
  {
   "cell_type": "code",
   "execution_count": 44,
   "metadata": {},
   "outputs": [
    {
     "data": {
      "text/plain": [
       "array([False, False, False, False, False, False, False, False, False,\n",
       "        True, False, False, False])"
      ]
     },
     "execution_count": 44,
     "metadata": {},
     "output_type": "execute_result"
    }
   ],
   "source": [
    "best_C_Val_bool = C_val_exponents == -1.5\n",
    "best_C_Val_bool"
   ]
  },
  {
   "cell_type": "code",
   "execution_count": 45,
   "metadata": {},
   "outputs": [
    {
     "data": {
      "text/plain": [
       "9"
      ]
     },
     "execution_count": 45,
     "metadata": {},
     "output_type": "execute_result"
    }
   ],
   "source": [
    "best_C_val_ix = np.nonzero (best_C_Val_bool.astype (int)  ) [0][0]\n",
    "best_C_val_ix = np.where ( best_C_Val_bool )[0][0]\n",
    "best_C_val_ix"
   ]
  },
  {
   "cell_type": "markdown",
   "metadata": {},
   "source": [
    "#### For each fold access the TPR and FPR in order to plot ROC Curves for each fold."
   ]
  },
  {
   "cell_type": "code",
   "execution_count": 46,
   "metadata": {},
   "outputs": [
    {
     "data": {
      "text/plain": [
       "<matplotlib.legend.Legend at 0x1c4549e04c8>"
      ]
     },
     "execution_count": 46,
     "metadata": {},
     "output_type": "execute_result"
    },
    {
     "data": {
      "image/png": "[encoded data removed]",
      "text/plain": [
       "<Figure size 432x288 with 1 Axes>"
      ]
     },
     "metadata": {
      "needs_background": "light"
     },
     "output_type": "display_data"
    }
   ],
   "source": [
    "this_fold = 1\n",
    "for this_fold in range (n_folds):\n",
    "    fpr = cv_test_roc [ best_C_val_ix][this_fold][0]\n",
    "    tpr = cv_test_roc [ best_C_val_ix][this_fold][1]\n",
    "    threshold = cv_test_roc [ best_C_val_ix][this_fold][2]\n",
    "    plt.plot( fpr, tpr, label = this_fold+1)\n",
    "\n",
    "plt.xlabel ('False Positive Rate')\n",
    "plt.ylabel ('True Positive Rate')\n",
    "plt.legend (title='Fold')"
   ]
  },
  {
   "cell_type": "markdown",
   "metadata": {},
   "source": [
    "#### Train the logistic regression model on all the training data"
   ]
  },
  {
   "cell_type": "markdown",
   "metadata": {},
   "source": [
    "#### set the C value and train the model"
   ]
  },
  {
   "cell_type": "code",
   "execution_count": 47,
   "metadata": {},
   "outputs": [
    {
     "data": {
      "text/plain": [
       "LogisticRegression(C=0.03162277660168379, class_weight=None, dual=False,\n",
       "                   fit_intercept=True, intercept_scaling=1, l1_ratio=None,\n",
       "                   max_iter=100, multi_class='auto', n_jobs=None, penalty='l1',\n",
       "                   random_state=1, solver='liblinear', tol=0.0001, verbose=0,\n",
       "                   warm_start=False)"
      ]
     },
     "execution_count": 47,
     "metadata": {},
     "output_type": "execute_result"
    }
   ],
   "source": [
    "lr_syn.C = 10**(-1.5)\n",
    "#lr_syn.C = 0.05\n",
    "lr_syn.fit (X_syn_train, y_syn_train)"
   ]
  },
  {
   "cell_type": "markdown",
   "metadata": {},
   "source": [
    "#### Ensure that the test and train scores are similar "
   ]
  },
  {
   "cell_type": "code",
   "execution_count": 48,
   "metadata": {},
   "outputs": [
    {
     "data": {
      "text/plain": [
       "0.8735125"
      ]
     },
     "execution_count": 48,
     "metadata": {},
     "output_type": "execute_result"
    }
   ],
   "source": [
    "y_syn_train_predict_proba = lr_syn.predict_proba ( X_syn_train)\n",
    "roc_auc_score ( y_syn_train, y_syn_train_predict_proba [:,1])\n"
   ]
  },
  {
   "cell_type": "code",
   "execution_count": 49,
   "metadata": {},
   "outputs": [
    {
     "data": {
      "text/plain": [
       "0.9037615046018408"
      ]
     },
     "execution_count": 49,
     "metadata": {},
     "output_type": "execute_result"
    }
   ],
   "source": [
    "y_syn_test_predict_proba = lr_syn.predict_proba ( X_syn_test)\n",
    "roc_auc_score ( y_syn_test, y_syn_test_predict_proba [:,1])"
   ]
  },
  {
   "cell_type": "markdown",
   "metadata": {},
   "source": [
    "#### Thus by using regularization the overfitting problem has been largely solved."
   ]
  },
  {
   "cell_type": "markdown",
   "metadata": {},
   "source": [
    "##### Have a look at the model that has been created"
   ]
  },
  {
   "cell_type": "markdown",
   "metadata": {},
   "source": [
    "##### The co-efficients after regularization - only 5 are used"
   ]
  },
  {
   "cell_type": "code",
   "execution_count": 50,
   "metadata": {},
   "outputs": [
    {
     "data": {
      "text/plain": [
       "array([ 39,  87,  88, 130, 144], dtype=int64)"
      ]
     },
     "execution_count": 50,
     "metadata": {},
     "output_type": "execute_result"
    }
   ],
   "source": [
    "np.where ( lr_syn.coef_ != 0.0 ) [1]"
   ]
  },
  {
   "cell_type": "markdown",
   "metadata": {},
   "source": [
    "#### Intercept was set to zero as well "
   ]
  },
  {
   "cell_type": "code",
   "execution_count": 51,
   "metadata": {},
   "outputs": [
    {
     "data": {
      "text/plain": [
       "array([0.])"
      ]
     },
     "execution_count": 51,
     "metadata": {},
     "output_type": "execute_result"
    }
   ],
   "source": [
    "lr_syn.intercept_ "
   ]
  },
  {
   "cell_type": "code",
   "execution_count": 52,
   "metadata": {},
   "outputs": [
    {
     "data": {
      "text/plain": [
       "'l1'"
      ]
     },
     "execution_count": 52,
     "metadata": {},
     "output_type": "execute_result"
    }
   ],
   "source": [
    "lr_syn.penalty"
   ]
  },
  {
   "cell_type": "markdown",
   "metadata": {},
   "source": [
    "# Pipelines "
   ]
  },
  {
   "cell_type": "code",
   "execution_count": 53,
   "metadata": {},
   "outputs": [],
   "source": [
    "from sklearn.linear_model    import LogisticRegression\n",
    "from sklearn.pipeline import Pipeline\n",
    "from sklearn.preprocessing import MinMaxScaler\n",
    "min_max_sc = MinMaxScaler\n",
    "lr         = LogisticRegression\n",
    "lstSteps = [('scaler', min_max_sc),\n",
    "            ('model', lr)\n",
    "           ]\n",
    "\n",
    "scale_lr_pipeline = Pipeline (steps = lstSteps ) "
   ]
  },
  {
   "cell_type": "markdown",
   "metadata": {},
   "source": [
    "# Add Interactions"
   ]
  },
  {
   "cell_type": "code",
   "execution_count": 54,
   "metadata": {},
   "outputs": [],
   "source": [
    "import sklearn\n",
    "make_interactions = sklearn.preprocessing.PolynomialFeatures (degree=2, interaction_only=False, include_bias = False)\n",
    "\n"
   ]
  },
  {
   "cell_type": "markdown",
   "metadata": {},
   "source": [
    "#### Cross Validation and Feature Engineering with the Case Study Data\n",
    "(Using the saga solver)"
   ]
  },
  {
   "cell_type": "code",
   "execution_count": 82,
   "metadata": {},
   "outputs": [
    {
     "name": "stdout",
     "output_type": "stream",
     "text": [
      "(26664, 3) (26664,)\n"
     ]
    }
   ],
   "source": [
    "X = df.loc [ :, best_features].values\n",
    "\n",
    "#Y\n",
    "print (X.shape, y.shape)"
   ]
  },
  {
   "cell_type": "markdown",
   "metadata": {},
   "source": [
    "#### Split the data into test and train"
   ]
  },
  {
   "cell_type": "code",
   "execution_count": 83,
   "metadata": {},
   "outputs": [],
   "source": [
    "sklearn.model_selection.train_test_split \n",
    "X_train, X_test, y_train, y_test = train_test_split ( X, y, test_size = 0.2, random_state = 24)"
   ]
  },
  {
   "cell_type": "markdown",
   "metadata": {},
   "source": [
    "#### Instantiate the MinMax Scaler"
   ]
  },
  {
   "cell_type": "code",
   "execution_count": 84,
   "metadata": {},
   "outputs": [],
   "source": [
    "min_max_sc = sklearn.preprocessing.MinMaxScaler ()"
   ]
  },
  {
   "cell_type": "markdown",
   "metadata": {},
   "source": [
    "#### Instantiate a logistic Regression Model "
   ]
  },
  {
   "cell_type": "code",
   "execution_count": 85,
   "metadata": {},
   "outputs": [],
   "source": [
    "from sklearn.linear_model    import LogisticRegression\n",
    "lr_syn_final = LogisticRegression (solver='saga', penalty='l1', C=1000, random_state=1, max_iter = 10000)"
   ]
  },
  {
   "cell_type": "code",
   "execution_count": 86,
   "metadata": {},
   "outputs": [
    {
     "data": {
      "text/plain": [
       "LogisticRegression(C=1000, class_weight=None, dual=False, fit_intercept=True,\n",
       "                   intercept_scaling=1, l1_ratio=None, max_iter=10000,\n",
       "                   multi_class='auto', n_jobs=None, penalty='l1',\n",
       "                   random_state=1, solver='saga', tol=0.0001, verbose=0,\n",
       "                   warm_start=False)"
      ]
     },
     "execution_count": 86,
     "metadata": {},
     "output_type": "execute_result"
    }
   ],
   "source": [
    "lr_syn_final"
   ]
  },
  {
   "cell_type": "markdown",
   "metadata": {},
   "source": [
    "# Set up a Pipeline "
   ]
  },
  {
   "cell_type": "code",
   "execution_count": 87,
   "metadata": {},
   "outputs": [],
   "source": [
    "lstSteps2 = [('scaler', min_max_sc    ),\n",
    "            ('model',   lr_syn_final  )\n",
    "           ]\n",
    "\n",
    "aPipeline = sklearn.pipeline.Pipeline (steps = lstSteps2)"
   ]
  },
  {
   "cell_type": "markdown",
   "metadata": {},
   "source": [
    "#### Just check that it's possible to get and set the "
   ]
  },
  {
   "cell_type": "code",
   "execution_count": 88,
   "metadata": {},
   "outputs": [
    {
     "data": {
      "text/plain": [
       "{'C': 1000,\n",
       " 'class_weight': None,\n",
       " 'dual': False,\n",
       " 'fit_intercept': True,\n",
       " 'intercept_scaling': 1,\n",
       " 'l1_ratio': None,\n",
       " 'max_iter': 10000,\n",
       " 'multi_class': 'auto',\n",
       " 'n_jobs': None,\n",
       " 'penalty': 'l1',\n",
       " 'random_state': 1,\n",
       " 'solver': 'saga',\n",
       " 'tol': 0.0001,\n",
       " 'verbose': 0,\n",
       " 'warm_start': False}"
      ]
     },
     "execution_count": 88,
     "metadata": {},
     "output_type": "execute_result"
    }
   ],
   "source": [
    "aPipeline['model'].get_params( )"
   ]
  },
  {
   "cell_type": "code",
   "execution_count": 81,
   "metadata": {},
   "outputs": [
    {
     "data": {
      "text/plain": [
       "LogisticRegression(C=3, class_weight=None, dual=False, fit_intercept=True,\n",
       "                   intercept_scaling=1, l1_ratio=None, max_iter=10000,\n",
       "                   multi_class='auto', n_jobs=None, penalty='l1',\n",
       "                   random_state=1, solver='saga', tol=0.0001, verbose=0,\n",
       "                   warm_start=False)"
      ]
     },
     "execution_count": 81,
     "metadata": {},
     "output_type": "execute_result"
    }
   ],
   "source": [
    "params={'C':3, 'max_iter' : 10000}\n",
    "aPipeline['model'].set_params(**params)"
   ]
  },
  {
   "cell_type": "markdown",
   "metadata": {},
   "source": [
    "#### Set up a list of regularization hyper parameters"
   ]
  },
  {
   "cell_type": "code",
   "execution_count": 89,
   "metadata": {},
   "outputs": [],
   "source": [
    "C_val_exponents = np.linspace ( 2, -3, abs( 2--3)+1)\n",
    "C_vals = np.float ( 10) ** C_val_exponents "
   ]
  },
  {
   "cell_type": "markdown",
   "metadata": {},
   "source": [
    "#### Now alter the grid search procedure"
   ]
  },
  {
   "cell_type": "code",
   "execution_count": 90,
   "metadata": {},
   "outputs": [],
   "source": [
    "\n",
    "def cross_val_C_search_pl (k_folds, C_vals, pipeline, X, Y):\n",
    "    \n",
    "    # K_folds: cross validation splitter, preset with a split parameter \n",
    "    # C_vals array of C values, i.e. 0.001, 0.01, 0.1, 1, ....\n",
    "    # Pipeline object\n",
    "    # X  Complete set of X columns\n",
    "    # y  Reponse variable \n",
    "    \n",
    "    # Returns:\n",
    "    # cv_train_roc_auc, : array (n_folds, len(C_Vals)), contains the train ROC_ AUC stats\n",
    "    # cv_test_roc_auc,  : array (n_folds, len(C_Vals)), contains the test ROC_ AUC stats\n",
    "    # cv_test_roc       : list indexed by C values and then each fold within that :(\n",
    "    #                     Each element is a tuple of lists containing fpr, tpr and thresholds\n",
    "    \n",
    "    n_folds = k_folds.n_splits\n",
    "    \n",
    "    # Create arrays to hold the ROC AUC measurement scores\n",
    "    cv_train_roc_auc = np.empty (( n_folds,  len (C_vals)) ) # zeros\n",
    "    cv_test_roc_auc  = np.empty (( n_folds,  len (C_vals)) ) # zeros\n",
    "    \n",
    "    # Store objects for plotting returned by metrics.roc_curve\n",
    "    # each list element will hold (tpr, fpr, thresholds)\n",
    "    cv_test_roc = [[ ]] * len ( C_vals)\n",
    "    \n",
    "    # Outer loop: train and test each of the k-folds for each value of C\n",
    "    for c_val_counter in range ( len (C_vals)):\n",
    "\n",
    "        # Count folds for each value of C\n",
    "        fold_counter = 0\n",
    "        \n",
    "        # Set the C value for the model object \n",
    "        #model.C = C_vals[c_val_counter]\n",
    "      \n",
    "        params={'C': C_vals[c_val_counter]}\n",
    "        pipeline['model'].set_params(**params)    \n",
    "    \n",
    "        # Inner loop, obtain the training and testing indices for each fold\n",
    "        for train_index, test_index in k_folds.split (X, Y): # iterator\n",
    "            \n",
    "            X_cv_train, X_cv_test = X[train_index], X[test_index]\n",
    "            y_cv_train, y_cv_test = Y[train_index], Y[test_index]\n",
    "\n",
    "            pipeline['model'].fit ( X_cv_train, y_cv_train)\n",
    "            \n",
    "            # Obtain the training ROC AUC score, remember this has shape N, 2 (pos and false probas)\n",
    "            y_cv_train_predict_proba = pipeline['model'].predict_proba ( X_cv_train)\n",
    "            cv_train_roc_auc [ fold_counter , c_val_counter] = roc_auc_score ( y_cv_train, y_cv_train_predict_proba[:,1] )\n",
    "            \n",
    "            # Obtain the TEST ROC AUC score\n",
    "            y_cv_test_predict_proba = pipeline['model'].predict_proba ( X_cv_test)\n",
    "            cv_test_roc_auc[ fold_counter, c_val_counter]   = roc_auc_score ( y_cv_test, y_cv_test_predict_proba[:,1] )\n",
    "            \n",
    "            # Obtain the testing ROC Curves for each fold\n",
    "            # roc_curve returns fpr, tpr, threshold\n",
    "            \n",
    "            this_fold_roc_obj = roc_curve (y_cv_test, y_cv_test_predict_proba[:,1])\n",
    "            \n",
    "            cv_test_roc[c_val_counter].append (this_fold_roc_obj) \n",
    "            \n",
    "            fold_counter = fold_counter + 1\n",
    "            \n",
    "        print ('Done with C = {}'.format  ( C_vals[c_val_counter] ) )\n",
    "    return cv_train_roc_auc, cv_test_roc_auc, cv_test_roc\n"
   ]
  },
  {
   "cell_type": "code",
   "execution_count": 91,
   "metadata": {},
   "outputs": [
    {
     "name": "stdout",
     "output_type": "stream",
     "text": [
      "Done with C = 100.0\n",
      "Done with C = 10.0\n",
      "Done with C = 1.0\n",
      "Done with C = 0.1\n",
      "Done with C = 0.01\n",
      "Done with C = 0.001\n"
     ]
    }
   ],
   "source": [
    "from sklearn.model_selection import KFold\n",
    "from sklearn.metrics import roc_curve\n",
    "\n",
    "# Obtain indexes for test and train data (both X and y s)\n",
    "k_folds = KFold ( n_splits = 2, shuffle=False, random_state = None)\n",
    "\n",
    "cv_train_roc_auc, cv_test_roc_auc, cv_test_roc =  cross_val_C_search_pl ( k_folds, C_vals, aPipeline, X_train, y_train )"
   ]
  },
  {
   "cell_type": "code",
   "execution_count": 94,
   "metadata": {},
   "outputs": [
    {
     "data": {
      "text/plain": [
       "Text(0.5, 1.0, 'Cross validation scores for each fold')"
      ]
     },
     "execution_count": 94,
     "metadata": {},
     "output_type": "execute_result"
    },
    {
     "data": {
      "image/png": "[encoded data removed]",
      "text/plain": [
       "<Figure size 432x288 with 1 Axes>"
      ]
     },
     "metadata": {
      "needs_background": "light"
     },
     "output_type": "display_data"
    }
   ],
   "source": [
    "#### Plot the ROC AUC scores for train and test at each fold\n",
    "\n",
    "n_folds = k_folds.n_splits\n",
    "cmap = plt.get_cmap()\n",
    "\n",
    "for this_fold in range (n_folds):\n",
    "    #plt.plot (C_val_exponents, cv_train_roc_auc [ this_fold], '-o', \n",
    "    #          color=cmap(this_fold), \n",
    "    #          label='Training Fold{}'.format (this_fold+1) )\n",
    "\n",
    "    plt.plot (C_val_exponents, cv_test_roc_auc [ this_fold], '-x', \n",
    "              color=cmap(this_fold), \n",
    "              label='Training Fold{}'.format (this_fold+1) )\n",
    "\n",
    "plt.ylabel ('ROC AUC')\n",
    "plt.xlabel ('C Vals')\n",
    "plt.legend ( loc = [1.1, 0.2])    \n",
    "plt.title ('Cross validation scores for each fold')"
   ]
  },
  {
   "cell_type": "code",
   "execution_count": null,
   "metadata": {},
   "outputs": [],
   "source": []
  }
 ],
 "metadata": {
  "kernelspec": {
   "display_name": "Python 3",
   "language": "python",
   "name": "python3"
  },
  "language_info": {
   "codemirror_mode": {
    "name": "ipython",
    "version": 3
   },
   "file_extension": ".py",
   "mimetype": "text/x-python",
   "name": "python",
   "nbconvert_exporter": "python",
   "pygments_lexer": "ipython3",
   "version": "3.7.6"
  }
 },
 "nbformat": 4,
 "nbformat_minor": 4
}

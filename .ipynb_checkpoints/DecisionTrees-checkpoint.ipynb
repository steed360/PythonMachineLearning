{
 "cells": [
  {
   "cell_type": "markdown",
   "metadata": {},
   "source": [
    "# Tasks"
   ]
  },
  {
   "cell_type": "markdown",
   "metadata": {},
   "source": [
    "1) Plot basic Decision Tree. Show the ROC Curve for different depths <BR>\n",
    "2) Use out of sample cross validation and show the ROC curve for each.  "
   ]
  },
  {
   "cell_type": "code",
   "execution_count": 1,
   "metadata": {},
   "outputs": [],
   "source": [
    "import numpy as np\n",
    "import pandas as pd\n",
    "import matplotlib.pyplot as plt\n",
    "%matplotlib inline\n",
    "import matplotlib as mpl\n",
    "mpl.rcParams['figure.dpi'] = 100\n",
    "import graphviz"
   ]
  },
  {
   "cell_type": "code",
   "execution_count": 2,
   "metadata": {},
   "outputs": [],
   "source": [
    "df = pd.read_csv ('chapter_1_cleaned_data.csv')"
   ]
  },
  {
   "cell_type": "markdown",
   "metadata": {},
   "source": [
    "Get a list of the column names"
   ]
  },
  {
   "cell_type": "code",
   "execution_count": 3,
   "metadata": {},
   "outputs": [
    {
     "data": {
      "text/plain": [
       "['Unnamed: 0',\n",
       " 'ID',\n",
       " 'LIMIT_BAL',\n",
       " 'SEX',\n",
       " 'EDUCATION',\n",
       " 'MARRIAGE',\n",
       " 'AGE',\n",
       " 'PAY_1',\n",
       " 'PAY_2',\n",
       " 'PAY_3',\n",
       " 'PAY_4',\n",
       " 'PAY_5',\n",
       " 'PAY_6',\n",
       " 'BILL_AMT1',\n",
       " 'BILL_AMT2',\n",
       " 'BILL_AMT3',\n",
       " 'BILL_AMT4',\n",
       " 'BILL_AMT5',\n",
       " 'BILL_AMT6',\n",
       " 'PAY_AMT1',\n",
       " 'PAY_AMT2',\n",
       " 'PAY_AMT3',\n",
       " 'PAY_AMT4',\n",
       " 'PAY_AMT5',\n",
       " 'PAY_AMT6',\n",
       " 'default payment next month',\n",
       " 'EDUCATION_2',\n",
       " 'grad school',\n",
       " 'high school',\n",
       " 'other',\n",
       " 'uni']"
      ]
     },
     "execution_count": 3,
     "metadata": {},
     "output_type": "execute_result"
    }
   ],
   "source": [
    "features_response = df.columns.tolist ()\n",
    "features_response"
   ]
  },
  {
   "cell_type": "code",
   "execution_count": 4,
   "metadata": {},
   "outputs": [
    {
     "data": {
      "text/plain": [
       "['Unnamed: 0',\n",
       " 'ID',\n",
       " 'SEX',\n",
       " 'PAY_2',\n",
       " 'PAY_3',\n",
       " 'PAY_4',\n",
       " 'PAY_5',\n",
       " 'PAY_6',\n",
       " 'EDUCATION_2',\n",
       " 'grad school',\n",
       " 'high school',\n",
       " 'other',\n",
       " 'uni']"
      ]
     },
     "execution_count": 4,
     "metadata": {},
     "output_type": "execute_result"
    }
   ],
   "source": [
    "lst_items_to_remove = [features_response[0]] +['ID', 'SEX','PAY_2','PAY_3','PAY_4','PAY_5','PAY_6','EDUCATION_2', 'grad school', 'high school', 'other', 'uni']\n",
    "lst_items_to_remove"
   ]
  },
  {
   "cell_type": "code",
   "execution_count": 5,
   "metadata": {
    "scrolled": true
   },
   "outputs": [
    {
     "data": {
      "text/plain": [
       "['LIMIT_BAL',\n",
       " 'EDUCATION',\n",
       " 'MARRIAGE',\n",
       " 'AGE',\n",
       " 'PAY_1',\n",
       " 'BILL_AMT1',\n",
       " 'BILL_AMT2',\n",
       " 'BILL_AMT3',\n",
       " 'BILL_AMT4',\n",
       " 'BILL_AMT5',\n",
       " 'BILL_AMT6',\n",
       " 'PAY_AMT1',\n",
       " 'PAY_AMT2',\n",
       " 'PAY_AMT3',\n",
       " 'PAY_AMT4',\n",
       " 'PAY_AMT5',\n",
       " 'PAY_AMT6',\n",
       " 'default payment next month']"
      ]
     },
     "execution_count": 5,
     "metadata": {},
     "output_type": "execute_result"
    }
   ],
   "source": [
    "features_response = [item for item in features_response if item not in lst_items_to_remove]\n",
    "features_response"
   ]
  },
  {
   "cell_type": "code",
   "execution_count": 6,
   "metadata": {},
   "outputs": [],
   "source": [
    "from sklearn.model_selection import train_test_split\n",
    "from sklearn import tree"
   ]
  },
  {
   "cell_type": "code",
   "execution_count": 7,
   "metadata": {},
   "outputs": [],
   "source": [
    "X_train, X_test, y_train, y_test = train_test_split ( df[features_response[:-1]]  , df['default payment next month'] , test_size = 0.2, random_state = 24)"
   ]
  },
  {
   "cell_type": "code",
   "execution_count": 8,
   "metadata": {},
   "outputs": [
    {
     "name": "stdout",
     "output_type": "stream",
     "text": [
      "(21331, 17) (21331,)\n"
     ]
    }
   ],
   "source": [
    "print (X_train.shape, y_train.shape)"
   ]
  },
  {
   "cell_type": "code",
   "execution_count": 9,
   "metadata": {},
   "outputs": [],
   "source": [
    "dt = tree.DecisionTreeClassifier ( max_depth = 2)"
   ]
  },
  {
   "cell_type": "code",
   "execution_count": 10,
   "metadata": {},
   "outputs": [
    {
     "data": {
      "text/plain": [
       "DecisionTreeClassifier(ccp_alpha=0.0, class_weight=None, criterion='gini',\n",
       "                       max_depth=2, max_features=None, max_leaf_nodes=None,\n",
       "                       min_impurity_decrease=0.0, min_impurity_split=None,\n",
       "                       min_samples_leaf=1, min_samples_split=2,\n",
       "                       min_weight_fraction_leaf=0.0, presort='deprecated',\n",
       "                       random_state=None, splitter='best')"
      ]
     },
     "execution_count": 10,
     "metadata": {},
     "output_type": "execute_result"
    }
   ],
   "source": [
    "dt.fit ( X_train, y_train)"
   ]
  },
  {
   "cell_type": "code",
   "execution_count": 11,
   "metadata": {},
   "outputs": [],
   "source": [
    "dot_data = tree.export_graphviz ( dt, proportion=True, \n",
    "                                 feature_names = features_response[:-1], \n",
    "                                 class_names=['Not Default','Default'],\n",
    "                                rounded=True)"
   ]
  },
  {
   "cell_type": "code",
   "execution_count": 12,
   "metadata": {},
   "outputs": [
    {
     "data": {
      "image/svg+xml": [
       "<?xml version=\"1.0\" encoding=\"UTF-8\" standalone=\"no\"?>\r\n",
       "<!DOCTYPE svg PUBLIC \"-//W3C//DTD SVG 1.1//EN\"\r\n",
       " \"http://www.w3.org/Graphics/SVG/1.1/DTD/svg11.dtd\">\r\n",
       "<!-- Generated by graphviz version 2.38.0 (20140413.2041)\r\n",
       " -->\r\n",
       "<!-- Title: Tree Pages: 1 -->\r\n",
       "<svg width=\"678pt\" height=\"314pt\"\r\n",
       " viewBox=\"0.00 0.00 678.00 314.00\" xmlns=\"http://www.w3.org/2000/svg\" xmlns:xlink=\"http://www.w3.org/1999/xlink\">\r\n",
       "<g id=\"graph0\" class=\"graph\" transform=\"scale(1 1) rotate(0) translate(4 310)\">\r\n",
       "<title>Tree</title>\r\n",
       "<polygon fill=\"white\" stroke=\"none\" points=\"-4,4 -4,-310 674,-310 674,4 -4,4\"/>\r\n",
       "<!-- 0 -->\r\n",
       "<g id=\"node1\" class=\"node\"><title>0</title>\r\n",
       "<path fill=\"none\" stroke=\"black\" d=\"M399,-306C399,-306 269,-306 269,-306 263,-306 257,-300 257,-294 257,-294 257,-235 257,-235 257,-229 263,-223 269,-223 269,-223 399,-223 399,-223 405,-223 411,-229 411,-235 411,-235 411,-294 411,-294 411,-300 405,-306 399,-306\"/>\r\n",
       "<text text-anchor=\"middle\" x=\"334\" y=\"-290.8\" font-family=\"Helvetica,sans-Serif\" font-size=\"14.00\">PAY_1 &lt;= 1.5</text>\r\n",
       "<text text-anchor=\"middle\" x=\"334\" y=\"-275.8\" font-family=\"Helvetica,sans-Serif\" font-size=\"14.00\">gini = 0.347</text>\r\n",
       "<text text-anchor=\"middle\" x=\"334\" y=\"-260.8\" font-family=\"Helvetica,sans-Serif\" font-size=\"14.00\">samples = 100.0%</text>\r\n",
       "<text text-anchor=\"middle\" x=\"334\" y=\"-245.8\" font-family=\"Helvetica,sans-Serif\" font-size=\"14.00\">value = [0.777, 0.223]</text>\r\n",
       "<text text-anchor=\"middle\" x=\"334\" y=\"-230.8\" font-family=\"Helvetica,sans-Serif\" font-size=\"14.00\">class = Not Default</text>\r\n",
       "</g>\r\n",
       "<!-- 1 -->\r\n",
       "<g id=\"node2\" class=\"node\"><title>1</title>\r\n",
       "<path fill=\"none\" stroke=\"black\" d=\"M313,-187C313,-187 183,-187 183,-187 177,-187 171,-181 171,-175 171,-175 171,-116 171,-116 171,-110 177,-104 183,-104 183,-104 313,-104 313,-104 319,-104 325,-110 325,-116 325,-116 325,-175 325,-175 325,-181 319,-187 313,-187\"/>\r\n",
       "<text text-anchor=\"middle\" x=\"248\" y=\"-171.8\" font-family=\"Helvetica,sans-Serif\" font-size=\"14.00\">PAY_1 &lt;= 0.5</text>\r\n",
       "<text text-anchor=\"middle\" x=\"248\" y=\"-156.8\" font-family=\"Helvetica,sans-Serif\" font-size=\"14.00\">gini = 0.277</text>\r\n",
       "<text text-anchor=\"middle\" x=\"248\" y=\"-141.8\" font-family=\"Helvetica,sans-Serif\" font-size=\"14.00\">samples = 89.5%</text>\r\n",
       "<text text-anchor=\"middle\" x=\"248\" y=\"-126.8\" font-family=\"Helvetica,sans-Serif\" font-size=\"14.00\">value = [0.834, 0.166]</text>\r\n",
       "<text text-anchor=\"middle\" x=\"248\" y=\"-111.8\" font-family=\"Helvetica,sans-Serif\" font-size=\"14.00\">class = Not Default</text>\r\n",
       "</g>\r\n",
       "<!-- 0&#45;&gt;1 -->\r\n",
       "<g id=\"edge1\" class=\"edge\"><title>0&#45;&gt;1</title>\r\n",
       "<path fill=\"none\" stroke=\"black\" d=\"M304.163,-222.907C297.626,-214.014 290.639,-204.509 283.893,-195.331\"/>\r\n",
       "<polygon fill=\"black\" stroke=\"black\" points=\"286.527,-193.005 277.785,-187.021 280.887,-197.151 286.527,-193.005\"/>\r\n",
       "<text text-anchor=\"middle\" x=\"274.011\" y=\"-208.034\" font-family=\"Helvetica,sans-Serif\" font-size=\"14.00\">True</text>\r\n",
       "</g>\r\n",
       "<!-- 4 -->\r\n",
       "<g id=\"node5\" class=\"node\"><title>4</title>\r\n",
       "<path fill=\"none\" stroke=\"black\" d=\"M486.5,-187C486.5,-187 355.5,-187 355.5,-187 349.5,-187 343.5,-181 343.5,-175 343.5,-175 343.5,-116 343.5,-116 343.5,-110 349.5,-104 355.5,-104 355.5,-104 486.5,-104 486.5,-104 492.5,-104 498.5,-110 498.5,-116 498.5,-116 498.5,-175 498.5,-175 498.5,-181 492.5,-187 486.5,-187\"/>\r\n",
       "<text text-anchor=\"middle\" x=\"421\" y=\"-171.8\" font-family=\"Helvetica,sans-Serif\" font-size=\"14.00\">BILL_AMT1 &lt;= 568.0</text>\r\n",
       "<text text-anchor=\"middle\" x=\"421\" y=\"-156.8\" font-family=\"Helvetica,sans-Serif\" font-size=\"14.00\">gini = 0.416</text>\r\n",
       "<text text-anchor=\"middle\" x=\"421\" y=\"-141.8\" font-family=\"Helvetica,sans-Serif\" font-size=\"14.00\">samples = 10.5%</text>\r\n",
       "<text text-anchor=\"middle\" x=\"421\" y=\"-126.8\" font-family=\"Helvetica,sans-Serif\" font-size=\"14.00\">value = [0.295, 0.705]</text>\r\n",
       "<text text-anchor=\"middle\" x=\"421\" y=\"-111.8\" font-family=\"Helvetica,sans-Serif\" font-size=\"14.00\">class = Default</text>\r\n",
       "</g>\r\n",
       "<!-- 0&#45;&gt;4 -->\r\n",
       "<g id=\"edge4\" class=\"edge\"><title>0&#45;&gt;4</title>\r\n",
       "<path fill=\"none\" stroke=\"black\" d=\"M364.184,-222.907C370.865,-213.923 378.009,-204.315 384.899,-195.05\"/>\r\n",
       "<polygon fill=\"black\" stroke=\"black\" points=\"387.711,-197.134 390.869,-187.021 382.093,-192.957 387.711,-197.134\"/>\r\n",
       "<text text-anchor=\"middle\" x=\"394.506\" y=\"-208.055\" font-family=\"Helvetica,sans-Serif\" font-size=\"14.00\">False</text>\r\n",
       "</g>\r\n",
       "<!-- 2 -->\r\n",
       "<g id=\"node3\" class=\"node\"><title>2</title>\r\n",
       "<path fill=\"none\" stroke=\"black\" d=\"M142,-68C142,-68 12,-68 12,-68 6,-68 0,-62 0,-56 0,-56 0,-12 0,-12 0,-6 6,-0 12,-0 12,-0 142,-0 142,-0 148,-0 154,-6 154,-12 154,-12 154,-56 154,-56 154,-62 148,-68 142,-68\"/>\r\n",
       "<text text-anchor=\"middle\" x=\"77\" y=\"-52.8\" font-family=\"Helvetica,sans-Serif\" font-size=\"14.00\">gini = 0.239</text>\r\n",
       "<text text-anchor=\"middle\" x=\"77\" y=\"-37.8\" font-family=\"Helvetica,sans-Serif\" font-size=\"14.00\">samples = 77.1%</text>\r\n",
       "<text text-anchor=\"middle\" x=\"77\" y=\"-22.8\" font-family=\"Helvetica,sans-Serif\" font-size=\"14.00\">value = [0.861, 0.139]</text>\r\n",
       "<text text-anchor=\"middle\" x=\"77\" y=\"-7.8\" font-family=\"Helvetica,sans-Serif\" font-size=\"14.00\">class = Not Default</text>\r\n",
       "</g>\r\n",
       "<!-- 1&#45;&gt;2 -->\r\n",
       "<g id=\"edge2\" class=\"edge\"><title>1&#45;&gt;2</title>\r\n",
       "<path fill=\"none\" stroke=\"black\" d=\"M184.326,-103.726C169.006,-93.9161 152.684,-83.4644 137.513,-73.7496\"/>\r\n",
       "<polygon fill=\"black\" stroke=\"black\" points=\"139.039,-70.5704 128.73,-68.1252 135.264,-76.4654 139.039,-70.5704\"/>\r\n",
       "</g>\r\n",
       "<!-- 3 -->\r\n",
       "<g id=\"node4\" class=\"node\"><title>3</title>\r\n",
       "<path fill=\"none\" stroke=\"black\" d=\"M314,-68C314,-68 184,-68 184,-68 178,-68 172,-62 172,-56 172,-56 172,-12 172,-12 172,-6 178,-0 184,-0 184,-0 314,-0 314,-0 320,-0 326,-6 326,-12 326,-12 326,-56 326,-56 326,-62 320,-68 314,-68\"/>\r\n",
       "<text text-anchor=\"middle\" x=\"249\" y=\"-52.8\" font-family=\"Helvetica,sans-Serif\" font-size=\"14.00\">gini = 0.448</text>\r\n",
       "<text text-anchor=\"middle\" x=\"249\" y=\"-37.8\" font-family=\"Helvetica,sans-Serif\" font-size=\"14.00\">samples = 12.4%</text>\r\n",
       "<text text-anchor=\"middle\" x=\"249\" y=\"-22.8\" font-family=\"Helvetica,sans-Serif\" font-size=\"14.00\">value = [0.661, 0.339]</text>\r\n",
       "<text text-anchor=\"middle\" x=\"249\" y=\"-7.8\" font-family=\"Helvetica,sans-Serif\" font-size=\"14.00\">class = Not Default</text>\r\n",
       "</g>\r\n",
       "<!-- 1&#45;&gt;3 -->\r\n",
       "<g id=\"edge3\" class=\"edge\"><title>1&#45;&gt;3</title>\r\n",
       "<path fill=\"none\" stroke=\"black\" d=\"M248.372,-103.726C248.447,-95.5175 248.526,-86.8595 248.602,-78.56\"/>\r\n",
       "<polygon fill=\"black\" stroke=\"black\" points=\"252.104,-78.3312 248.696,-68.2996 245.105,-78.2672 252.104,-78.3312\"/>\r\n",
       "</g>\r\n",
       "<!-- 5 -->\r\n",
       "<g id=\"node6\" class=\"node\"><title>5</title>\r\n",
       "<path fill=\"none\" stroke=\"black\" d=\"M486,-68C486,-68 356,-68 356,-68 350,-68 344,-62 344,-56 344,-56 344,-12 344,-12 344,-6 350,-0 356,-0 356,-0 486,-0 486,-0 492,-0 498,-6 498,-12 498,-12 498,-56 498,-56 498,-62 492,-68 486,-68\"/>\r\n",
       "<text text-anchor=\"middle\" x=\"421\" y=\"-52.8\" font-family=\"Helvetica,sans-Serif\" font-size=\"14.00\">gini = 0.473</text>\r\n",
       "<text text-anchor=\"middle\" x=\"421\" y=\"-37.8\" font-family=\"Helvetica,sans-Serif\" font-size=\"14.00\">samples = 0.3%</text>\r\n",
       "<text text-anchor=\"middle\" x=\"421\" y=\"-22.8\" font-family=\"Helvetica,sans-Serif\" font-size=\"14.00\">value = [0.615, 0.385]</text>\r\n",
       "<text text-anchor=\"middle\" x=\"421\" y=\"-7.8\" font-family=\"Helvetica,sans-Serif\" font-size=\"14.00\">class = Not Default</text>\r\n",
       "</g>\r\n",
       "<!-- 4&#45;&gt;5 -->\r\n",
       "<g id=\"edge5\" class=\"edge\"><title>4&#45;&gt;5</title>\r\n",
       "<path fill=\"none\" stroke=\"black\" d=\"M421,-103.726C421,-95.5175 421,-86.8595 421,-78.56\"/>\r\n",
       "<polygon fill=\"black\" stroke=\"black\" points=\"424.5,-78.2996 421,-68.2996 417.5,-78.2996 424.5,-78.2996\"/>\r\n",
       "</g>\r\n",
       "<!-- 6 -->\r\n",
       "<g id=\"node7\" class=\"node\"><title>6</title>\r\n",
       "<path fill=\"none\" stroke=\"black\" d=\"M658,-68C658,-68 528,-68 528,-68 522,-68 516,-62 516,-56 516,-56 516,-12 516,-12 516,-6 522,-0 528,-0 528,-0 658,-0 658,-0 664,-0 670,-6 670,-12 670,-12 670,-56 670,-56 670,-62 664,-68 658,-68\"/>\r\n",
       "<text text-anchor=\"middle\" x=\"593\" y=\"-52.8\" font-family=\"Helvetica,sans-Serif\" font-size=\"14.00\">gini = 0.408</text>\r\n",
       "<text text-anchor=\"middle\" x=\"593\" y=\"-37.8\" font-family=\"Helvetica,sans-Serif\" font-size=\"14.00\">samples = 10.2%</text>\r\n",
       "<text text-anchor=\"middle\" x=\"593\" y=\"-22.8\" font-family=\"Helvetica,sans-Serif\" font-size=\"14.00\">value = [0.286, 0.714]</text>\r\n",
       "<text text-anchor=\"middle\" x=\"593\" y=\"-7.8\" font-family=\"Helvetica,sans-Serif\" font-size=\"14.00\">class = Default</text>\r\n",
       "</g>\r\n",
       "<!-- 4&#45;&gt;6 -->\r\n",
       "<g id=\"edge6\" class=\"edge\"><title>4&#45;&gt;6</title>\r\n",
       "<path fill=\"none\" stroke=\"black\" d=\"M485.046,-103.726C500.456,-93.9161 516.873,-83.4644 532.133,-73.7496\"/>\r\n",
       "<polygon fill=\"black\" stroke=\"black\" points=\"534.412,-76.4481 540.968,-68.1252 530.652,-70.5431 534.412,-76.4481\"/>\r\n",
       "</g>\r\n",
       "</g>\r\n",
       "</svg>\r\n"
      ],
      "text/plain": [
       "<graphviz.files.Source at 0x20e4433fbc8>"
      ]
     },
     "execution_count": 12,
     "metadata": {},
     "output_type": "execute_result"
    }
   ],
   "source": [
    "graph = graphviz.Source (dot_data)\n",
    "graph"
   ]
  },
  {
   "cell_type": "code",
   "execution_count": 13,
   "metadata": {},
   "outputs": [
    {
     "data": {
      "text/plain": [
       "Text(0, 0.5, 'TPR')"
      ]
     },
     "execution_count": 13,
     "metadata": {},
     "output_type": "execute_result"
    },
    {
     "data": {
      "image/png": "[encoded data removed]",
      "text/plain": [
       "<Figure size 600x400 with 1 Axes>"
      ]
     },
     "metadata": {
      "needs_background": "light"
     },
     "output_type": "display_data"
    }
   ],
   "source": [
    "\n",
    "from sklearn.metrics import roc_curve\n",
    "\n",
    "predict_proba =  dt.predict_proba (X_test ) \n",
    "fpr, tpr, thresholds = roc_obj = roc_curve (y_test, predict_proba[:,1])\n",
    "\n",
    "plt.plot (fpr, tpr, 'g*-')\n",
    "plt.plot ( [0,1], [0,1], 'r--')\n",
    "\n",
    "#plt.hist ( predict_proba[:,1])\n",
    "\n",
    "\n",
    "plt.xlabel ('FPR')\n",
    "plt.ylabel ('TPR')\n"
   ]
  },
  {
   "cell_type": "markdown",
   "metadata": {},
   "source": [
    "#### Plot the ROC curve with different tree depths "
   ]
  },
  {
   "cell_type": "code",
   "execution_count": 14,
   "metadata": {},
   "outputs": [
    {
     "data": {
      "text/plain": [
       "<matplotlib.legend.Legend at 0x20e44df5d48>"
      ]
     },
     "execution_count": 14,
     "metadata": {},
     "output_type": "execute_result"
    },
    {
     "data": {
      "image/png": "[encoded data removed]",
      "text/plain": [
       "<Figure size 600x400 with 1 Axes>"
      ]
     },
     "metadata": {
      "needs_background": "light"
     },
     "output_type": "display_data"
    }
   ],
   "source": [
    "cmap = { 1:'k',2:'b',3:'y',4:'g',5:'pink' }\n",
    "\n",
    "#axes = plt.axes()\n",
    "\n",
    "for this_depth in [i+1 for i in range (4)]:\n",
    "    dt = tree.DecisionTreeClassifier ( max_depth = this_depth)\n",
    "    dt.fit ( X_train, y_train)\n",
    "    predict_proba =  dt.predict_proba (X_test ) \n",
    "    fpr, tpr, thresholds = roc_obj = roc_curve (y_test, predict_proba[:,1])\n",
    "    #aStr = 'depth {0}'.format ( cmap[this_depth] )  \n",
    "    plt.plot (fpr, tpr,  cmap[this_depth], label = this_depth )\n",
    "    #axes.legend ( cmap.keys() )\n",
    "\n",
    "plt.plot ( [0,1], [0,1], 'r--')\n",
    "\n",
    "plt.xlabel ('False Positive Rate')\n",
    "plt.ylabel ('True Positive Rate')\n",
    "plt.title ( 'ROC Curve at different Tree depths')    \n",
    "plt.legend(title=\"Depth\")\n"
   ]
  },
  {
   "cell_type": "markdown",
   "metadata": {},
   "source": [
    "#### Build ROC Curves for several cross validation folds "
   ]
  },
  {
   "cell_type": "markdown",
   "metadata": {},
   "source": [
    "This is just an idea that I had - it is not best practice"
   ]
  },
  {
   "cell_type": "code",
   "execution_count": 25,
   "metadata": {},
   "outputs": [
    {
     "data": {
      "text/plain": [
       "<matplotlib.legend.Legend at 0x20e447feb08>"
      ]
     },
     "execution_count": 25,
     "metadata": {},
     "output_type": "execute_result"
    },
    {
     "data": {
      "image/png": "[encoded data removed]",
      "text/plain": [
       "<Figure size 600x400 with 1 Axes>"
      ]
     },
     "metadata": {
      "needs_background": "light"
     },
     "output_type": "display_data"
    }
   ],
   "source": [
    "from sklearn.model_selection import KFold\n",
    "from sklearn.metrics import roc_curve\n",
    "from sklearn.model_selection import train_test_split\n",
    "from sklearn.metrics         import roc_auc_score\n",
    "\n",
    "#C_vals = [0.00005, 0.0005,0.005,0.05,0.5,1,1.5,2]\n",
    "#C_vals = [0.05,0.5,1,1.5,2]\n",
    "\n",
    "k_folds = KFold ( n_splits = 10, shuffle=False, random_state = None)\n",
    "\n",
    "X_train, X_test, y_train, y_test = train_test_split ( df[features_response[:-1]]  , df['default payment next month'] , test_size = 0.2, random_state = 24)\n",
    "\n",
    "X =  df[features_response[:-1]].values \n",
    "y =  df['default payment next month'].values\n",
    "\n",
    "this_fold = 0\n",
    "\n",
    "#for train_index, test_index in k_folds.split (X, y): \n",
    "for train_index, test_index in k_folds.split (X_train,y_train): \n",
    "    \n",
    "    this_fold = this_fold + 1\n",
    "    \n",
    "    X_cv_train = X[train_index]\n",
    "    y_cv_train = y[train_index]\n",
    "     \n",
    "    dt = tree.DecisionTreeClassifier ( max_depth = 5)\n",
    "    dt.fit ( X_cv_train, y_cv_train)        \n",
    "\n",
    "    X_cv_test  = X[test_index]\n",
    "    y_cv_test  = y[test_index]\n",
    "\n",
    "    predict_proba =  dt.predict_proba (X_cv_test ) \n",
    "    fpr, tpr, thresholds =  roc_curve (y_cv_test, predict_proba[:,1])\n",
    "    \n",
    "    roc_score = roc_auc_score (y_cv_test, predict_proba[:,1])    \n",
    "\n",
    "    #predict_proba =  dt.predict_proba (X_test ) \n",
    "    #fpr, tpr, thresholds =  roc_curve (y_test, predict_proba[:,1])\n",
    "\n",
    "    lab = 'ROC_AUC:{1}'.format ( this_fold, round (roc_score, 2))\n",
    "    plt.plot (fpr, tpr,  label = lab )\n",
    "    \n",
    "plt.plot ( [0,1], [0,1], 'r--')\n",
    "\n",
    "plt.xlabel ('False Positive Rate')\n",
    "plt.ylabel ('True Positive Rate')\n",
    "plt.title ( 'ROC Curve modelled on {0} different data folds of {1} rows (tree depth=5) '.format ( k_folds.n_splits,  int(X.shape [0]) / k_folds.n_splits))    \n",
    "plt.legend(title=\"Fold\")\n"
   ]
  },
  {
   "cell_type": "markdown",
   "metadata": {},
   "source": [
    "##### Apply a Grid Search"
   ]
  },
  {
   "cell_type": "markdown",
   "metadata": {},
   "source": [
    "The idea is to find the optimal hyperparameters for a Decision Tree given the dataset we have"
   ]
  },
  {
   "cell_type": "code",
   "execution_count": 16,
   "metadata": {},
   "outputs": [],
   "source": [
    "from sklearn.model_selection import GridSearchCV"
   ]
  },
  {
   "cell_type": "code",
   "execution_count": 17,
   "metadata": {},
   "outputs": [],
   "source": [
    "params = { 'max_depth':[1,2,4,6,8,10,12,14,16,18]}"
   ]
  },
  {
   "cell_type": "code",
   "execution_count": 18,
   "metadata": {},
   "outputs": [
    {
     "data": {
      "text/plain": [
       "GridSearchCV(cv=4, error_score=nan,\n",
       "             estimator=DecisionTreeClassifier(ccp_alpha=0.0, class_weight=None,\n",
       "                                              criterion='gini', max_depth=20,\n",
       "                                              max_features=None,\n",
       "                                              max_leaf_nodes=None,\n",
       "                                              min_impurity_decrease=0.0,\n",
       "                                              min_impurity_split=None,\n",
       "                                              min_samples_leaf=1,\n",
       "                                              min_samples_split=2,\n",
       "                                              min_weight_fraction_leaf=0.0,\n",
       "                                              presort='deprecated',\n",
       "                                              random_state=None,\n",
       "                                              splitter='best'),\n",
       "             iid='deprecated', n_jobs=None,\n",
       "             param_grid={'max_depth': [1, 2, 4, 6, 8, 10, 12, 14, 16, 18]},\n",
       "             pre_dispatch='2*n_jobs', refit=True, return_train_score=True,\n",
       "             scoring='roc_auc', verbose=1)"
      ]
     },
     "execution_count": 18,
     "metadata": {},
     "output_type": "execute_result"
    }
   ],
   "source": [
    "cv = GridSearchCV ( dt, param_grid=params, scoring='roc_auc',refit=True,cv=4,verbose=1,return_train_score=True)\n",
    "cv"
   ]
  },
  {
   "cell_type": "code",
   "execution_count": 19,
   "metadata": {},
   "outputs": [
    {
     "name": "stdout",
     "output_type": "stream",
     "text": [
      "Fitting 4 folds for each of 10 candidates, totalling 40 fits\n"
     ]
    },
    {
     "name": "stderr",
     "output_type": "stream",
     "text": [
      "[Parallel(n_jobs=1)]: Using backend SequentialBackend with 1 concurrent workers.\n",
      "[Parallel(n_jobs=1)]: Done  40 out of  40 | elapsed:    8.6s finished\n"
     ]
    },
    {
     "data": {
      "text/plain": [
       "GridSearchCV(cv=4, error_score=nan,\n",
       "             estimator=DecisionTreeClassifier(ccp_alpha=0.0, class_weight=None,\n",
       "                                              criterion='gini', max_depth=20,\n",
       "                                              max_features=None,\n",
       "                                              max_leaf_nodes=None,\n",
       "                                              min_impurity_decrease=0.0,\n",
       "                                              min_impurity_split=None,\n",
       "                                              min_samples_leaf=1,\n",
       "                                              min_samples_split=2,\n",
       "                                              min_weight_fraction_leaf=0.0,\n",
       "                                              presort='deprecated',\n",
       "                                              random_state=None,\n",
       "                                              splitter='best'),\n",
       "             iid='deprecated', n_jobs=None,\n",
       "             param_grid={'max_depth': [1, 2, 4, 6, 8, 10, 12, 14, 16, 18]},\n",
       "             pre_dispatch='2*n_jobs', refit=True, return_train_score=True,\n",
       "             scoring='roc_auc', verbose=1)"
      ]
     },
     "execution_count": 19,
     "metadata": {},
     "output_type": "execute_result"
    }
   ],
   "source": [
    "cv.fit ( X_train, y_train)"
   ]
  },
  {
   "cell_type": "code",
   "execution_count": 20,
   "metadata": {},
   "outputs": [
    {
     "data": {
      "text/html": [
       "<div>\n",
       "<style scoped>\n",
       "    .dataframe tbody tr th:only-of-type {\n",
       "        vertical-align: middle;\n",
       "    }\n",
       "\n",
       "    .dataframe tbody tr th {\n",
       "        vertical-align: top;\n",
       "    }\n",
       "\n",
       "    .dataframe thead th {\n",
       "        text-align: right;\n",
       "    }\n",
       "</style>\n",
       "<table border=\"1\" class=\"dataframe\">\n",
       "  <thead>\n",
       "    <tr style=\"text-align: right;\">\n",
       "      <th></th>\n",
       "      <th>mean_fit_time</th>\n",
       "      <th>std_fit_time</th>\n",
       "      <th>mean_score_time</th>\n",
       "      <th>std_score_time</th>\n",
       "      <th>param_max_depth</th>\n",
       "      <th>params</th>\n",
       "      <th>split0_test_score</th>\n",
       "      <th>split1_test_score</th>\n",
       "      <th>split2_test_score</th>\n",
       "      <th>split3_test_score</th>\n",
       "      <th>mean_test_score</th>\n",
       "      <th>std_test_score</th>\n",
       "      <th>rank_test_score</th>\n",
       "      <th>split0_train_score</th>\n",
       "      <th>split1_train_score</th>\n",
       "      <th>split2_train_score</th>\n",
       "      <th>split3_train_score</th>\n",
       "      <th>mean_train_score</th>\n",
       "      <th>std_train_score</th>\n",
       "    </tr>\n",
       "  </thead>\n",
       "  <tbody>\n",
       "    <tr>\n",
       "      <th>0</th>\n",
       "      <td>0.044791</td>\n",
       "      <td>0.015921</td>\n",
       "      <td>0.006009</td>\n",
       "      <td>0.003470</td>\n",
       "      <td>1</td>\n",
       "      <td>{'max_depth': 1}</td>\n",
       "      <td>0.639514</td>\n",
       "      <td>0.643398</td>\n",
       "      <td>0.651891</td>\n",
       "      <td>0.650753</td>\n",
       "      <td>0.646389</td>\n",
       "      <td>0.005136</td>\n",
       "      <td>7</td>\n",
       "      <td>0.648680</td>\n",
       "      <td>0.647384</td>\n",
       "      <td>0.644553</td>\n",
       "      <td>0.644934</td>\n",
       "      <td>0.646388</td>\n",
       "      <td>0.001712</td>\n",
       "    </tr>\n",
       "    <tr>\n",
       "      <th>1</th>\n",
       "      <td>0.085594</td>\n",
       "      <td>0.012801</td>\n",
       "      <td>0.007903</td>\n",
       "      <td>0.005525</td>\n",
       "      <td>2</td>\n",
       "      <td>{'max_depth': 2}</td>\n",
       "      <td>0.695134</td>\n",
       "      <td>0.699022</td>\n",
       "      <td>0.713376</td>\n",
       "      <td>0.699510</td>\n",
       "      <td>0.701761</td>\n",
       "      <td>0.006917</td>\n",
       "      <td>5</td>\n",
       "      <td>0.704034</td>\n",
       "      <td>0.702700</td>\n",
       "      <td>0.698113</td>\n",
       "      <td>0.702535</td>\n",
       "      <td>0.701845</td>\n",
       "      <td>0.002232</td>\n",
       "    </tr>\n",
       "    <tr>\n",
       "      <th>2</th>\n",
       "      <td>0.086881</td>\n",
       "      <td>0.007136</td>\n",
       "      <td>0.003367</td>\n",
       "      <td>0.003488</td>\n",
       "      <td>4</td>\n",
       "      <td>{'max_depth': 4}</td>\n",
       "      <td>0.732720</td>\n",
       "      <td>0.740116</td>\n",
       "      <td>0.746946</td>\n",
       "      <td>0.743731</td>\n",
       "      <td>0.740878</td>\n",
       "      <td>0.005294</td>\n",
       "      <td>2</td>\n",
       "      <td>0.756882</td>\n",
       "      <td>0.752256</td>\n",
       "      <td>0.749368</td>\n",
       "      <td>0.753055</td>\n",
       "      <td>0.752890</td>\n",
       "      <td>0.002682</td>\n",
       "    </tr>\n",
       "    <tr>\n",
       "      <th>3</th>\n",
       "      <td>0.154119</td>\n",
       "      <td>0.016167</td>\n",
       "      <td>0.003993</td>\n",
       "      <td>0.003993</td>\n",
       "      <td>6</td>\n",
       "      <td>{'max_depth': 6}</td>\n",
       "      <td>0.745011</td>\n",
       "      <td>0.746479</td>\n",
       "      <td>0.752309</td>\n",
       "      <td>0.741517</td>\n",
       "      <td>0.746329</td>\n",
       "      <td>0.003895</td>\n",
       "      <td>1</td>\n",
       "      <td>0.782202</td>\n",
       "      <td>0.780125</td>\n",
       "      <td>0.775228</td>\n",
       "      <td>0.774750</td>\n",
       "      <td>0.778076</td>\n",
       "      <td>0.003178</td>\n",
       "    </tr>\n",
       "    <tr>\n",
       "      <th>4</th>\n",
       "      <td>0.156093</td>\n",
       "      <td>0.006255</td>\n",
       "      <td>0.005999</td>\n",
       "      <td>0.003464</td>\n",
       "      <td>8</td>\n",
       "      <td>{'max_depth': 8}</td>\n",
       "      <td>0.730773</td>\n",
       "      <td>0.732623</td>\n",
       "      <td>0.749932</td>\n",
       "      <td>0.730515</td>\n",
       "      <td>0.735961</td>\n",
       "      <td>0.008107</td>\n",
       "      <td>3</td>\n",
       "      <td>0.811837</td>\n",
       "      <td>0.808245</td>\n",
       "      <td>0.803345</td>\n",
       "      <td>0.802003</td>\n",
       "      <td>0.806357</td>\n",
       "      <td>0.003925</td>\n",
       "    </tr>\n",
       "    <tr>\n",
       "      <th>5</th>\n",
       "      <td>0.228470</td>\n",
       "      <td>0.032673</td>\n",
       "      <td>0.008005</td>\n",
       "      <td>0.005657</td>\n",
       "      <td>10</td>\n",
       "      <td>{'max_depth': 10}</td>\n",
       "      <td>0.708451</td>\n",
       "      <td>0.705032</td>\n",
       "      <td>0.716937</td>\n",
       "      <td>0.711601</td>\n",
       "      <td>0.710505</td>\n",
       "      <td>0.004380</td>\n",
       "      <td>4</td>\n",
       "      <td>0.848756</td>\n",
       "      <td>0.853983</td>\n",
       "      <td>0.841118</td>\n",
       "      <td>0.836783</td>\n",
       "      <td>0.845160</td>\n",
       "      <td>0.006658</td>\n",
       "    </tr>\n",
       "    <tr>\n",
       "      <th>6</th>\n",
       "      <td>0.271098</td>\n",
       "      <td>0.032355</td>\n",
       "      <td>0.005990</td>\n",
       "      <td>0.003458</td>\n",
       "      <td>12</td>\n",
       "      <td>{'max_depth': 12}</td>\n",
       "      <td>0.675710</td>\n",
       "      <td>0.655011</td>\n",
       "      <td>0.674992</td>\n",
       "      <td>0.678520</td>\n",
       "      <td>0.671058</td>\n",
       "      <td>0.009358</td>\n",
       "      <td>6</td>\n",
       "      <td>0.888021</td>\n",
       "      <td>0.903541</td>\n",
       "      <td>0.885469</td>\n",
       "      <td>0.875835</td>\n",
       "      <td>0.888216</td>\n",
       "      <td>0.009947</td>\n",
       "    </tr>\n",
       "    <tr>\n",
       "      <th>7</th>\n",
       "      <td>0.285372</td>\n",
       "      <td>0.032335</td>\n",
       "      <td>0.005994</td>\n",
       "      <td>0.003460</td>\n",
       "      <td>14</td>\n",
       "      <td>{'max_depth': 14}</td>\n",
       "      <td>0.638259</td>\n",
       "      <td>0.623968</td>\n",
       "      <td>0.649759</td>\n",
       "      <td>0.656529</td>\n",
       "      <td>0.642129</td>\n",
       "      <td>0.012353</td>\n",
       "      <td>8</td>\n",
       "      <td>0.932720</td>\n",
       "      <td>0.943355</td>\n",
       "      <td>0.926127</td>\n",
       "      <td>0.916386</td>\n",
       "      <td>0.929647</td>\n",
       "      <td>0.009818</td>\n",
       "    </tr>\n",
       "    <tr>\n",
       "      <th>8</th>\n",
       "      <td>0.325146</td>\n",
       "      <td>0.046614</td>\n",
       "      <td>0.003995</td>\n",
       "      <td>0.003995</td>\n",
       "      <td>16</td>\n",
       "      <td>{'max_depth': 16}</td>\n",
       "      <td>0.613252</td>\n",
       "      <td>0.599737</td>\n",
       "      <td>0.629772</td>\n",
       "      <td>0.646569</td>\n",
       "      <td>0.622333</td>\n",
       "      <td>0.017577</td>\n",
       "      <td>9</td>\n",
       "      <td>0.960012</td>\n",
       "      <td>0.970670</td>\n",
       "      <td>0.958227</td>\n",
       "      <td>0.947016</td>\n",
       "      <td>0.958981</td>\n",
       "      <td>0.008388</td>\n",
       "    </tr>\n",
       "    <tr>\n",
       "      <th>9</th>\n",
       "      <td>0.360026</td>\n",
       "      <td>0.038157</td>\n",
       "      <td>0.007988</td>\n",
       "      <td>0.005655</td>\n",
       "      <td>18</td>\n",
       "      <td>{'max_depth': 18}</td>\n",
       "      <td>0.601395</td>\n",
       "      <td>0.598292</td>\n",
       "      <td>0.614081</td>\n",
       "      <td>0.621176</td>\n",
       "      <td>0.608736</td>\n",
       "      <td>0.009304</td>\n",
       "      <td>10</td>\n",
       "      <td>0.978694</td>\n",
       "      <td>0.985874</td>\n",
       "      <td>0.978550</td>\n",
       "      <td>0.966715</td>\n",
       "      <td>0.977458</td>\n",
       "      <td>0.006873</td>\n",
       "    </tr>\n",
       "  </tbody>\n",
       "</table>\n",
       "</div>"
      ],
      "text/plain": [
       "   mean_fit_time  std_fit_time  mean_score_time  std_score_time  \\\n",
       "0       0.044791      0.015921         0.006009        0.003470   \n",
       "1       0.085594      0.012801         0.007903        0.005525   \n",
       "2       0.086881      0.007136         0.003367        0.003488   \n",
       "3       0.154119      0.016167         0.003993        0.003993   \n",
       "4       0.156093      0.006255         0.005999        0.003464   \n",
       "5       0.228470      0.032673         0.008005        0.005657   \n",
       "6       0.271098      0.032355         0.005990        0.003458   \n",
       "7       0.285372      0.032335         0.005994        0.003460   \n",
       "8       0.325146      0.046614         0.003995        0.003995   \n",
       "9       0.360026      0.038157         0.007988        0.005655   \n",
       "\n",
       "  param_max_depth             params  split0_test_score  split1_test_score  \\\n",
       "0               1   {'max_depth': 1}           0.639514           0.643398   \n",
       "1               2   {'max_depth': 2}           0.695134           0.699022   \n",
       "2               4   {'max_depth': 4}           0.732720           0.740116   \n",
       "3               6   {'max_depth': 6}           0.745011           0.746479   \n",
       "4               8   {'max_depth': 8}           0.730773           0.732623   \n",
       "5              10  {'max_depth': 10}           0.708451           0.705032   \n",
       "6              12  {'max_depth': 12}           0.675710           0.655011   \n",
       "7              14  {'max_depth': 14}           0.638259           0.623968   \n",
       "8              16  {'max_depth': 16}           0.613252           0.599737   \n",
       "9              18  {'max_depth': 18}           0.601395           0.598292   \n",
       "\n",
       "   split2_test_score  split3_test_score  mean_test_score  std_test_score  \\\n",
       "0           0.651891           0.650753         0.646389        0.005136   \n",
       "1           0.713376           0.699510         0.701761        0.006917   \n",
       "2           0.746946           0.743731         0.740878        0.005294   \n",
       "3           0.752309           0.741517         0.746329        0.003895   \n",
       "4           0.749932           0.730515         0.735961        0.008107   \n",
       "5           0.716937           0.711601         0.710505        0.004380   \n",
       "6           0.674992           0.678520         0.671058        0.009358   \n",
       "7           0.649759           0.656529         0.642129        0.012353   \n",
       "8           0.629772           0.646569         0.622333        0.017577   \n",
       "9           0.614081           0.621176         0.608736        0.009304   \n",
       "\n",
       "   rank_test_score  split0_train_score  split1_train_score  \\\n",
       "0                7            0.648680            0.647384   \n",
       "1                5            0.704034            0.702700   \n",
       "2                2            0.756882            0.752256   \n",
       "3                1            0.782202            0.780125   \n",
       "4                3            0.811837            0.808245   \n",
       "5                4            0.848756            0.853983   \n",
       "6                6            0.888021            0.903541   \n",
       "7                8            0.932720            0.943355   \n",
       "8                9            0.960012            0.970670   \n",
       "9               10            0.978694            0.985874   \n",
       "\n",
       "   split2_train_score  split3_train_score  mean_train_score  std_train_score  \n",
       "0            0.644553            0.644934          0.646388         0.001712  \n",
       "1            0.698113            0.702535          0.701845         0.002232  \n",
       "2            0.749368            0.753055          0.752890         0.002682  \n",
       "3            0.775228            0.774750          0.778076         0.003178  \n",
       "4            0.803345            0.802003          0.806357         0.003925  \n",
       "5            0.841118            0.836783          0.845160         0.006658  \n",
       "6            0.885469            0.875835          0.888216         0.009947  \n",
       "7            0.926127            0.916386          0.929647         0.009818  \n",
       "8            0.958227            0.947016          0.958981         0.008388  \n",
       "9            0.978550            0.966715          0.977458         0.006873  "
      ]
     },
     "execution_count": 20,
     "metadata": {},
     "output_type": "execute_result"
    }
   ],
   "source": [
    "cv_results_df = pd.DataFrame ( cv.cv_results_)\n",
    "cv_results_df"
   ]
  },
  {
   "cell_type": "code",
   "execution_count": 21,
   "metadata": {},
   "outputs": [
    {
     "data": {
      "text/plain": [
       "Index(['mean_fit_time', 'std_fit_time', 'mean_score_time', 'std_score_time',\n",
       "       'param_max_depth', 'params', 'split0_test_score', 'split1_test_score',\n",
       "       'split2_test_score', 'split3_test_score', 'mean_test_score',\n",
       "       'std_test_score', 'rank_test_score', 'split0_train_score',\n",
       "       'split1_train_score', 'split2_train_score', 'split3_train_score',\n",
       "       'mean_train_score', 'std_train_score'],\n",
       "      dtype='object')"
      ]
     },
     "execution_count": 21,
     "metadata": {},
     "output_type": "execute_result"
    }
   ],
   "source": [
    "cv_results_df.columns"
   ]
  },
  {
   "cell_type": "markdown",
   "metadata": {},
   "source": [
    "Create an error bar plot of testing and training scores for each value of max_depth"
   ]
  },
  {
   "cell_type": "code",
   "execution_count": 22,
   "metadata": {},
   "outputs": [
    {
     "data": {
      "text/plain": [
       "Text(0, 0.5, 'ROC UC')"
      ]
     },
     "execution_count": 22,
     "metadata": {},
     "output_type": "execute_result"
    },
    {
     "data": {
      "image/png": "[encoded data removed]",
      "text/plain": [
       "<Figure size 600x400 with 1 Axes>"
      ]
     },
     "metadata": {
      "needs_background": "light"
     },
     "output_type": "display_data"
    }
   ],
   "source": [
    "ax = plt.axes ()\n",
    "ax.errorbar ( cv_results_df['param_max_depth'],\n",
    "             cv_results_df['mean_train_score'],\n",
    "             yerr=cv_results_df['std_train_score'] ,\n",
    "             label=\"Mean  $\\pm$1 SD training scores\")\n",
    "             \n",
    "\n",
    "ax.errorbar ( cv_results_df['param_max_depth'],\n",
    "             cv_results_df['mean_test_score'],\n",
    "             yerr=cv_results_df['std_test_score'],\n",
    "             label=\"Mean  $\\pm$1 SD testing scores\")\n",
    "\n",
    "ax.legend()\n",
    "plt.xlabel ('max_depth')\n",
    "plt.ylabel ('ROC UC')"
   ]
  },
  {
   "cell_type": "markdown",
   "metadata": {},
   "source": [
    "#### Apply a random forest"
   ]
  },
  {
   "cell_type": "code",
   "execution_count": 31,
   "metadata": {},
   "outputs": [],
   "source": [
    "from sklearn.ensemble import RandomForestClassifier\n"
   ]
  },
  {
   "cell_type": "code",
   "execution_count": 32,
   "metadata": {},
   "outputs": [],
   "source": [
    "rf = RandomForestClassifier ( \n",
    "    n_estimators = 10, \n",
    "    criterion = 'gini', \n",
    "    max_depth = 3, \n",
    "    min_samples_split = 2,\n",
    "    min_samples_leaf = 1 , min_weight_fraction_leaf = 0.0,\n",
    "    max_features = 'auto', \n",
    "    max_leaf_nodes = None, \n",
    "    min_impurity_decrease = 0.0, \n",
    "    min_impurity_split = None, \n",
    "    bootstrap = True, \n",
    "    oob_score= False, \n",
    "    n_jobs= None,\n",
    "    random_state = 4, \n",
    "    verbose = 0, \n",
    "    warm_start = False, \n",
    "    class_weight = None\n",
    ")"
   ]
  },
  {
   "cell_type": "markdown",
   "metadata": {},
   "source": [
    "Create a parameter grid."
   ]
  },
  {
   "cell_type": "code",
   "execution_count": 53,
   "metadata": {},
   "outputs": [
    {
     "data": {
      "text/plain": [
       "{'n_estimators': [10, 20, 30, 40, 50, 60, 70, 80, 90, 100]}"
      ]
     },
     "execution_count": 53,
     "metadata": {},
     "output_type": "execute_result"
    }
   ],
   "source": [
    "# Number of trees\n",
    "rf_params_ex = { 'n_estimators': list ( range ( 10, 110, 10)) }\n",
    "\n",
    "#rf_params_ex = { 'n_estimators': [60, 70] ,'max_depth' : [1,2] }\n",
    "\n",
    "rf_params_ex"
   ]
  },
  {
   "cell_type": "code",
   "execution_count": 55,
   "metadata": {},
   "outputs": [
    {
     "data": {
      "text/plain": [
       "GridSearchCV(cv=5, error_score=nan,\n",
       "             estimator=RandomForestClassifier(bootstrap=True, ccp_alpha=0.0,\n",
       "                                              class_weight=None,\n",
       "                                              criterion='gini', max_depth=3,\n",
       "                                              max_features='auto',\n",
       "                                              max_leaf_nodes=None,\n",
       "                                              max_samples=None,\n",
       "                                              min_impurity_decrease=0.0,\n",
       "                                              min_impurity_split=None,\n",
       "                                              min_samples_leaf=1,\n",
       "                                              min_samples_split=2,\n",
       "                                              min_weight_fraction_leaf=0.0,\n",
       "                                              n_estimators=10, n_jobs=None,\n",
       "                                              oob_score=False, random_state=4,\n",
       "                                              verbose=0, warm_start=False),\n",
       "             iid='deprecated', n_jobs=None,\n",
       "             param_grid={'n_estimators': [10, 20, 30, 40, 50, 60, 70, 80, 90,\n",
       "                                          100]},\n",
       "             pre_dispatch='2*n_jobs', refit=True, return_train_score=False,\n",
       "             scoring='roc_auc', verbose=0)"
      ]
     },
     "execution_count": 55,
     "metadata": {},
     "output_type": "execute_result"
    }
   ],
   "source": [
    "from sklearn.model_selection import GridSearchCV\n",
    "cv_rf_ex = GridSearchCV ( rf, param_grid = rf_params_ex, scoring= 'roc_auc')\n",
    "cv_rf_ex.cv = 5\n",
    "cv_rf_ex.fit ( X_train, y_train)"
   ]
  },
  {
   "cell_type": "code",
   "execution_count": 56,
   "metadata": {},
   "outputs": [],
   "source": [
    "cv_rf_ex_results_df = pd.DataFrame ( cv_rf_ex.cv_results_)"
   ]
  },
  {
   "cell_type": "code",
   "execution_count": 57,
   "metadata": {},
   "outputs": [
    {
     "data": {
      "text/html": [
       "<div>\n",
       "<style scoped>\n",
       "    .dataframe tbody tr th:only-of-type {\n",
       "        vertical-align: middle;\n",
       "    }\n",
       "\n",
       "    .dataframe tbody tr th {\n",
       "        vertical-align: top;\n",
       "    }\n",
       "\n",
       "    .dataframe thead th {\n",
       "        text-align: right;\n",
       "    }\n",
       "</style>\n",
       "<table border=\"1\" class=\"dataframe\">\n",
       "  <thead>\n",
       "    <tr style=\"text-align: right;\">\n",
       "      <th></th>\n",
       "      <th>mean_fit_time</th>\n",
       "      <th>std_fit_time</th>\n",
       "      <th>mean_score_time</th>\n",
       "      <th>std_score_time</th>\n",
       "      <th>param_n_estimators</th>\n",
       "      <th>params</th>\n",
       "      <th>split0_test_score</th>\n",
       "      <th>split1_test_score</th>\n",
       "      <th>split2_test_score</th>\n",
       "      <th>split3_test_score</th>\n",
       "      <th>split4_test_score</th>\n",
       "      <th>mean_test_score</th>\n",
       "      <th>std_test_score</th>\n",
       "      <th>rank_test_score</th>\n",
       "    </tr>\n",
       "  </thead>\n",
       "  <tbody>\n",
       "    <tr>\n",
       "      <th>0</th>\n",
       "      <td>0.559154</td>\n",
       "      <td>0.025816</td>\n",
       "      <td>0.026810</td>\n",
       "      <td>0.006299</td>\n",
       "      <td>10</td>\n",
       "      <td>{'n_estimators': 10}</td>\n",
       "      <td>0.746594</td>\n",
       "      <td>0.745945</td>\n",
       "      <td>0.751689</td>\n",
       "      <td>0.771846</td>\n",
       "      <td>0.766402</td>\n",
       "      <td>0.756495</td>\n",
       "      <td>0.010642</td>\n",
       "      <td>10</td>\n",
       "    </tr>\n",
       "    <tr>\n",
       "      <th>1</th>\n",
       "      <td>0.956432</td>\n",
       "      <td>0.066966</td>\n",
       "      <td>0.031247</td>\n",
       "      <td>0.000020</td>\n",
       "      <td>20</td>\n",
       "      <td>{'n_estimators': 20}</td>\n",
       "      <td>0.750097</td>\n",
       "      <td>0.753844</td>\n",
       "      <td>0.757607</td>\n",
       "      <td>0.778537</td>\n",
       "      <td>0.765789</td>\n",
       "      <td>0.761175</td>\n",
       "      <td>0.010118</td>\n",
       "      <td>9</td>\n",
       "    </tr>\n",
       "    <tr>\n",
       "      <th>2</th>\n",
       "      <td>1.316246</td>\n",
       "      <td>0.018528</td>\n",
       "      <td>0.050528</td>\n",
       "      <td>0.004477</td>\n",
       "      <td>30</td>\n",
       "      <td>{'n_estimators': 30}</td>\n",
       "      <td>0.750020</td>\n",
       "      <td>0.756322</td>\n",
       "      <td>0.757938</td>\n",
       "      <td>0.778856</td>\n",
       "      <td>0.767580</td>\n",
       "      <td>0.762143</td>\n",
       "      <td>0.010074</td>\n",
       "      <td>7</td>\n",
       "    </tr>\n",
       "    <tr>\n",
       "      <th>3</th>\n",
       "      <td>1.764644</td>\n",
       "      <td>0.011061</td>\n",
       "      <td>0.062498</td>\n",
       "      <td>0.000003</td>\n",
       "      <td>40</td>\n",
       "      <td>{'n_estimators': 40}</td>\n",
       "      <td>0.751988</td>\n",
       "      <td>0.753061</td>\n",
       "      <td>0.756997</td>\n",
       "      <td>0.780233</td>\n",
       "      <td>0.767922</td>\n",
       "      <td>0.762040</td>\n",
       "      <td>0.010702</td>\n",
       "      <td>8</td>\n",
       "    </tr>\n",
       "    <tr>\n",
       "      <th>4</th>\n",
       "      <td>2.322718</td>\n",
       "      <td>0.140739</td>\n",
       "      <td>0.079121</td>\n",
       "      <td>0.008554</td>\n",
       "      <td>50</td>\n",
       "      <td>{'n_estimators': 50}</td>\n",
       "      <td>0.753248</td>\n",
       "      <td>0.755398</td>\n",
       "      <td>0.758032</td>\n",
       "      <td>0.782004</td>\n",
       "      <td>0.767485</td>\n",
       "      <td>0.763233</td>\n",
       "      <td>0.010569</td>\n",
       "      <td>1</td>\n",
       "    </tr>\n",
       "    <tr>\n",
       "      <th>5</th>\n",
       "      <td>2.584802</td>\n",
       "      <td>0.134839</td>\n",
       "      <td>0.089459</td>\n",
       "      <td>0.006088</td>\n",
       "      <td>60</td>\n",
       "      <td>{'n_estimators': 60}</td>\n",
       "      <td>0.753124</td>\n",
       "      <td>0.755150</td>\n",
       "      <td>0.757815</td>\n",
       "      <td>0.781853</td>\n",
       "      <td>0.767627</td>\n",
       "      <td>0.763114</td>\n",
       "      <td>0.010610</td>\n",
       "      <td>2</td>\n",
       "    </tr>\n",
       "    <tr>\n",
       "      <th>6</th>\n",
       "      <td>3.282004</td>\n",
       "      <td>0.328142</td>\n",
       "      <td>0.108908</td>\n",
       "      <td>0.008539</td>\n",
       "      <td>70</td>\n",
       "      <td>{'n_estimators': 70}</td>\n",
       "      <td>0.751764</td>\n",
       "      <td>0.754817</td>\n",
       "      <td>0.757305</td>\n",
       "      <td>0.781786</td>\n",
       "      <td>0.767301</td>\n",
       "      <td>0.762595</td>\n",
       "      <td>0.010920</td>\n",
       "      <td>5</td>\n",
       "    </tr>\n",
       "    <tr>\n",
       "      <th>7</th>\n",
       "      <td>3.581722</td>\n",
       "      <td>0.181373</td>\n",
       "      <td>0.124576</td>\n",
       "      <td>0.029107</td>\n",
       "      <td>80</td>\n",
       "      <td>{'n_estimators': 80}</td>\n",
       "      <td>0.751515</td>\n",
       "      <td>0.754944</td>\n",
       "      <td>0.757293</td>\n",
       "      <td>0.782051</td>\n",
       "      <td>0.767650</td>\n",
       "      <td>0.762691</td>\n",
       "      <td>0.011076</td>\n",
       "      <td>3</td>\n",
       "    </tr>\n",
       "    <tr>\n",
       "      <th>8</th>\n",
       "      <td>4.381322</td>\n",
       "      <td>0.326865</td>\n",
       "      <td>0.187324</td>\n",
       "      <td>0.055074</td>\n",
       "      <td>90</td>\n",
       "      <td>{'n_estimators': 90}</td>\n",
       "      <td>0.750878</td>\n",
       "      <td>0.754986</td>\n",
       "      <td>0.757039</td>\n",
       "      <td>0.781704</td>\n",
       "      <td>0.766812</td>\n",
       "      <td>0.762284</td>\n",
       "      <td>0.011032</td>\n",
       "      <td>6</td>\n",
       "    </tr>\n",
       "    <tr>\n",
       "      <th>9</th>\n",
       "      <td>4.968495</td>\n",
       "      <td>0.495346</td>\n",
       "      <td>0.184489</td>\n",
       "      <td>0.076627</td>\n",
       "      <td>100</td>\n",
       "      <td>{'n_estimators': 100}</td>\n",
       "      <td>0.751308</td>\n",
       "      <td>0.755503</td>\n",
       "      <td>0.757298</td>\n",
       "      <td>0.782047</td>\n",
       "      <td>0.767213</td>\n",
       "      <td>0.762674</td>\n",
       "      <td>0.011004</td>\n",
       "      <td>4</td>\n",
       "    </tr>\n",
       "  </tbody>\n",
       "</table>\n",
       "</div>"
      ],
      "text/plain": [
       "   mean_fit_time  std_fit_time  mean_score_time  std_score_time  \\\n",
       "0       0.559154      0.025816         0.026810        0.006299   \n",
       "1       0.956432      0.066966         0.031247        0.000020   \n",
       "2       1.316246      0.018528         0.050528        0.004477   \n",
       "3       1.764644      0.011061         0.062498        0.000003   \n",
       "4       2.322718      0.140739         0.079121        0.008554   \n",
       "5       2.584802      0.134839         0.089459        0.006088   \n",
       "6       3.282004      0.328142         0.108908        0.008539   \n",
       "7       3.581722      0.181373         0.124576        0.029107   \n",
       "8       4.381322      0.326865         0.187324        0.055074   \n",
       "9       4.968495      0.495346         0.184489        0.076627   \n",
       "\n",
       "  param_n_estimators                 params  split0_test_score  \\\n",
       "0                 10   {'n_estimators': 10}           0.746594   \n",
       "1                 20   {'n_estimators': 20}           0.750097   \n",
       "2                 30   {'n_estimators': 30}           0.750020   \n",
       "3                 40   {'n_estimators': 40}           0.751988   \n",
       "4                 50   {'n_estimators': 50}           0.753248   \n",
       "5                 60   {'n_estimators': 60}           0.753124   \n",
       "6                 70   {'n_estimators': 70}           0.751764   \n",
       "7                 80   {'n_estimators': 80}           0.751515   \n",
       "8                 90   {'n_estimators': 90}           0.750878   \n",
       "9                100  {'n_estimators': 100}           0.751308   \n",
       "\n",
       "   split1_test_score  split2_test_score  split3_test_score  split4_test_score  \\\n",
       "0           0.745945           0.751689           0.771846           0.766402   \n",
       "1           0.753844           0.757607           0.778537           0.765789   \n",
       "2           0.756322           0.757938           0.778856           0.767580   \n",
       "3           0.753061           0.756997           0.780233           0.767922   \n",
       "4           0.755398           0.758032           0.782004           0.767485   \n",
       "5           0.755150           0.757815           0.781853           0.767627   \n",
       "6           0.754817           0.757305           0.781786           0.767301   \n",
       "7           0.754944           0.757293           0.782051           0.767650   \n",
       "8           0.754986           0.757039           0.781704           0.766812   \n",
       "9           0.755503           0.757298           0.782047           0.767213   \n",
       "\n",
       "   mean_test_score  std_test_score  rank_test_score  \n",
       "0         0.756495        0.010642               10  \n",
       "1         0.761175        0.010118                9  \n",
       "2         0.762143        0.010074                7  \n",
       "3         0.762040        0.010702                8  \n",
       "4         0.763233        0.010569                1  \n",
       "5         0.763114        0.010610                2  \n",
       "6         0.762595        0.010920                5  \n",
       "7         0.762691        0.011076                3  \n",
       "8         0.762284        0.011032                6  \n",
       "9         0.762674        0.011004                4  "
      ]
     },
     "execution_count": 57,
     "metadata": {},
     "output_type": "execute_result"
    }
   ],
   "source": [
    "cv_rf_ex_results_df.head(10)"
   ]
  },
  {
   "cell_type": "code",
   "execution_count": 58,
   "metadata": {},
   "outputs": [
    {
     "data": {
      "image/png": "[encoded data removed]",
      "text/plain": [
       "<Figure size 600x300 with 2 Axes>"
      ]
     },
     "metadata": {
      "needs_background": "light"
     },
     "output_type": "display_data"
    }
   ],
   "source": [
    "fig, axs = plt.subplots ( nrows=1, ncols=2, figsize= (6,3) ) \n",
    "\n",
    "axs[0].plot (\n",
    "    cv_rf_ex_results_df['param_n_estimators'],\n",
    "    cv_rf_ex_results_df['mean_fit_time'],\n",
    "    '-0'\n",
    ")\n",
    "\n",
    "axs[0].set_xlabel  ( 'Number of Trees')\n",
    "axs[0].set_ylabel  ( 'Mean fit time (seconds)')\n",
    "\n",
    "axs[1].errorbar (\n",
    "    cv_rf_ex_results_df['param_n_estimators'],\n",
    "    cv_rf_ex_results_df['mean_test_score'],\n",
    "    yerr=cv_rf_ex_results_df['std_test_score']\n",
    ")\n",
    "\n",
    "axs[1].set_xlabel  ( 'Number of Trees')\n",
    "axs[1].set_ylabel  ( 'Mean Testing ROC AUC $\\pm$1 s.d.')\n",
    "\n",
    "\n",
    "plt.tight_layout()"
   ]
  },
  {
   "cell_type": "code",
   "execution_count": 62,
   "metadata": {},
   "outputs": [
    {
     "data": {
      "text/plain": [
       "{'n_estimators': 50}"
      ]
     },
     "execution_count": 62,
     "metadata": {},
     "output_type": "execute_result"
    }
   ],
   "source": [
    "cv_rf_ex.best_params_"
   ]
  },
  {
   "cell_type": "code",
   "execution_count": 83,
   "metadata": {},
   "outputs": [
    {
     "data": {
      "text/html": [
       "<div>\n",
       "<style scoped>\n",
       "    .dataframe tbody tr th:only-of-type {\n",
       "        vertical-align: middle;\n",
       "    }\n",
       "\n",
       "    .dataframe tbody tr th {\n",
       "        vertical-align: top;\n",
       "    }\n",
       "\n",
       "    .dataframe thead th {\n",
       "        text-align: right;\n",
       "    }\n",
       "</style>\n",
       "<table border=\"1\" class=\"dataframe\">\n",
       "  <thead>\n",
       "    <tr style=\"text-align: right;\">\n",
       "      <th></th>\n",
       "      <th>Feature name</th>\n",
       "      <th>Importance</th>\n",
       "    </tr>\n",
       "  </thead>\n",
       "  <tbody>\n",
       "    <tr>\n",
       "      <th>4</th>\n",
       "      <td>PAY_1</td>\n",
       "      <td>0.609609</td>\n",
       "    </tr>\n",
       "    <tr>\n",
       "      <th>11</th>\n",
       "      <td>PAY_AMT1</td>\n",
       "      <td>0.094123</td>\n",
       "    </tr>\n",
       "    <tr>\n",
       "      <th>0</th>\n",
       "      <td>LIMIT_BAL</td>\n",
       "      <td>0.079265</td>\n",
       "    </tr>\n",
       "    <tr>\n",
       "      <th>13</th>\n",
       "      <td>PAY_AMT3</td>\n",
       "      <td>0.047067</td>\n",
       "    </tr>\n",
       "    <tr>\n",
       "      <th>12</th>\n",
       "      <td>PAY_AMT2</td>\n",
       "      <td>0.035393</td>\n",
       "    </tr>\n",
       "    <tr>\n",
       "      <th>6</th>\n",
       "      <td>BILL_AMT2</td>\n",
       "      <td>0.022422</td>\n",
       "    </tr>\n",
       "    <tr>\n",
       "      <th>14</th>\n",
       "      <td>PAY_AMT4</td>\n",
       "      <td>0.021164</td>\n",
       "    </tr>\n",
       "    <tr>\n",
       "      <th>15</th>\n",
       "      <td>PAY_AMT5</td>\n",
       "      <td>0.015962</td>\n",
       "    </tr>\n",
       "    <tr>\n",
       "      <th>10</th>\n",
       "      <td>BILL_AMT6</td>\n",
       "      <td>0.014293</td>\n",
       "    </tr>\n",
       "    <tr>\n",
       "      <th>8</th>\n",
       "      <td>BILL_AMT4</td>\n",
       "      <td>0.013454</td>\n",
       "    </tr>\n",
       "  </tbody>\n",
       "</table>\n",
       "</div>"
      ],
      "text/plain": [
       "   Feature name  Importance\n",
       "4         PAY_1    0.609609\n",
       "11     PAY_AMT1    0.094123\n",
       "0     LIMIT_BAL    0.079265\n",
       "13     PAY_AMT3    0.047067\n",
       "12     PAY_AMT2    0.035393\n",
       "6     BILL_AMT2    0.022422\n",
       "14     PAY_AMT4    0.021164\n",
       "15     PAY_AMT5    0.015962\n",
       "10    BILL_AMT6    0.014293\n",
       "8     BILL_AMT4    0.013454"
      ]
     },
     "execution_count": 83,
     "metadata": {},
     "output_type": "execute_result"
    }
   ],
   "source": [
    "df_feature_importance = pd.DataFrame (  { 'Feature name': features_response[:-1],\n",
    "                                         'Importance'   : cv_rf_ex.best_estimator_.feature_importances_\n",
    "                                        })\n",
    "\n",
    "df_feature_importance.sort_values ('Importance', ascending= False)[0:10]"
   ]
  },
  {
   "cell_type": "markdown",
   "metadata": {},
   "source": [
    "The best hyperparameter is 50 trees, what ROC AUC can be obtained on the holdout data?"
   ]
  },
  {
   "cell_type": "code",
   "execution_count": 84,
   "metadata": {},
   "outputs": [],
   "source": [
    "rf.n_estimators = 50"
   ]
  },
  {
   "cell_type": "code",
   "execution_count": 88,
   "metadata": {},
   "outputs": [
    {
     "data": {
      "text/plain": [
       "RandomForestClassifier(bootstrap=True, ccp_alpha=0.0, class_weight=None,\n",
       "                       criterion='gini', max_depth=3, max_features='auto',\n",
       "                       max_leaf_nodes=None, max_samples=None,\n",
       "                       min_impurity_decrease=0.0, min_impurity_split=None,\n",
       "                       min_samples_leaf=1, min_samples_split=2,\n",
       "                       min_weight_fraction_leaf=0.0, n_estimators=50,\n",
       "                       n_jobs=None, oob_score=False, random_state=4, verbose=0,\n",
       "                       warm_start=False)"
      ]
     },
     "execution_count": 88,
     "metadata": {},
     "output_type": "execute_result"
    }
   ],
   "source": [
    "rf.fit ( X_train, y_train)"
   ]
  },
  {
   "cell_type": "code",
   "execution_count": null,
   "metadata": {},
   "outputs": [],
   "source": []
  },
  {
   "cell_type": "code",
   "execution_count": 92,
   "metadata": {},
   "outputs": [
    {
     "name": "stdout",
     "output_type": "stream",
     "text": [
      "0.7627206206909415\n"
     ]
    }
   ],
   "source": [
    "predict_proba =  rf.predict_proba ( X_test ) \n",
    "#fpr, tpr, thresholds =  roc_curve (y_cv_test, predict_proba[:,1])\n",
    "roc_score = roc_auc_score (y_test, predict_proba[:,1])    \n",
    "print (roc_score)\n"
   ]
  },
  {
   "cell_type": "markdown",
   "metadata": {},
   "source": [
    "### Try and fit a better random forest model by varying two parameters"
   ]
  },
  {
   "cell_type": "code",
   "execution_count": 95,
   "metadata": {},
   "outputs": [
    {
     "data": {
      "text/plain": [
       "{'n_estimators': [10, 50, 200], 'max_depth': [3, 6, 9, 12]}"
      ]
     },
     "execution_count": 95,
     "metadata": {},
     "output_type": "execute_result"
    }
   ],
   "source": [
    "# Number of trees\n",
    "rf_params_ex = { 'n_estimators': [10,50,200],\n",
    "                 'max_depth'   : [3,6,9,12] \n",
    "               }\n",
    "\n",
    "rf_params_ex"
   ]
  },
  {
   "cell_type": "code",
   "execution_count": 97,
   "metadata": {},
   "outputs": [
    {
     "name": "stdout",
     "output_type": "stream",
     "text": [
      "Fitting 5 folds for each of 12 candidates, totalling 60 fits\n"
     ]
    },
    {
     "name": "stderr",
     "output_type": "stream",
     "text": [
      "[Parallel(n_jobs=1)]: Using backend SequentialBackend with 1 concurrent workers.\n",
      "[Parallel(n_jobs=1)]: Done  60 out of  60 | elapsed:  9.3min finished\n"
     ]
    },
    {
     "data": {
      "text/plain": [
       "GridSearchCV(cv=5, error_score=nan,\n",
       "             estimator=RandomForestClassifier(bootstrap=True, ccp_alpha=0.0,\n",
       "                                              class_weight=None,\n",
       "                                              criterion='gini', max_depth=3,\n",
       "                                              max_features='auto',\n",
       "                                              max_leaf_nodes=None,\n",
       "                                              max_samples=None,\n",
       "                                              min_impurity_decrease=0.0,\n",
       "                                              min_impurity_split=None,\n",
       "                                              min_samples_leaf=1,\n",
       "                                              min_samples_split=2,\n",
       "                                              min_weight_fraction_leaf=0.0,\n",
       "                                              n_estimators=50, n_jobs=None,\n",
       "                                              oob_score=False, random_state=4,\n",
       "                                              verbose=0, warm_start=False),\n",
       "             iid='deprecated', n_jobs=None,\n",
       "             param_grid={'max_depth': [3, 6, 9, 12],\n",
       "                         'n_estimators': [10, 50, 200]},\n",
       "             pre_dispatch='2*n_jobs', refit=True, return_train_score=False,\n",
       "             scoring='roc_auc', verbose=True)"
      ]
     },
     "execution_count": 97,
     "metadata": {},
     "output_type": "execute_result"
    }
   ],
   "source": [
    "cv_rf_ex = GridSearchCV ( rf, param_grid = rf_params_ex, \n",
    "                         scoring= 'roc_auc'\n",
    "                        )\n",
    "cv_rf_ex.cv = 5\n",
    "cv_rf_ex.verbose = True\n",
    "cv_rf_ex.fit ( X_train, y_train)"
   ]
  },
  {
   "cell_type": "code",
   "execution_count": 98,
   "metadata": {},
   "outputs": [],
   "source": [
    "cv_rf_ex_results_df_2 = pd.DataFrame ( cv_rf_ex.cv_results_)"
   ]
  },
  {
   "cell_type": "code",
   "execution_count": 99,
   "metadata": {},
   "outputs": [
    {
     "data": {
      "text/html": [
       "<div>\n",
       "<style scoped>\n",
       "    .dataframe tbody tr th:only-of-type {\n",
       "        vertical-align: middle;\n",
       "    }\n",
       "\n",
       "    .dataframe tbody tr th {\n",
       "        vertical-align: top;\n",
       "    }\n",
       "\n",
       "    .dataframe thead th {\n",
       "        text-align: right;\n",
       "    }\n",
       "</style>\n",
       "<table border=\"1\" class=\"dataframe\">\n",
       "  <thead>\n",
       "    <tr style=\"text-align: right;\">\n",
       "      <th></th>\n",
       "      <th>mean_fit_time</th>\n",
       "      <th>std_fit_time</th>\n",
       "      <th>mean_score_time</th>\n",
       "      <th>std_score_time</th>\n",
       "      <th>param_max_depth</th>\n",
       "      <th>param_n_estimators</th>\n",
       "      <th>params</th>\n",
       "      <th>split0_test_score</th>\n",
       "      <th>split1_test_score</th>\n",
       "      <th>split2_test_score</th>\n",
       "      <th>split3_test_score</th>\n",
       "      <th>split4_test_score</th>\n",
       "      <th>mean_test_score</th>\n",
       "      <th>std_test_score</th>\n",
       "      <th>rank_test_score</th>\n",
       "    </tr>\n",
       "  </thead>\n",
       "  <tbody>\n",
       "    <tr>\n",
       "      <th>0</th>\n",
       "      <td>0.637202</td>\n",
       "      <td>0.145242</td>\n",
       "      <td>0.035756</td>\n",
       "      <td>0.011837</td>\n",
       "      <td>3</td>\n",
       "      <td>10</td>\n",
       "      <td>{'max_depth': 3, 'n_estimators': 10}</td>\n",
       "      <td>0.746594</td>\n",
       "      <td>0.745945</td>\n",
       "      <td>0.751689</td>\n",
       "      <td>0.771846</td>\n",
       "      <td>0.766402</td>\n",
       "      <td>0.756495</td>\n",
       "      <td>0.010642</td>\n",
       "      <td>12</td>\n",
       "    </tr>\n",
       "    <tr>\n",
       "      <th>1</th>\n",
       "      <td>2.618938</td>\n",
       "      <td>0.222546</td>\n",
       "      <td>0.095976</td>\n",
       "      <td>0.009588</td>\n",
       "      <td>3</td>\n",
       "      <td>50</td>\n",
       "      <td>{'max_depth': 3, 'n_estimators': 50}</td>\n",
       "      <td>0.753248</td>\n",
       "      <td>0.755398</td>\n",
       "      <td>0.758032</td>\n",
       "      <td>0.782004</td>\n",
       "      <td>0.767485</td>\n",
       "      <td>0.763233</td>\n",
       "      <td>0.010569</td>\n",
       "      <td>9</td>\n",
       "    </tr>\n",
       "    <tr>\n",
       "      <th>2</th>\n",
       "      <td>11.174890</td>\n",
       "      <td>1.129374</td>\n",
       "      <td>0.313112</td>\n",
       "      <td>0.025191</td>\n",
       "      <td>3</td>\n",
       "      <td>200</td>\n",
       "      <td>{'max_depth': 3, 'n_estimators': 200}</td>\n",
       "      <td>0.751069</td>\n",
       "      <td>0.756028</td>\n",
       "      <td>0.756214</td>\n",
       "      <td>0.782581</td>\n",
       "      <td>0.768464</td>\n",
       "      <td>0.762871</td>\n",
       "      <td>0.011403</td>\n",
       "      <td>10</td>\n",
       "    </tr>\n",
       "    <tr>\n",
       "      <th>3</th>\n",
       "      <td>0.810880</td>\n",
       "      <td>0.011910</td>\n",
       "      <td>0.031184</td>\n",
       "      <td>0.001899</td>\n",
       "      <td>6</td>\n",
       "      <td>10</td>\n",
       "      <td>{'max_depth': 6, 'n_estimators': 10}</td>\n",
       "      <td>0.759909</td>\n",
       "      <td>0.759460</td>\n",
       "      <td>0.764322</td>\n",
       "      <td>0.782160</td>\n",
       "      <td>0.769147</td>\n",
       "      <td>0.767000</td>\n",
       "      <td>0.008351</td>\n",
       "      <td>8</td>\n",
       "    </tr>\n",
       "    <tr>\n",
       "      <th>4</th>\n",
       "      <td>5.103570</td>\n",
       "      <td>0.370355</td>\n",
       "      <td>0.124421</td>\n",
       "      <td>0.013975</td>\n",
       "      <td>6</td>\n",
       "      <td>50</td>\n",
       "      <td>{'max_depth': 6, 'n_estimators': 50}</td>\n",
       "      <td>0.763926</td>\n",
       "      <td>0.768048</td>\n",
       "      <td>0.768751</td>\n",
       "      <td>0.789816</td>\n",
       "      <td>0.775362</td>\n",
       "      <td>0.773181</td>\n",
       "      <td>0.009090</td>\n",
       "      <td>6</td>\n",
       "    </tr>\n",
       "    <tr>\n",
       "      <th>5</th>\n",
       "      <td>16.219701</td>\n",
       "      <td>0.537178</td>\n",
       "      <td>0.361130</td>\n",
       "      <td>0.018246</td>\n",
       "      <td>6</td>\n",
       "      <td>200</td>\n",
       "      <td>{'max_depth': 6, 'n_estimators': 200}</td>\n",
       "      <td>0.764659</td>\n",
       "      <td>0.770214</td>\n",
       "      <td>0.768653</td>\n",
       "      <td>0.790197</td>\n",
       "      <td>0.776448</td>\n",
       "      <td>0.774034</td>\n",
       "      <td>0.008928</td>\n",
       "      <td>4</td>\n",
       "    </tr>\n",
       "    <tr>\n",
       "      <th>6</th>\n",
       "      <td>1.241135</td>\n",
       "      <td>0.104878</td>\n",
       "      <td>0.038074</td>\n",
       "      <td>0.004256</td>\n",
       "      <td>9</td>\n",
       "      <td>10</td>\n",
       "      <td>{'max_depth': 9, 'n_estimators': 10}</td>\n",
       "      <td>0.757884</td>\n",
       "      <td>0.765688</td>\n",
       "      <td>0.768146</td>\n",
       "      <td>0.778607</td>\n",
       "      <td>0.768390</td>\n",
       "      <td>0.767743</td>\n",
       "      <td>0.006633</td>\n",
       "      <td>7</td>\n",
       "    </tr>\n",
       "    <tr>\n",
       "      <th>7</th>\n",
       "      <td>6.391650</td>\n",
       "      <td>0.355077</td>\n",
       "      <td>0.135023</td>\n",
       "      <td>0.012077</td>\n",
       "      <td>9</td>\n",
       "      <td>50</td>\n",
       "      <td>{'max_depth': 9, 'n_estimators': 50}</td>\n",
       "      <td>0.769398</td>\n",
       "      <td>0.776596</td>\n",
       "      <td>0.772401</td>\n",
       "      <td>0.788461</td>\n",
       "      <td>0.777998</td>\n",
       "      <td>0.776971</td>\n",
       "      <td>0.006503</td>\n",
       "      <td>2</td>\n",
       "    </tr>\n",
       "    <tr>\n",
       "      <th>8</th>\n",
       "      <td>24.293889</td>\n",
       "      <td>0.707186</td>\n",
       "      <td>0.495126</td>\n",
       "      <td>0.034028</td>\n",
       "      <td>9</td>\n",
       "      <td>200</td>\n",
       "      <td>{'max_depth': 9, 'n_estimators': 200}</td>\n",
       "      <td>0.767842</td>\n",
       "      <td>0.777167</td>\n",
       "      <td>0.774027</td>\n",
       "      <td>0.790203</td>\n",
       "      <td>0.779543</td>\n",
       "      <td>0.777756</td>\n",
       "      <td>0.007357</td>\n",
       "      <td>1</td>\n",
       "    </tr>\n",
       "    <tr>\n",
       "      <th>9</th>\n",
       "      <td>1.509950</td>\n",
       "      <td>0.062445</td>\n",
       "      <td>0.043032</td>\n",
       "      <td>0.002496</td>\n",
       "      <td>12</td>\n",
       "      <td>10</td>\n",
       "      <td>{'max_depth': 12, 'n_estimators': 10}</td>\n",
       "      <td>0.747322</td>\n",
       "      <td>0.765236</td>\n",
       "      <td>0.757945</td>\n",
       "      <td>0.768608</td>\n",
       "      <td>0.758766</td>\n",
       "      <td>0.759575</td>\n",
       "      <td>0.007309</td>\n",
       "      <td>11</td>\n",
       "    </tr>\n",
       "    <tr>\n",
       "      <th>10</th>\n",
       "      <td>7.595873</td>\n",
       "      <td>0.461480</td>\n",
       "      <td>0.169130</td>\n",
       "      <td>0.013063</td>\n",
       "      <td>12</td>\n",
       "      <td>50</td>\n",
       "      <td>{'max_depth': 12, 'n_estimators': 50}</td>\n",
       "      <td>0.768656</td>\n",
       "      <td>0.774012</td>\n",
       "      <td>0.767564</td>\n",
       "      <td>0.784812</td>\n",
       "      <td>0.773649</td>\n",
       "      <td>0.773739</td>\n",
       "      <td>0.006110</td>\n",
       "      <td>5</td>\n",
       "    </tr>\n",
       "    <tr>\n",
       "      <th>11</th>\n",
       "      <td>30.861041</td>\n",
       "      <td>2.024748</td>\n",
       "      <td>0.672003</td>\n",
       "      <td>0.144993</td>\n",
       "      <td>12</td>\n",
       "      <td>200</td>\n",
       "      <td>{'max_depth': 12, 'n_estimators': 200}</td>\n",
       "      <td>0.769695</td>\n",
       "      <td>0.777671</td>\n",
       "      <td>0.770845</td>\n",
       "      <td>0.787482</td>\n",
       "      <td>0.779006</td>\n",
       "      <td>0.776940</td>\n",
       "      <td>0.006412</td>\n",
       "      <td>3</td>\n",
       "    </tr>\n",
       "  </tbody>\n",
       "</table>\n",
       "</div>"
      ],
      "text/plain": [
       "    mean_fit_time  std_fit_time  mean_score_time  std_score_time  \\\n",
       "0        0.637202      0.145242         0.035756        0.011837   \n",
       "1        2.618938      0.222546         0.095976        0.009588   \n",
       "2       11.174890      1.129374         0.313112        0.025191   \n",
       "3        0.810880      0.011910         0.031184        0.001899   \n",
       "4        5.103570      0.370355         0.124421        0.013975   \n",
       "5       16.219701      0.537178         0.361130        0.018246   \n",
       "6        1.241135      0.104878         0.038074        0.004256   \n",
       "7        6.391650      0.355077         0.135023        0.012077   \n",
       "8       24.293889      0.707186         0.495126        0.034028   \n",
       "9        1.509950      0.062445         0.043032        0.002496   \n",
       "10       7.595873      0.461480         0.169130        0.013063   \n",
       "11      30.861041      2.024748         0.672003        0.144993   \n",
       "\n",
       "   param_max_depth param_n_estimators                                  params  \\\n",
       "0                3                 10    {'max_depth': 3, 'n_estimators': 10}   \n",
       "1                3                 50    {'max_depth': 3, 'n_estimators': 50}   \n",
       "2                3                200   {'max_depth': 3, 'n_estimators': 200}   \n",
       "3                6                 10    {'max_depth': 6, 'n_estimators': 10}   \n",
       "4                6                 50    {'max_depth': 6, 'n_estimators': 50}   \n",
       "5                6                200   {'max_depth': 6, 'n_estimators': 200}   \n",
       "6                9                 10    {'max_depth': 9, 'n_estimators': 10}   \n",
       "7                9                 50    {'max_depth': 9, 'n_estimators': 50}   \n",
       "8                9                200   {'max_depth': 9, 'n_estimators': 200}   \n",
       "9               12                 10   {'max_depth': 12, 'n_estimators': 10}   \n",
       "10              12                 50   {'max_depth': 12, 'n_estimators': 50}   \n",
       "11              12                200  {'max_depth': 12, 'n_estimators': 200}   \n",
       "\n",
       "    split0_test_score  split1_test_score  split2_test_score  \\\n",
       "0            0.746594           0.745945           0.751689   \n",
       "1            0.753248           0.755398           0.758032   \n",
       "2            0.751069           0.756028           0.756214   \n",
       "3            0.759909           0.759460           0.764322   \n",
       "4            0.763926           0.768048           0.768751   \n",
       "5            0.764659           0.770214           0.768653   \n",
       "6            0.757884           0.765688           0.768146   \n",
       "7            0.769398           0.776596           0.772401   \n",
       "8            0.767842           0.777167           0.774027   \n",
       "9            0.747322           0.765236           0.757945   \n",
       "10           0.768656           0.774012           0.767564   \n",
       "11           0.769695           0.777671           0.770845   \n",
       "\n",
       "    split3_test_score  split4_test_score  mean_test_score  std_test_score  \\\n",
       "0            0.771846           0.766402         0.756495        0.010642   \n",
       "1            0.782004           0.767485         0.763233        0.010569   \n",
       "2            0.782581           0.768464         0.762871        0.011403   \n",
       "3            0.782160           0.769147         0.767000        0.008351   \n",
       "4            0.789816           0.775362         0.773181        0.009090   \n",
       "5            0.790197           0.776448         0.774034        0.008928   \n",
       "6            0.778607           0.768390         0.767743        0.006633   \n",
       "7            0.788461           0.777998         0.776971        0.006503   \n",
       "8            0.790203           0.779543         0.777756        0.007357   \n",
       "9            0.768608           0.758766         0.759575        0.007309   \n",
       "10           0.784812           0.773649         0.773739        0.006110   \n",
       "11           0.787482           0.779006         0.776940        0.006412   \n",
       "\n",
       "    rank_test_score  \n",
       "0                12  \n",
       "1                 9  \n",
       "2                10  \n",
       "3                 8  \n",
       "4                 6  \n",
       "5                 4  \n",
       "6                 7  \n",
       "7                 2  \n",
       "8                 1  \n",
       "9                11  \n",
       "10                5  \n",
       "11                3  "
      ]
     },
     "execution_count": 99,
     "metadata": {},
     "output_type": "execute_result"
    }
   ],
   "source": [
    "cv_rf_ex_results_df_2"
   ]
  },
  {
   "cell_type": "code",
   "execution_count": 100,
   "metadata": {},
   "outputs": [
    {
     "data": {
      "text/plain": [
       "{'max_depth': 9, 'n_estimators': 200}"
      ]
     },
     "execution_count": 100,
     "metadata": {},
     "output_type": "execute_result"
    }
   ],
   "source": [
    "cv_rf_ex.best_params_"
   ]
  },
  {
   "cell_type": "code",
   "execution_count": 101,
   "metadata": {},
   "outputs": [
    {
     "data": {
      "text/plain": [
       "RandomForestClassifier(bootstrap=True, ccp_alpha=0.0, class_weight=None,\n",
       "                       criterion='gini', max_depth=3, max_features='auto',\n",
       "                       max_leaf_nodes=None, max_samples=None,\n",
       "                       min_impurity_decrease=0.0, min_impurity_split=None,\n",
       "                       min_samples_leaf=1, min_samples_split=2,\n",
       "                       min_weight_fraction_leaf=0.0, n_estimators=50,\n",
       "                       n_jobs=None, oob_score=False, random_state=4, verbose=0,\n",
       "                       warm_start=False)"
      ]
     },
     "execution_count": 101,
     "metadata": {},
     "output_type": "execute_result"
    }
   ],
   "source": [
    "cv_rf_ex.max_depth = 9\n",
    "cv_rf_ex.n_estimators = 200\n",
    "rf.fit ( X_train, y_train)\n",
    "\n"
   ]
  },
  {
   "cell_type": "code",
   "execution_count": null,
   "metadata": {},
   "outputs": [],
   "source": [
    "predict_proba =  rf.predict_proba ( X_test ) \n",
    "#fpr, tpr, thresholds =  roc_curve (y_cv_test, predict_proba[:,1])\n",
    "roc_score = roc_auc_score (y_test, predict_proba[:,1])    \n",
    "print (roc_score)"
   ]
  }
 ],
 "metadata": {
  "kernelspec": {
   "display_name": "Python 3",
   "language": "python",
   "name": "python3"
  },
  "language_info": {
   "codemirror_mode": {
    "name": "ipython",
    "version": 3
   },
   "file_extension": ".py",
   "mimetype": "text/x-python",
   "name": "python",
   "nbconvert_exporter": "python",
   "pygments_lexer": "ipython3",
   "version": "3.7.6"
  }
 },
 "nbformat": 4,
 "nbformat_minor": 4
}
